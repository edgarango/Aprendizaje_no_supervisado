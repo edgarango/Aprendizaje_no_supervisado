{
 "cells": [
  {
   "cell_type": "markdown",
   "metadata": {},
   "source": [
    "<div >\n",
    "<img src = \"figs/ans_banner_1920x200.png\" />\n",
    "</div>"
   ]
  },
  {
   "cell_type": "markdown",
   "metadata": {},
   "source": [
    "# Modelado de Temas\n",
    "\n",
    "Este *cuaderno* trata sobre modelado de temas o tópicos a partir de datos de texto. El objetivo del *cuaderno* es que usted obtenga una visión general del modelo de asignación latente de Dirichlet (LDA, por sus siglas en inglés). Busca también que sea capaz de crear e implementar este modelo en `Python` y que sea  capaz de evaluar e interpretar los resultados, y de identificar el mejor modelo de temas para un determinado problema. \n",
    "\n",
    "**NO** es necesario editar el archivo o hacer una entrega. Sin embargo, los ejemplos contienen celdas con código ejecutable (`en gris`), que podrá modificar  libremente. Esta puede ser una buena forma de aprender nuevas funcionalidades del *cuaderno*, o experimentar variaciones en los códigos de ejemplo."
   ]
  },
  {
   "cell_type": "markdown",
   "metadata": {},
   "source": [
    "## Introducción\n",
    "\n",
    "Todo texto presenta una variedad de temas o tópicos que se expresan a través  de palabras. El modelado de temas es una faceta del procesamiento del lenguaje natural (NLP, por sus siglas en inglés). Como vimos anteriormente, utilizar el lenguaje, textos, como datos puede ser extremadamente poderoso. \n",
    "\n",
    "En este *cuaderno* nos centraremos sobre el modelado de temas. Inmediatamente nos surge la pregunta ¿qué son los temas? Responderemos esa pregunta con un ejemplo. Habremos notado que en los días en que se llevan a cabo eventos importantes (como elecciones nacionales, desastres naturales o eventos deportivos), las publicaciones de las redes sociales tienden a centrarse en esos eventos. Las publicaciones de alguna manera reflejan los eventos del día, y lo hacen de diferentes formas. Las publicaciones pueden tener, puntos de vista divergentes que permiten que las agrupemos en grupos o clústeres de temas. Por ejemplo, la siguiente figura con un breve texto sobre ciencia de datos muestra cómo se pueden identificar palabras y asignarlas a temas."
   ]
  },
  {
   "cell_type": "markdown",
   "metadata": {},
   "source": [
    "<center>\n",
    "<img src = \"figs/topicos1.jpeg\" alt = \"topicos\" style = \"width: 500px;\"/>\n",
    "</center>\n"
   ]
  },
  {
   "cell_type": "markdown",
   "metadata": {},
   "source": [
    "En  la figura se muestra cómo palabras como *información*, *predicción*, y *estadística*, son asignadas al tema modelado; mientras que *computacional*, *producción* y *escala* son asignadas al tema ingeniería. Los modelos de temas son importantes porque ofrecen la misma función para los datos textuales que las estadísticas clásicas para los datos numéricos. Es decir, proporcionan un resumen significativo de los datos. \n",
    "\n",
    "Los modelos de temas entran en la categoría de aprendizaje no supervisado porque, casi siempre, no se conocen de antemano los temas subyacentes de los documentos. Por lo tanto, no existe una variable que guíe el aprendizaje. En términos de aprendizaje no supervisado, los modelos de temas se pueden pensar como parte del análisis de clusters, más específicamente a K-medias. Recordemos que con K-medias, primero se establece el número de clusters y luego el modelo asigna cada uno de los datos a uno de los clústers predeterminados. Lo mismo ocurre generalmente con los modelos de temas. Seleccionamos el número de temas al inicio y luego el modelo aísla las palabras que forman esa cantidad de temas. \n",
    "\n",
    "Los modelos de temas buscan entonces identificar los temas subyacentes en una colección de documentos (también referidos como corpus), utilizando las palabras contenidas en los mismos.  Para ello asumen que las palabras en el mismo documento están relacionadas y usan esa suposición para definir temas abstractos al encontrar grupos de palabras que aparecen con frecuencia una cerca de otra.  Por ejemplo, si una oración contiene las palabras *salario*, *empleado*, y *reunión*, podemos asumir que esa oración trata sobre trabajo.\n",
    "\n",
    "Este tipo de algoritmos por lo general pretenden primero determinar el número de temas, luego identificar palabras o frases concurrentes en los documentos; y a partir de esto, buscar clusters de palabras que caracterizan el documento y finalmente retornar un conjunto de temas abstractos que caracterizan el corpus.\n",
    "\n",
    "Un aspecto clave de los modelos de temas es que no producen tópicos específicos de una palabra o una frase, sino un conjunto de palabras, cada una de las cuales representa un tema abstracto. Esto se debe a que los modelos de temas entienden la proximidad de las palabras, no el contexto. Por ejemplo, en la figura siguiente, el modelo no tiene idea de lo que significan *ala*, *elevar*, *piloto*, *equipaje*, *pasajero*, o *mosca*; sólo sabe que estas palabras, generalmente, siempre que aparecen, aparecen muy próximas entre sí. Será nuestra tarea darle una interpretación (o no) a este tópico."
   ]
  },
  {
   "cell_type": "markdown",
   "metadata": {},
   "source": [
    "<center>\n",
    "<img src = \"figs/topicos3.jpeg\" alt = \"topicos3\" style = \"width: 500px;\"/>\n",
    "</center>"
   ]
  },
  {
   "cell_type": "markdown",
   "metadata": {},
   "source": [
    "Existen varios algoritmos de modelado de temas, pero quizás el más conocidos es el de asignación latente de Dirichlet, o Latent Dirichlet Allocation (LDA) en inglés. En este *cuaderno* nos centraremos en este."
   ]
  },
  {
   "cell_type": "markdown",
   "metadata": {},
   "source": [
    "## Asignación Latente de Dirichlet (LDA)\n",
    "\n",
    "En 2003, David Blei, Andrew Ng, y Michael Jordan publicaron un artículo sobre el algoritmo del modelado de temas conocido como Latent Dirichlet Allocation (LDA). LDA es un modelo probabilístico generativo, esto significa que el proceso de modelado comienza con el texto y funciona como ingeniería reversa a través del proceso que suponemos que lo generó, con el fin de identificar los parámetros de interés. En este caso, son los temas que generaron los datos que son de interés. \n",
    "\n",
    "Esencialmente LDA es una técnica de clustering que puede ser aplicada a colecciones de datos discretos como los son los documentos de texto. LDA es un modelo bayesiano jerárquico de 3 niveles en donde cada elemento o palabra de un texto se modela como una mezcla finita de temas. A su vez, cada tópico se modela como una combinación infinita de palabras. \n",
    "\n",
    "Esta técnica de aprendizaje no supervisado se diferencia de las técnicas de clustering estudiadas anteriormente porque en este caso cada observación pertenece a más de un grupo, donde la pertenencia de un elemento a un grupo se modela como una distribución de probabilidades."
   ]
  },
  {
   "cell_type": "markdown",
   "metadata": {},
   "source": [
    "### Set-up del modelo\n",
    "\n",
    "LDA representa los documentos como una mezcla de temas que generan palabras con ciertas probabilidades. Asume  que los documentos se generan siguiendo un proceso definido. Al empezar a escribir un documento:\n",
    "\n",
    "1. Decidimos el número de palabras que el documento tendrá, que surge de una distribución de Poisson.\n",
    "2. Elegimos la mezcla de temas del documento, esta mezcla surge de una distribución de Dirichlet sobre un conjunto fijo de K temas. Usando el ejemplo anterior, podríamos elegir que el documento consista 1/3 sobre aviones y 2/3 sobre automóviles. Intuitivamente, cuando utilizamos la distribución de Dirichlet estamos suponiendo que los documentos dentro del corpus se distribuirían a lo largo del simplex en donde cada vértice se representa un tema. Luego, cada documento se ubicaría más cercano a los vértices que representan los temas contenidos en él. Por ejemplo, supongamos que tenemos 7 documentos y 3 temas posibles (aviones, automóviles y barcos), podríamos representar los documentos dentro del simplex  de la siguiente manera:\n",
    "\n",
    "<center>\n",
    "<img src = \"figs/Triangulo.png\" alt = \"LDA\" style = \"width: 500px;\"/>\n",
    "</center>\n",
    "\n",
    "   De esta manera podríamos ver que cada documento es una combinación de temas. El documento 1 sería 100% sobre aviones, el documento 2 sería 50% sobre aviones y 50% sobre automóviles, el documento 5 sería 100% sobre barcos, etc.\n",
    "\n",
    "\n",
    "3. Generamos cada palabra en el documento siguiendo el siguiente esquema:\n",
    "    \n",
    "    3.1. Elegimos un tema, de acuerdo con la distribución multinomial que obtuvimos en el paso anterior, por ejemplo, podemos elegir el tópico de aviones con probabilidad 1/3 y el tópico de automóviles con 2/3.\n",
    "    \n",
    "    3.2 Usando el tópico generamos la palabra (de acuerdo con la distribución multinomial). Por ejemplo, si seleccionamos el tema de aviones, podríamos generar la palabra “piloto” con probabilidad del 20%, y “equipaje” con probabilidad del 10%, y así sucesivamente.\n",
    "\n",
    "Formalmente, definimos una palabra como un ítem de un vocabulario indexado por $\\{1, \\cdots, V\\}$. Las palabras se representan  mediante vectores de base uno, es decir, un vector donde sólo un elemento es 1 y el resto son 0. Así, usando superíndices para denotar componentes, la v-ésima palabra en el vocabulario se representa mediante un V-vector $w$ tal que $w^v = 1$ y $w^u = 0$ para $u\\neq v$. Un *documento* es una secuencia de $N$ palabras denotadas por $\\mathbf{w}=(w_1,w_2,\\cdots,w_N)$, en donde $w_n$ es la n-ésima palabra de la secuencia. Un *corpus* es una colección de $M$ documentos denotados por $\\mathbf{D}=(\\mathbf{w_1},\\mathbf{w_2},\\cdots,\\mathbf{w_m})$.\n",
    "\n",
    "Así, para cada documento del corpus $D$, LDA supone los siguientes pasos que generan cada documento:\n",
    "\n",
    "1. Decidimos $N\\sim Poisson(\\xi)$, donde $N$ son palabras del documento que surgen de un proceso de Poisson  con parámetro $\\xi$\n",
    "2. Elegimos  $\\theta\\sim Dir(\\alpha)$ donde $\\theta$  es la distribución de temas que asumimos surgen de una distribución Dirichlet con $K$ categorías.\n",
    "3. Generamos $N$ palabras, $w_n$:\n",
    "\n",
    "    3.1. Elegimos un tópico $z_n\\sim Multinomial(\\theta)$, de una distribución multinomial con parámetro $\\theta$\n",
    "  \n",
    "    3.2 Usando el tópico generamos $w_n$ de $p(w_n|z_n, \\beta)$\n",
    "\n",
    "\n",
    "Estos 3 pasos se repiten para cada documento en el corpus.\n",
    "\n",
    "Es importante que notemos que este modelo inicial cuenta con algunas simplificaciones:   \n",
    "\n",
    "  - En primer lugar, la dimensionalidad $K$ de la distribución Dirichlet (y por consiguiente la dimensionalidad de la variable de los temas $z$) se supone fija y conocida. \n",
    "  - Segundo, las probabilidades de cada palabra son parametrizadas por una matriz $\\beta$ de tamaño $K \\times V$ en donde $\\beta_{ij}=p(w^j = 1|z^i = 1)$, que trataremos como una cantidad fija que será estimada. \n",
    "\n",
    "Tomando como dados los parámetros $\\alpha$ y $\\beta$, la distribución de probabilidad conjunta de una mezcla de temas $\\theta$, un conjunto de $N$ temas $\\mathbf{z}$ y un conjunto de $N$ palabras $\\mathbf{w}$ esta dada por:\n",
    "\n",
    "$$p(\\theta, \\mathbf{z}, \\mathbf{w}|\\alpha, \\beta) = p(\\theta|\\alpha)\\prod_{n=1}^N p(z_n|\\theta)p(w_n|z_n, \\beta)$$\n",
    "\n",
    "Notemos que el lado izquierdo de esta ecuación ($p(\\theta, \\mathbf{z}, \\mathbf{w}|\\alpha, \\beta)$) corresponde a la probabilidad de que un documento $x$ aparezca en nuestro corpus. De este modo, nuestro objetivo será estimar $\\alpha$ y $\\beta$ de modo que se maximice la probabilidad de encontrar nuestra muestra de documentos.\n",
    "\n",
    "Podemos representar la solución LDA a través de una gráfica, que nos permitirá entender un poco mejor la intuición detrás del problema: \n",
    "\n",
    "<center>\n",
    "<img src = \"figs/topicos4.jpeg\" alt = \"LDA1\" style = \"width: 500px;\"/>\n",
    "</center>\n",
    "\n",
    "\n",
    "Las cajas son \"placas\" que utilizamos  para representar los 2 pasos iterativos del proceso. Dado que el proceso lo ejecutamos para cada documento del corpus, la placa externa (etiquetada como M) representa la iteración sobre cada documento. Mientras que, la iteración sobre palabras en el Paso 3 está representada por la placa  interna del diagrama, etiquetada como N. Los círculos representan los parámetros, las distribuciones y los resultados. El círculo etiquetado como W es la palabra seleccionada, que es el único dato conocido y, como tal, se utiliza para realizar \"ingeniería inversa\" en el proceso. Además de W, las otras 4 variables en el diagrama se definen de la siguiente manera:\n",
    "\n",
    "- $\\alpha$: hiperparámetro del documento del tópico para la distribución de Dirichlet.\n",
    "- $\\beta$: distribución de palabras para cada tópico.\n",
    "- $z$: variable latente del tópico.\n",
    "- $\\theta$: variable latente para la distribución de temas de cada documento.\n",
    "\n",
    "$\\alpha$ y $\\beta$ controlan la frecuencia de temas de los documentos y la frecuencia de palabra en los temas. Si $\\alpha$ aumenta, los documentos se vuelven cada vez más similares a medida que aumenta el número de temas en cada documento. Por otro lado, si $\\alpha$ disminuye, los documentos se vuelven cada vez más disímiles a medida que disminuye el número de temas en cada documento. \n",
    "\n",
    "El parámetro $\\beta$  se comporta de manera similar. Si $\\beta$ aumenta, se usan más palabras del documento para modelar un tema, mientras que un valor más bajo hace que se use una cantidad menor de palabras para un temas. Dada la complejidad de las distribuciones en LDA, no existe una solución directa, por lo que se requiere algún tipo de algoritmo de aproximación para generar los resultados. "
   ]
  },
  {
   "cell_type": "markdown",
   "metadata": {},
   "source": [
    "### Inferencia variacional\n",
    "\n",
    "El principal desafío  de este modelo es el cálculo de la distribución posterior:\n",
    "\n",
    "$$p(\\theta, \\mathbf{z}|\\mathbf{w},\\alpha, \\beta)=\\frac{p(\\theta, \\mathbf{z}, \\mathbf{w}|\\alpha, \\beta)}{p(\\mathbf{w}|\\alpha, \\beta)}$$\n",
    "\n",
    "Desafortunadamente, esta distribución no se puede calcular directamente, por ende se debe aproximar numéricamente. La inferencia variacional es uno de los algoritmos de aproximación más simples, pero tiene una derivación extensa que requiere un conocimiento significativo de la probabilidad y es material para cursos más avanzados.\n",
    "\n",
    "Sin embargo, en este *cuaderno* describiremos la intuición detrás de un algoritmo variacional simple basado en la convexidad. \n",
    "\n",
    "#### Intuición\n",
    "\n",
    "\n",
    "La intuición detrás de la inferencia variacional es que, si la distribución real es intratable, entonces se debe encontrar una distribución más simple, muy cercana a la distribución verdadera, que es manejable, para que la inferencia sea posible. En otras palabras, dado que es imposible inferir la distribución real debido a su  complejidad, buscamos encontrar una distribución más simple que sea una buena aproximación de la distribución real.\n"
   ]
  },
  {
   "cell_type": "markdown",
   "metadata": {},
   "source": [
    "<center>\n",
    "<img src = \"figs/topicos5.jpeg\" alt = \"LDA1\" style = \"width: 500px;\"/>\n",
    "</center>\n",
    "\n"
   ]
  },
  {
   "cell_type": "markdown",
   "metadata": {},
   "source": [
    "La inferencia variacional es como tratar de ver animales en un zoológico lleno de gente. Los animales del zoológico están en un hábitat cerrado que, en este ejemplo, es la distribución posterior. Los visitantes en realidad no pueden ingresar al hábitat, por lo que los visitantes deben conformarse con ver el hábitat desde la posición más cercana posible, que es la aproximación posterior (es decir, la mejor aproximación del hábitat). Si hay mucha gente en el zoológico, puede ser difícil llegar a ese punto de vista óptimo. La gente generalmente comienza en la parte de atrás de la multitud y avanza estratégicamente hacia ese punto de vista óptimo. El paso de los visitantes desde la parte trasera de la multitud al punto de vista óptimo es el camino de optimización. La inferencia variacional es simplemente el proceso de acercarse lo mejor posible al punto deseado sabiendo que en realidad no se puede alcanzar el punto deseado.\n",
    "\n",
    "Con la intuición  desarrollada veamos una aplicación en `Python`."
   ]
  },
  {
   "cell_type": "markdown",
   "metadata": {},
   "source": [
    "## LDA en `Python`\n",
    "\n",
    "\n",
    "Ilustremos ahora la implementación de LDA en `Phyton`. Para ello vamos a usar textos que contienen  páginas sobre distintos ensayos. Por la frecuencia de palabras tenemos la sospecha de que estas páginas se refieren a [Chomsky](https://en.wikipedia.org/wiki/Noam_Chomsky), [Freud](https://en.wikipedia.org/wiki/Sigmund_Freud), y [Voltaire](https://en.wikipedia.org/wiki/Voltaire). El objetivo será entonces ver si podemos encontrar de forma no supervisada estas páginas."
   ]
  },
  {
   "cell_type": "code",
   "execution_count": 1,
   "metadata": {},
   "outputs": [
    {
     "data": {
      "text/html": [
       "<div>\n",
       "<style scoped>\n",
       "    .dataframe tbody tr th:only-of-type {\n",
       "        vertical-align: middle;\n",
       "    }\n",
       "\n",
       "    .dataframe tbody tr th {\n",
       "        vertical-align: top;\n",
       "    }\n",
       "\n",
       "    .dataframe thead th {\n",
       "        text-align: right;\n",
       "    }\n",
       "</style>\n",
       "<table border=\"1\" class=\"dataframe\">\n",
       "  <thead>\n",
       "    <tr style=\"text-align: right;\">\n",
       "      <th></th>\n",
       "      <th>texto</th>\n",
       "      <th>titulo</th>\n",
       "      <th>pagina</th>\n",
       "    </tr>\n",
       "  </thead>\n",
       "  <tbody>\n",
       "    <tr>\n",
       "      <th>0</th>\n",
       "      <td>Introducción Noam Chomsky. Avram Noam Chomsky ...</td>\n",
       "      <td>Chomsky</td>\n",
       "      <td>1</td>\n",
       "    </tr>\n",
       "    <tr>\n",
       "      <th>1</th>\n",
       "      <td>toda su construcción intelectual. Si de algo n...</td>\n",
       "      <td>Chomsky</td>\n",
       "      <td>2</td>\n",
       "    </tr>\n",
       "    <tr>\n",
       "      <th>2</th>\n",
       "      <td>tales como la ya lejana Guerra de Vietnam (la ...</td>\n",
       "      <td>Chomsky</td>\n",
       "      <td>3</td>\n",
       "    </tr>\n",
       "    <tr>\n",
       "      <th>3</th>\n",
       "      <td>un sistema de financiación sin parangón, que d...</td>\n",
       "      <td>Chomsky</td>\n",
       "      <td>4</td>\n",
       "    </tr>\n",
       "    <tr>\n",
       "      <th>4</th>\n",
       "      <td>de la lingüística y de las ciencias cognitivas...</td>\n",
       "      <td>Chomsky</td>\n",
       "      <td>5</td>\n",
       "    </tr>\n",
       "  </tbody>\n",
       "</table>\n",
       "</div>"
      ],
      "text/plain": [
       "                                               texto   titulo  pagina\n",
       "0  Introducción Noam Chomsky. Avram Noam Chomsky ...  Chomsky       1\n",
       "1  toda su construcción intelectual. Si de algo n...  Chomsky       2\n",
       "2  tales como la ya lejana Guerra de Vietnam (la ...  Chomsky       3\n",
       "3  un sistema de financiación sin parangón, que d...  Chomsky       4\n",
       "4  de la lingüística y de las ciencias cognitivas...  Chomsky       5"
      ]
     },
     "execution_count": 1,
     "metadata": {},
     "output_type": "execute_result"
    }
   ],
   "source": [
    "# Cargamos las librerías a utilizar\n",
    "import pandas as pd\n",
    "import numpy as np\n",
    "\n",
    "# Cargamos los datos \n",
    "ensayos= pd.read_csv('data/ensayos.csv', sep=',')\n",
    "ensayos.head()"
   ]
  },
  {
   "cell_type": "code",
   "execution_count": 2,
   "metadata": {},
   "outputs": [
    {
     "data": {
      "text/plain": [
       "(269, 3)"
      ]
     },
     "execution_count": 2,
     "metadata": {},
     "output_type": "execute_result"
    }
   ],
   "source": [
    "ensayos.shape"
   ]
  },
  {
   "cell_type": "markdown",
   "metadata": {},
   "source": [
    "Los datos entonces contienen 269 entradas donde fueron catalogadas como pertenecientes a alguno de estos 3 autores. De estas, 101 páginas se refieren a Voltaire, 85 a Freud, y 83 a Chomsky. En nuestra tarea no supervisada ignoraremos por ahora esta información."
   ]
  },
  {
   "cell_type": "code",
   "execution_count": 3,
   "metadata": {},
   "outputs": [
    {
     "data": {
      "text/plain": [
       "Voltaire    101\n",
       "Freud        85\n",
       "Chomsky      83\n",
       "Name: titulo, dtype: int64"
      ]
     },
     "execution_count": 3,
     "metadata": {},
     "output_type": "execute_result"
    }
   ],
   "source": [
    "ensayos.titulo.value_counts()"
   ]
  },
  {
   "cell_type": "markdown",
   "metadata": {},
   "source": [
    "Antes de proceder con el análisis de datos tenemos que normalizar, para ello cargaremos las librerías y utilizaremos la función que creamos en el *cuaderno: Sistemas de Recomendación basado en Contenidos* "
   ]
  },
  {
   "cell_type": "code",
   "execution_count": 4,
   "metadata": {},
   "outputs": [],
   "source": [
    "# Cargamos las librerías a utilizar\n",
    "import unidecode\n",
    "import re\n",
    "import spacy\n",
    "\n",
    "# Cargamos el modelo para el idioma deseado (por ejemplo, español)\n",
    "nlp = spacy.load(\"es_core_news_sm\")\n",
    "\n",
    "\n",
    "# Cargamos las stopwords extra\n",
    "extra_stopwords = pd.read_csv('data/extra_stopwords.csv', sep=',',header=None)\n",
    "extra_stopwords.columns = ['stopwords']\n",
    "extra_stopwords=set(extra_stopwords['stopwords'].to_list())\n",
    "\n",
    "# Agregamos a nuestro modelo de SpaCy\n",
    "nlp.Defaults.stop_words |= extra_stopwords\n",
    "\n",
    "\n",
    "# Definimos nuestra función limpiadora\n",
    "def text_cleaning(txt):\n",
    "    \n",
    "    # Eliminar caracteres especiales\n",
    "    out = unidecode.unidecode(txt)\n",
    "    out = re.sub(\"[^\\\\w\\\\s]|\\n\", ' ', out)\n",
    "    out = re.sub(\"\\d+\", \"\", out)\n",
    "    # Poner en minúsculas\n",
    "    out = out.lower()\n",
    "    # Reemplazar palabras\n",
    "    out = re.sub('tv', ' ', out)\n",
    "    out = re.sub('miniserie', 'miniseriedetv', out)\n",
    "    out = re.sub('\\s+', ' ', out)\n",
    "    #NLP object\n",
    "    out = nlp(out)\n",
    "    # Eliminar Stopwords\n",
    "    out = [token.text for token in out if not token.is_stop]\n",
    "    out = \" \".join(out)\n",
    "    # Obtener los lemas de cada palabra\n",
    "    lemmas =[token.lemma_ for token in nlp(out)]\n",
    "    # Convertir la lista de lemmas nuevamente a texto\n",
    "    out = \" \".join(lemmas)\n",
    "    # Remover palabras muy cortas\n",
    "    out = [token.text for token in nlp(out) if len(token) > 2]\n",
    "    \n",
    "    return out"
   ]
  },
  {
   "cell_type": "markdown",
   "metadata": {},
   "source": [
    "Aplicamos esta función sobre las filas que contienen el texto:"
   ]
  },
  {
   "cell_type": "code",
   "execution_count": 5,
   "metadata": {},
   "outputs": [],
   "source": [
    "clean = list(map(text_cleaning, ensayos['texto']))"
   ]
  },
  {
   "cell_type": "markdown",
   "metadata": {},
   "source": [
    "Así la fila 100 lucirá de la siguiente manera y podemos ver que se refiere a Freud:"
   ]
  },
  {
   "cell_type": "code",
   "execution_count": 6,
   "metadata": {},
   "outputs": [
    {
     "name": "stdout",
     "output_type": "stream",
     "text": [
      "['serio', 'candidatura', 'premio', 'nobel', 'freud', 'escribio', 'publico', 'magistral', 'libro', 'malestar', 'cultura', 'contribución', 'significativo', 'autor', 'pensamiento', 'contemporaneo', 'obstante', 'progresion', 'cancer', 'consecuent', 'dolor', 'seriar', 'unico', 'motivo', 'preocupacion', 'freud', 'ano', 'venidero', 'fruto', 'persecucion', 'nazi', 'freud', 'ver', 'obligado', 'abandonar', 'viena', 'refugiar', 'amado', 'londr', 'freud', 'llego', 'londres', 'recuperar', 'viaje', 'animo', 'reemprender', 'escrito', 'epocar', 'termino', 'ultima', 'obra', 'moises', 'religion', 'monoteista', 'labor', 'terapeutar', 'paciente', 'obstante', 'cancer', 'progreso', 'devino', 'inoperable', 'largo', 'agonia', 'soporto', 'estoicamente', 'murio', 'noche', 'septiembre', 'ceniza', 'reposar', 'golders', 'green', 'londres', 'freud', 'gestapo', 'estallido', 'guerra', 'mundial', 'adolf', 'hitler', 'promover', 'durisima', 'represalia', 'comunidad', 'judia', 'alemán', 'judio', 'austriaco', 'temiar', 'medida', 'extender', 'territorio', 'principio', 'freud', 'encontrar', 'respondio', 'ironia', 'noticia', 'libro', 'psicoanalista', 'habiar', 'quemado', 'publicamente', 'berlin', 'progresamos', 'exclamo', 'edad', 'medio', 'quemado', 'conformar', 'quemar', 'libro', 'dejar', 'oportuno', 'mentar', 'palabra', 'premonitoria', 'heinrich', 'heinar', 'poeta', 'romantico', 'origen', 'judio', 'dejar', 'escrita', 'quemar', 'libro', 'acabar', 'quemar', 'ser', 'humano', 'efecto', 'nacionalismo', 'antisemitar', 'violento', 'extremo', 'extendio', 'polvoro', 'austria', 'freud', 'termino', 'aceptar', 'necesidad', 'abandonar', 'viena', 'movio', 'cielo', 'tierra', 'salvoconducto', 'allegado', 'presidente', 'roosevelt', 'intercedio', 'favor', 'finalmente', 'nazi', 'acceder', 'reganadient', 'freud', 'obligado', 'firmar', 'carta', 'dejar', 'constancia', 'persona', 'excelente', 'trato', 'recibido', 'autoridad', 'nazi', 'circunstancia', 'luctuoso', 'freud', 'respondio', 'sarcasmo', 'pedir', 'anadir', 'ultima', 'line']\n"
     ]
    }
   ],
   "source": [
    "print(clean[100])"
   ]
  },
  {
   "cell_type": "markdown",
   "metadata": {},
   "source": [
    "### Modelado de temas con [Gensim](https://radimrehurek.com)\n",
    "\n",
    "Con los datos tokenizados vamos a cargar la primero utilizaremos la librería  [gensim](https://radimrehurek.com/gensim/index.html) que contiene múltiples  funciones que facilitan el modelado de temas. \n",
    "\n",
    "El primer paso es generar una representación de diccionario del documento, esto en términos de [gensim](https://radimrehurek.com/gensim/index.html), implica crear un mapeo entre palabras y un identificador."
   ]
  },
  {
   "cell_type": "code",
   "execution_count": 7,
   "metadata": {},
   "outputs": [
    {
     "data": {
      "text/plain": [
       "<gensim.corpora.dictionary.Dictionary at 0x137f33850>"
      ]
     },
     "execution_count": 7,
     "metadata": {},
     "output_type": "execute_result"
    }
   ],
   "source": [
    "# Cargamos la función \n",
    "from gensim.corpora import Dictionary\n",
    "\n",
    "# Creamos la representación de diccionario del documento\n",
    "dictionary = Dictionary(clean)\n",
    "dictionary"
   ]
  },
  {
   "cell_type": "markdown",
   "metadata": {},
   "source": [
    "Ahora haremos un paso opcional, y es el uso de la función `filter_extremes` para remover palabras que aparecen en menos de 20 páginas o en más de 50% de las páginas: "
   ]
  },
  {
   "cell_type": "code",
   "execution_count": 8,
   "metadata": {},
   "outputs": [],
   "source": [
    "dictionary.filter_extremes(no_below=20, no_above=0.5)"
   ]
  },
  {
   "cell_type": "markdown",
   "metadata": {},
   "source": [
    "Estamos en condiciones de vectorizar el documento usando la función `doc2bow` que va a crear el corpus con la matriz de frecuencia de los documentos:"
   ]
  },
  {
   "cell_type": "code",
   "execution_count": 9,
   "metadata": {},
   "outputs": [],
   "source": [
    "corpus = [dictionary.doc2bow(doc) for doc in clean]"
   ]
  },
  {
   "cell_type": "markdown",
   "metadata": {},
   "source": [
    "Con esto podemos ver el número de palabras únicas con el que vamos a estimar LDA:"
   ]
  },
  {
   "cell_type": "code",
   "execution_count": 10,
   "metadata": {},
   "outputs": [
    {
     "name": "stdout",
     "output_type": "stream",
     "text": [
      "Numero de palabras únicas: 295\n"
     ]
    }
   ],
   "source": [
    "print('Numero de palabras únicas: %d' % len(dictionary))"
   ]
  },
  {
   "cell_type": "markdown",
   "metadata": {},
   "source": [
    "Estamos listos para estimar LDA utilizando la función [LDAModel](https://radimrehurek.com/gensim/models/ldamodel.html?highlight=ldamodel#module-gensim.models.ldamode) disponible en [gensim](https://radimrehurek.com/gensim/index.html). Carguemos entonces esta función:"
   ]
  },
  {
   "cell_type": "code",
   "execution_count": 11,
   "metadata": {},
   "outputs": [],
   "source": [
    "from gensim.models import LdaModel"
   ]
  },
  {
   "cell_type": "markdown",
   "metadata": {},
   "source": [
    "Antes de apicarla, discutiremos algunos de los parámetros:\n",
    "\n",
    "   - `corpus` es donde especificamos la matriz de frecuencia de los documentos.\n",
    "   \n",
    "   - `id2word` es donde especificamos el diccionario que mapea palabras con identificadores, este sirve para determinar el tamaño del vocabulario y para mostrar luego los temas con las palabras encontradas.\n",
    "   \n",
    "   - `num_topics` donde especificamos el número de temas a buscar.  \n",
    "   \n",
    "   - `chunksize` controla cuántos documentos se procesan a la vez en el entrenamiento. Aumentar el tamaño de los fragmentos acelerará el entrenamiento, siempre y cuando el fragmento de documentos entre fácilmente en la memoria.  \n",
    "   \n",
    "   - `passes` controla la frecuencia con la que entrenamos el modelo en todo el corpus.\n",
    "   \n",
    "   - `iterations` controla la frecuencia con la que repetimos un bucle particular sobre cada documento. Cuando entrenamos  es importante establecer el número de \"passes\" e \"iterations\" lo suficientemente alto.\n",
    "   \n",
    "   - `alpha` es el parámetro que controla el \"prior\" de la distribución de temas. \n",
    "   \n",
    "   - `eta` es el parámetro que controla el \"prior\" de la distribución de palabras-temas.\n",
    "   \n",
    "Estimemos el modelo:"
   ]
  },
  {
   "cell_type": "code",
   "execution_count": 12,
   "metadata": {},
   "outputs": [],
   "source": [
    "Estimacion = LdaModel(\n",
    "    corpus=corpus,\n",
    "    id2word=dictionary,\n",
    "    num_topics=3,\n",
    "    chunksize=1000,\n",
    "    passes=20,\n",
    "    iterations=400,\n",
    "    alpha='auto',\n",
    "    eta='auto',\n",
    "    random_state=123,\n",
    "    eval_every=None\n",
    ")"
   ]
  },
  {
   "cell_type": "markdown",
   "metadata": {},
   "source": [
    "Notemos que elegimos 3 temas ya que tenemos la sospecha de que los textos se refieren a 3 escritores distintos. Vamos a fijar `chunksize = 1000`, que es más que la cantidad de documentos, así procesamos todos los datos de una sola vez. No obstante, el tamaño de los fragmentos puede influir en la calidad del modelo (Hoffman et al., 2010). Por eso, los invito a que prueben con distintos tamaños. Especificamos también 20 passes y 400 iteraciones. Es importante asignar estos parámetros lo suficientemente altos de forma tal que haya convergencia en la estimación. Nuevamente los invito a que prueben con distintos valores. Fijamos `alpha = 'auto'` y `eta = 'auto'` de forma que el modelo \"aprenda\" automáticamente estos 2 parámetros. Luego, establecemos el `random_state` para lograr reproducibilidad y finalmente fijamos `eval_every=None`. Esto evitará el cálculo de la perplejidad, que discutiremos más adelante, haciendo que el proceso sea más rápido."
   ]
  },
  {
   "cell_type": "markdown",
   "metadata": {},
   "source": [
    "Con el modelo estimado podemos utilizar `pprint` para ver los temas con las palabras asociadas y su peso dentro del tema."
   ]
  },
  {
   "cell_type": "code",
   "execution_count": 13,
   "metadata": {},
   "outputs": [
    {
     "name": "stdout",
     "output_type": "stream",
     "text": [
      "[(0,\n",
      "  '0.079*\"freud\" + 0.024*\"hombre\" + 0.022*\"humano\" + 0.014*\"psicoanalisis\" + '\n",
      "  '0.012*\"sexual\" + 0.012*\"caso\" + 0.012*\"deseo\" + 0.011*\"sociedad\" + '\n",
      "  '0.010*\"inconsciente\" + 0.010*\"mente\"'),\n",
      " (1,\n",
      "  '0.047*\"chomsky\" + 0.040*\"lenguaje\" + 0.033*\"linguistico\" + 0.020*\"humano\" + '\n",
      "  '0.020*\"teoria\" + 0.020*\"generativo\" + 0.018*\"mente\" + 0.018*\"frase\" + '\n",
      "  '0.017*\"ejemplo\" + 0.017*\"estructura\"'),\n",
      " (2,\n",
      "  '0.074*\"voltaire\" + 0.024*\"hombre\" + 0.017*\"diccionario\" + 0.014*\"obra\" + '\n",
      "  '0.014*\"ano\" + 0.013*\"mundo\" + 0.013*\"historia\" + 0.013*\"filosofico\" + '\n",
      "  '0.012*\"filosofo\" + 0.012*\"rousseau\"')]\n"
     ]
    }
   ],
   "source": [
    "from pprint import pprint\n",
    "\n",
    "pprint(Estimacion.print_topics())"
   ]
  },
  {
   "cell_type": "markdown",
   "metadata": {},
   "source": [
    "Vemos entonces que Freud tiene el mayor peso en el primer tema, Chomsky en el segundo, y Voltaire en el tercero. El modelo parece haber hecho un gran trabajo encontrando los 3 autores."
   ]
  },
  {
   "cell_type": "markdown",
   "metadata": {},
   "source": [
    "Podemos también generar una visualización interactiva de los resultados utilizando [pyLDAvis](https://pyldavis.readthedocs.io/en/latest/readme.html) que permite ayudar a la interpretación de los temas:"
   ]
  },
  {
   "cell_type": "code",
   "execution_count": 14,
   "metadata": {},
   "outputs": [
    {
     "data": {
      "text/html": [
       "\n",
       "<link rel=\"stylesheet\" type=\"text/css\" href=\"https://cdn.jsdelivr.net/gh/bmabey/pyLDAvis@3.4.0/pyLDAvis/js/ldavis.v1.0.0.css\">\n",
       "\n",
       "\n",
       "<div id=\"ldavis_el3321353126159687182465877\" style=\"background-color:white;\"></div>\n",
       "<script type=\"text/javascript\">\n",
       "\n",
       "var ldavis_el3321353126159687182465877_data = {\"mdsDat\": {\"x\": [-0.17972008604805034, 0.13816190880895657, 0.04155817723909374], \"y\": [-0.03587691493372586, -0.08217882787368541, 0.11805574280741135], \"topics\": [1, 2, 3], \"cluster\": [1, 1, 1], \"Freq\": [37.233117562049515, 31.46405203172286, 31.30283040622762]}, \"tinfo\": {\"Term\": [\"freud\", \"voltaire\", \"chomsky\", \"lenguaje\", \"linguistico\", \"generativo\", \"frase\", \"diccionario\", \"gramatico\", \"hombre\", \"psicoanalisis\", \"sexual\", \"rousseau\", \"regla\", \"deseo\", \"gramatica\", \"rey\", \"mente\", \"inconsciente\", \"estructura\", \"sexualidad\", \"teoria\", \"lengua\", \"tolerancia\", \"fanatismo\", \"sociedad\", \"escribir\", \"cognitiva\", \"historia\", \"ley\", \"linguistico\", \"chomsky\", \"generativo\", \"gramatico\", \"frase\", \"gramatica\", \"lenguaje\", \"cognitiva\", \"sintaxis\", \"cognitivo\", \"especifico\", \"regla\", \"concepto\", \"lengua\", \"estructura\", \"simple\", \"formal\", \"hipotesis\", \"aprender\", \"desarrollar\", \"fundamental\", \"representacion\", \"base\", \"nivel\", \"disciplina\", \"consistir\", \"sistema\", \"explicar\", \"facultad\", \"fenomeno\", \"mental\", \"ciencia\", \"teoria\", \"estudio\", \"mente\", \"forma\", \"luis\", \"ejemplo\", \"pensamiento\", \"proceso\", \"humano\", \"idea\", \"aspecto\", \"politico\", \"palabra\", \"punto\", \"filosofia\", \"visto\", \"voltaire\", \"diccionario\", \"rousseau\", \"tolerancia\", \"fanatismo\", \"voltairar\", \"rey\", \"mil\", \"ley\", \"hacer\", \"hijo\", \"carta\", \"escribir\", \"pueblo\", \"habrio\", \"espiritu\", \"mano\", \"tratado\", \"comun\", \"joven\", \"decidir\", \"casa\", \"tierra\", \"vivir\", \"libertad\", \"celebrar\", \"servir\", \"dejar\", \"dio\", \"publicar\", \"historia\", \"articulo\", \"guerra\", \"antiguo\", \"moral\", \"filosofo\", \"libro\", \"hombre\", \"filosofico\", \"obra\", \"mundo\", \"ano\", \"cosa\", \"religion\", \"escrito\", \"vida\", \"tiempo\", \"razon\", \"sociedad\", \"politico\", \"caso\", \"idea\", \"freud\", \"psicoanalisis\", \"sexual\", \"deseo\", \"inconsciente\", \"sexualidad\", \"psique\", \"impulso\", \"sentimiento\", \"cultura\", \"medico\", \"caracter\", \"racional\", \"consciente\", \"afirmar\", \"podiar\", \"mayorio\", \"tenia\", \"arte\", \"sujeto\", \"fuerza\", \"oscuro\", \"origen\", \"desear\", \"amor\", \"madre\", \"placer\", \"necesidad\", \"serie\", \"cultural\", \"camino\", \"termino\", \"sociedad\", \"hombre\", \"humano\", \"caso\", \"naturaleza\", \"nino\", \"vida\", \"padre\", \"religioso\", \"momento\", \"mente\", \"considerar\", \"realidad\", \"ejemplo\", \"resultar\"], \"Freq\": [367.0, 346.0, 260.0, 221.0, 182.0, 108.0, 99.0, 77.0, 90.0, 228.0, 66.0, 57.0, 56.0, 77.0, 54.0, 64.0, 58.0, 149.0, 48.0, 107.0, 45.0, 144.0, 82.0, 42.0, 41.0, 93.0, 49.0, 44.0, 77.0, 42.0, 181.3940682275281, 259.28796331818575, 107.61506196110818, 89.90128934427963, 98.61930517434818, 64.30683060626329, 218.65233275359193, 43.63311145634216, 37.72804239050632, 33.78425480197201, 34.710298366315705, 74.38967222802398, 30.831084808628564, 72.36834037980593, 92.47333651339288, 27.827052409394486, 20.99218966768964, 21.524149316588606, 27.82249806324611, 27.695942986950126, 27.624359712536034, 35.141158435119706, 18.99111328035945, 25.247187926314044, 21.93676387176618, 17.961960188659358, 32.01146341708868, 40.50821883138617, 27.87107434591571, 16.659716380846614, 45.89907894668855, 61.52403560813697, 108.09179281105176, 53.275012586773926, 100.44536016165968, 84.68677525072806, 39.11927878692638, 93.93161718118752, 58.76565661058601, 50.41850417928596, 109.55373536749575, 76.19364336730774, 35.49888046114453, 49.29430436393852, 40.67077139826649, 40.34037289194711, 39.259992995520825, 37.69836370358995, 345.60163046303256, 76.6668935559962, 55.95632621155079, 41.43498646284356, 40.44835550596341, 26.73140836764923, 55.770565495088185, 26.672139630644278, 39.45588994851034, 24.577954539528697, 33.03611135257813, 41.904205040917496, 45.135510564430966, 29.552880742105184, 33.44537400735741, 23.800675534094307, 20.852931598424572, 23.762255769803243, 18.828988615317375, 23.67154285763662, 17.897529209262085, 20.9290407214535, 19.633314235851994, 29.0657845156832, 24.237907535249608, 16.409197156340674, 21.06426515310195, 45.1394737708942, 33.39225537154894, 20.156554732341604, 60.88996505170278, 38.922533983397834, 29.03028853456812, 27.385795558275777, 36.135762355608506, 56.9185901476679, 43.19608501206723, 110.91880817114276, 59.19829824929682, 65.39153227076174, 61.072026199209525, 65.08125685614675, 45.693471256255776, 42.07092767180699, 39.717716568738375, 47.763038654880006, 41.134677410392385, 38.93941542772214, 41.73319073716214, 34.70401620391009, 35.13703864880019, 33.70923625489644, 366.6459914764094, 65.77529088632082, 56.97156274541775, 54.01399720364431, 48.19331940545864, 45.255881137722426, 24.748254938472257, 34.39186356751161, 39.16847503568044, 42.07562994707309, 30.46363540405855, 39.24655045588296, 24.101976381718217, 35.27046788174899, 19.09267797447682, 35.51552744014267, 17.773220357188475, 24.107047973200146, 22.60433047235653, 41.35634111192722, 31.050308249139643, 20.089481113676054, 29.207336192349, 29.042235358158766, 25.258228293214515, 34.37279188966667, 23.63845355921783, 16.864185419114303, 14.813683365907222, 15.293097103387975, 19.65195476603768, 34.27830420605888, 51.61534297206169, 109.73908358664498, 102.89366052357519, 55.1383812895634, 44.640526604654724, 32.87612848022327, 44.381709897514604, 34.588023868484136, 34.52889543248265, 34.07935764711238, 48.07855825526559, 35.4208828145348, 36.97309294255327, 37.7069279362268, 33.137426160898855], \"Total\": [367.0, 346.0, 260.0, 221.0, 182.0, 108.0, 99.0, 77.0, 90.0, 228.0, 66.0, 57.0, 56.0, 77.0, 54.0, 64.0, 58.0, 149.0, 48.0, 107.0, 45.0, 144.0, 82.0, 42.0, 41.0, 93.0, 49.0, 44.0, 77.0, 42.0, 182.14071401869026, 260.90160964388286, 108.29801491737155, 90.57572845857555, 99.43593181318211, 64.97677694807001, 221.51091712066273, 44.300706827839385, 38.39328129055087, 34.45494511778059, 35.4390588933658, 77.76013460579507, 34.43302177625445, 82.64153687016977, 107.20988781692316, 32.457956512061195, 24.58590826842478, 25.57207804903458, 33.43874878368615, 33.432302829226956, 33.43701836424309, 43.259362759541006, 23.594993342601697, 31.459696524970134, 27.52754199714374, 22.613671027348033, 40.31159125797106, 51.122723318329854, 35.38928969377163, 21.623811508140765, 59.94988592966894, 80.60981803107016, 144.45836350586052, 72.71569628565013, 149.277902576982, 126.70204606574666, 52.10569580892452, 152.19723348702036, 88.39789018769588, 75.62681493155267, 235.3684816182032, 140.36247323228815, 47.172199566817696, 85.44480620691648, 80.45450160360535, 81.42145924966854, 73.62682950818053, 63.81862657755407, 346.5409811560803, 77.33596598078834, 56.77814154535516, 42.09456433784274, 41.115654344812526, 27.41062084497164, 58.7314707798785, 28.38710012124933, 42.10529266617613, 26.437684334676355, 36.215565624805734, 46.00305960759482, 49.94903033039106, 33.27838447919764, 38.18571517615079, 27.40437545817786, 24.47145435314499, 28.411737671778756, 22.516428282407173, 28.38104995173684, 21.537648046091043, 25.444719916121375, 24.465116743859113, 36.230317628028125, 30.338483110419567, 20.550745350692306, 26.45005511496492, 56.76358284543739, 42.07834983622515, 25.453013270147814, 77.37957785276676, 49.96175538571558, 37.23793966194953, 35.234290738496064, 50.87686520743688, 92.08291074283086, 64.68793321701179, 228.90036966462705, 101.8268564314919, 118.52463521329904, 110.69053676821461, 124.43264281945838, 75.46304898892416, 67.49779975736129, 64.57917002792209, 94.88328699229329, 78.3677342516878, 74.37070895806941, 93.8778986546159, 85.44480620691648, 119.48735413992283, 140.36247323228815, 367.36261783972844, 66.4400640490853, 57.64689196776848, 54.7157413342289, 48.85364905150138, 45.92262791284148, 25.405143805982426, 39.11381620969487, 44.95497435523221, 49.849010639039534, 36.161610027688084, 46.92329130832358, 29.34185565156443, 43.039372534547844, 24.45692696853449, 45.94103863802829, 23.46312457044922, 32.2581358992772, 30.308322903835673, 55.78600412184569, 42.048613651617686, 27.371523341753555, 40.10092546768861, 40.116646059091835, 35.19374511149605, 47.901148456373456, 34.21710535477298, 24.457429428223858, 22.515502050597604, 23.46517012528518, 30.31984100571467, 54.84634825242033, 93.8778986546159, 228.90036966462705, 235.3684816182032, 119.48735413992283, 90.10834749594017, 56.81538114670178, 94.88328699229329, 64.54763922066505, 64.54260689349722, 63.64846182310759, 149.277902576982, 70.52186319597345, 80.3442210901394, 152.19723348702036, 74.38792159362637], \"Category\": [\"Default\", \"Default\", \"Default\", \"Default\", \"Default\", \"Default\", \"Default\", \"Default\", \"Default\", \"Default\", \"Default\", \"Default\", \"Default\", \"Default\", \"Default\", \"Default\", \"Default\", \"Default\", \"Default\", \"Default\", \"Default\", \"Default\", \"Default\", \"Default\", \"Default\", \"Default\", \"Default\", \"Default\", \"Default\", \"Default\", \"Topic1\", \"Topic1\", \"Topic1\", \"Topic1\", \"Topic1\", \"Topic1\", \"Topic1\", \"Topic1\", \"Topic1\", \"Topic1\", \"Topic1\", \"Topic1\", \"Topic1\", \"Topic1\", \"Topic1\", \"Topic1\", \"Topic1\", \"Topic1\", \"Topic1\", \"Topic1\", \"Topic1\", \"Topic1\", \"Topic1\", \"Topic1\", \"Topic1\", \"Topic1\", \"Topic1\", \"Topic1\", \"Topic1\", \"Topic1\", \"Topic1\", \"Topic1\", \"Topic1\", \"Topic1\", \"Topic1\", \"Topic1\", \"Topic1\", \"Topic1\", \"Topic1\", \"Topic1\", \"Topic1\", \"Topic1\", \"Topic1\", \"Topic1\", \"Topic1\", \"Topic1\", \"Topic1\", \"Topic1\", \"Topic2\", \"Topic2\", \"Topic2\", \"Topic2\", \"Topic2\", \"Topic2\", \"Topic2\", \"Topic2\", \"Topic2\", \"Topic2\", \"Topic2\", \"Topic2\", \"Topic2\", \"Topic2\", \"Topic2\", \"Topic2\", \"Topic2\", \"Topic2\", \"Topic2\", \"Topic2\", \"Topic2\", \"Topic2\", \"Topic2\", \"Topic2\", \"Topic2\", \"Topic2\", \"Topic2\", \"Topic2\", \"Topic2\", \"Topic2\", \"Topic2\", \"Topic2\", \"Topic2\", \"Topic2\", \"Topic2\", \"Topic2\", \"Topic2\", \"Topic2\", \"Topic2\", \"Topic2\", \"Topic2\", \"Topic2\", \"Topic2\", \"Topic2\", \"Topic2\", \"Topic2\", \"Topic2\", \"Topic2\", \"Topic2\", \"Topic2\", \"Topic2\", \"Topic2\", \"Topic3\", \"Topic3\", \"Topic3\", \"Topic3\", \"Topic3\", \"Topic3\", \"Topic3\", \"Topic3\", \"Topic3\", \"Topic3\", \"Topic3\", \"Topic3\", \"Topic3\", \"Topic3\", \"Topic3\", \"Topic3\", \"Topic3\", \"Topic3\", \"Topic3\", \"Topic3\", \"Topic3\", \"Topic3\", \"Topic3\", \"Topic3\", \"Topic3\", \"Topic3\", \"Topic3\", \"Topic3\", \"Topic3\", \"Topic3\", \"Topic3\", \"Topic3\", \"Topic3\", \"Topic3\", \"Topic3\", \"Topic3\", \"Topic3\", \"Topic3\", \"Topic3\", \"Topic3\", \"Topic3\", \"Topic3\", \"Topic3\", \"Topic3\", \"Topic3\", \"Topic3\", \"Topic3\"], \"logprob\": [30.0, 29.0, 28.0, 27.0, 26.0, 25.0, 24.0, 23.0, 22.0, 21.0, 20.0, 19.0, 18.0, 17.0, 16.0, 15.0, 14.0, 13.0, 12.0, 11.0, 10.0, 9.0, 8.0, 7.0, 6.0, 5.0, 4.0, 3.0, 2.0, 1.0, -3.4103, -3.053, -3.9324, -4.1122, -4.0197, -4.4473, -3.2235, -4.8351, -4.9806, -5.091, -5.0639, -4.3016, -5.1824, -4.3292, -4.084, -5.285, -5.5668, -5.5418, -5.2851, -5.2897, -5.2923, -5.0516, -5.667, -5.3822, -5.5228, -5.7227, -5.1449, -4.9095, -5.2834, -5.798, -4.7845, -4.4915, -3.928, -4.6355, -4.0013, -4.172, -4.9443, -4.0684, -4.5374, -4.6906, -3.9145, -4.2777, -5.0415, -4.7132, -4.9054, -4.9136, -4.9408, -4.9813, -2.5973, -4.1031, -4.418, -4.7185, -4.7426, -5.1568, -4.4214, -5.159, -4.7674, -5.2408, -4.945, -4.7072, -4.6329, -5.0564, -4.9327, -5.2729, -5.4051, -5.2745, -5.5072, -5.2783, -5.5579, -5.4015, -5.4654, -5.073, -5.2547, -5.6448, -5.395, -4.6328, -4.9343, -5.4391, -4.3335, -4.781, -5.0743, -5.1326, -4.8553, -4.401, -4.6769, -3.7338, -4.3617, -4.2622, -4.3306, -4.267, -4.6207, -4.7032, -4.7608, -4.5764, -4.7258, -4.7806, -4.7113, -4.8958, -4.8834, -4.9248, -2.5331, -4.2512, -4.3949, -4.4482, -4.5622, -4.6251, -5.2287, -4.8996, -4.7696, -4.698, -5.0209, -4.7676, -5.2552, -4.8744, -5.4882, -4.8675, -5.5598, -5.255, -5.3193, -4.7152, -5.0019, -5.4373, -5.063, -5.0687, -5.2083, -4.9002, -5.2746, -5.6123, -5.7419, -5.7101, -5.4593, -4.903, -4.4936, -3.7394, -3.8038, -4.4276, -4.6388, -4.9447, -4.6446, -4.894, -4.8957, -4.9088, -4.5646, -4.8702, -4.8273, -4.8076, -4.9368], \"loglift\": [30.0, 29.0, 28.0, 27.0, 26.0, 25.0, 24.0, 23.0, 22.0, 21.0, 20.0, 19.0, 18.0, 17.0, 16.0, 15.0, 14.0, 13.0, 12.0, 11.0, 10.0, 9.0, 8.0, 7.0, 6.0, 5.0, 4.0, 3.0, 2.0, 1.0, 0.9839, 0.9818, 0.9816, 0.9805, 0.9797, 0.9776, 0.975, 0.9728, 0.9705, 0.9683, 0.9672, 0.9437, 0.8775, 0.8552, 0.8401, 0.834, 0.8299, 0.8156, 0.8041, 0.7997, 0.797, 0.7801, 0.7709, 0.768, 0.7609, 0.7577, 0.7574, 0.7552, 0.7492, 0.7272, 0.7209, 0.7178, 0.698, 0.6769, 0.5918, 0.5851, 0.7013, 0.5054, 0.5797, 0.5825, 0.2232, 0.377, 0.7037, 0.4379, 0.3058, 0.2857, 0.3592, 0.4615, 1.1536, 1.1476, 1.1417, 1.1405, 1.14, 1.1312, 1.1046, 1.094, 1.0913, 1.0834, 1.0644, 1.063, 1.055, 1.0376, 1.0238, 1.0153, 0.9963, 0.9776, 0.9775, 0.9749, 0.9712, 0.961, 0.9363, 0.936, 0.9318, 0.9313, 0.9286, 0.9272, 0.9251, 0.923, 0.9167, 0.9066, 0.9073, 0.9043, 0.8142, 0.6753, 0.7525, 0.4318, 0.6139, 0.5616, 0.5616, 0.5082, 0.6546, 0.6836, 0.6702, 0.4699, 0.5118, 0.5093, 0.3456, 0.2553, -0.0676, -0.2701, 1.1595, 1.1514, 1.1497, 1.1486, 1.1479, 1.1468, 1.1353, 1.0328, 1.0237, 0.9919, 0.99, 0.9828, 0.9647, 0.9624, 0.9139, 0.9041, 0.8837, 0.8702, 0.8682, 0.8622, 0.8582, 0.8522, 0.8445, 0.8384, 0.8297, 0.8296, 0.7916, 0.7897, 0.7428, 0.7333, 0.7278, 0.6914, 0.5633, 0.4263, 0.334, 0.3881, 0.4591, 0.6144, 0.4016, 0.5376, 0.5359, 0.5368, 0.0285, 0.4728, 0.3853, -0.2339, 0.3528]}, \"token.table\": {\"Topic\": [1, 2, 3, 1, 2, 3, 1, 2, 3, 1, 2, 3, 1, 2, 3, 1, 2, 3, 1, 2, 3, 1, 2, 3, 1, 2, 3, 1, 2, 3, 1, 2, 3, 2, 3, 2, 3, 1, 2, 3, 2, 3, 1, 2, 1, 2, 3, 1, 1, 1, 2, 3, 1, 2, 3, 1, 2, 3, 1, 2, 3, 1, 2, 3, 1, 2, 3, 1, 2, 3, 2, 3, 1, 2, 3, 1, 2, 3, 1, 2, 3, 1, 2, 3, 3, 2, 2, 3, 1, 2, 3, 1, 2, 3, 1, 2, 1, 2, 3, 1, 2, 3, 1, 2, 3, 1, 2, 3, 1, 2, 3, 1, 2, 3, 2, 1, 2, 3, 1, 2, 3, 1, 2, 3, 1, 2, 3, 1, 2, 3, 1, 3, 1, 3, 1, 2, 3, 1, 2, 3, 1, 1, 1, 1, 2, 3, 1, 2, 3, 1, 2, 2, 3, 1, 2, 3, 1, 2, 3, 1, 2, 3, 1, 2, 3, 1, 2, 3, 1, 3, 3, 2, 3, 1, 2, 3, 1, 2, 1, 2, 1, 2, 3, 1, 2, 3, 1, 1, 2, 2, 3, 1, 2, 3, 1, 2, 3, 2, 3, 1, 3, 1, 2, 3, 2, 3, 1, 2, 3, 2, 3, 1, 2, 3, 1, 2, 3, 1, 2, 3, 1, 2, 3, 1, 2, 3, 1, 2, 3, 1, 2, 3, 2, 3, 1, 2, 3, 1, 2, 3, 1, 2, 3, 2, 3, 2, 3, 1, 2, 3, 1, 2, 3, 3, 3, 1, 2, 3, 2, 3, 1, 2, 3, 1, 2, 3, 1, 2, 3, 1, 2, 3, 1, 2, 2, 3, 2, 3, 1, 2, 3, 1, 2, 3, 2, 3, 2, 2, 3, 1, 2, 3, 1, 2, 3, 3, 3, 1, 2, 3, 1, 1, 2, 3, 1, 2, 3, 1, 2, 3, 2, 3, 1, 2, 3, 1, 2, 3, 1, 2, 3, 2, 3, 2, 1, 2, 1, 2, 3, 1, 2, 3, 1, 2, 3, 2, 2, 3], \"Freq\": [0.16355284558629438, 0.040888211396573594, 0.7768760165348984, 0.028414139979474638, 0.2557272598152717, 0.710353499486866, 0.23305781620403768, 0.5223709673538776, 0.24109429262486656, 0.028381442595846726, 0.7662989500878616, 0.1986700981709271, 0.8373519051544307, 0.11962170073634724, 0.02990542518408681, 0.032994237364200873, 0.1979654241852052, 0.75886745937662, 0.16012247644699965, 0.7805970726791233, 0.060045928667624864, 0.7419624338361365, 0.04239785336206494, 0.19079034012929225, 0.8052555779151142, 0.042381872521848114, 0.12714561756554435, 0.0659634065898644, 0.2638536263594576, 0.659634065898644, 0.04262275608201478, 0.10655689020503695, 0.8311437435992882, 0.9129827528485966, 0.08695073836653301, 0.8253185756898322, 0.15720353822663471, 0.24270350790461256, 0.2929180267814289, 0.46029975637081694, 0.778560569310981, 0.19464014232774526, 0.9927113916756648, 0.003832862516122258, 0.7691370792587918, 0.14886524114686295, 0.08683805733567004, 0.9932121437924685, 0.9867959413017374, 0.04441201719285705, 0.8438283266642839, 0.0888240343857141, 0.9002985622765785, 0.02904188910569608, 0.05808377821139216, 0.13940723683143336, 0.023234539471905562, 0.8132088815166947, 0.2694199945795651, 0.22687999543542325, 0.49629999001498837, 0.7959786793675184, 0.13266311322791974, 0.04422103774263991, 0.25177885408246176, 0.6095698572522759, 0.14576670499510944, 0.020060578679105105, 0.12036347207463063, 0.8425443045224144, 0.340930833115056, 0.6392453120907301, 0.04643032506892015, 0.8357458512405627, 0.0928606501378403, 0.017616928845434553, 0.7927617980445549, 0.17616928845434554, 0.837513351773125, 0.029911191134754468, 0.11964476453901787, 0.17449115735370793, 0.09970923277354739, 0.7228919376082186, 0.9869189137024239, 0.9956557602077175, 0.7842512866697633, 0.19012152404115476, 0.7991995799073787, 0.07265450726430715, 0.10898176089646072, 0.617619636351777, 0.13797885492965228, 0.2496760232060375, 0.08008163468923708, 0.9009183902539172, 0.04645460755693965, 0.619394767425862, 0.3406671220842241, 0.9876108760481789, 0.8757725581678255, 0.10947156977097819, 0.8581298038209283, 0.037309991470475146, 0.10260247654380665, 0.7288660180299908, 0.06876094509716894, 0.20628283529150684, 0.8019917042506147, 0.07824309309762095, 0.11736463964643142, 0.7911998302957712, 0.05651427359255509, 0.14128568398138772, 0.9728654605504707, 0.7861703748943599, 0.09249063234051294, 0.1387359485107694, 0.529698212737339, 0.35313214182489266, 0.10865604363842851, 0.12766769451187243, 0.5794149212461902, 0.2847971646803308, 0.1846162318595423, 0.6190073656467007, 0.19547601020422126, 0.6708652515042485, 0.07103279133574394, 0.26045356823106114, 0.8541478220257539, 0.12202111743225055, 0.9956159528529271, 0.9990129157891436, 0.07134599073481189, 0.1902559752928317, 0.7372419042597228, 0.837395239461383, 0.11962789135162614, 0.05981394567581307, 0.997248195937858, 0.9849672914855309, 0.9936436784073025, 0.1879803250004387, 0.7787756321446747, 0.026854332142919816, 0.052375606709838894, 0.8641975107123417, 0.052375606709838894, 0.07564959073880566, 0.9456198842350708, 0.9112103989174412, 0.08283730899249464, 0.8603133448058032, 0.11731545610988227, 0.03910515203662742, 0.129233064814949, 0.788321695371189, 0.07753983888896941, 0.0349497032779859, 0.48492713298205437, 0.4805584200723061, 0.46735229476661033, 0.09771911617847306, 0.4376116941905533, 0.5414552640022691, 0.24222998652733088, 0.21373234105352723, 0.10226565412475778, 0.8692580600604412, 0.9825264014444148, 0.8456346766878956, 0.14093911278131593, 0.8712325874712655, 0.10890407343390819, 0.012100452603767577, 0.9886645897488883, 0.009028900363003545, 0.04749996671099338, 0.9262493508643709, 0.03296143700924046, 0.791074488221771, 0.1648071850462023, 0.2473413387056905, 0.6647298477715432, 0.09275300201463393, 0.9937371826785899, 0.7484786335646666, 0.24949287785488886, 0.27139224045619503, 0.7097950904238947, 0.04086393826738309, 0.8581427036150449, 0.12259181480214927, 0.04262006950512705, 0.21310034752563523, 0.7671612510922868, 0.1382681798783743, 0.8296090792702459, 0.7673075484074408, 0.23352838429791675, 0.6698915129011168, 0.006698915129011169, 0.3215479261925361, 0.9511362514901264, 0.035227268573708385, 0.23566948156089212, 0.219958182790166, 0.5341841582046888, 0.7075907655320268, 0.2751741865957882, 0.19875231110377467, 0.5510859535150116, 0.2439232909000871, 0.266346023059421, 0.24415052113780258, 0.4993987932364144, 0.12266211413608341, 0.16354948551477788, 0.695085313437806, 0.31681561641771944, 0.10560520547257314, 0.5808286300991523, 0.7946675512320039, 0.06357340409856031, 0.1589335102464008, 0.19405248502649927, 0.5484091968140197, 0.25311193699108603, 0.0997483213504139, 0.1745595623632243, 0.7231753297905007, 0.2557402418783881, 0.7306864053668232, 0.01549243337283586, 0.4492805678122399, 0.5422351680492551, 0.5096047975289762, 0.1864407795837718, 0.31073463263961965, 0.6674367439621565, 0.10181238467219336, 0.23756223090178452, 0.29225148931556505, 0.7014035743573561, 0.21767030734308151, 0.7836131064350934, 0.5734696136045963, 0.4096211525747116, 0.011703461502134617, 0.6611411580039877, 0.07933693896047853, 0.2512336400415153, 0.9933765258149032, 0.9840526859805838, 0.07857615830286271, 0.7857615830286272, 0.15715231660572543, 0.9014860687949873, 0.09014860687949873, 0.4912709790344716, 0.1350995192344797, 0.3684532342758537, 0.13632402965579754, 0.034081007413949385, 0.8179441779347852, 0.0806769235369644, 0.5244000029902687, 0.40338461768482203, 0.3111611471340561, 0.22403602593652042, 0.46051849775840303, 0.9516444431988567, 0.03858018012968338, 0.6222425049554225, 0.37038244342584675, 0.4648092391046968, 0.5422774456221462, 0.8090734067107964, 0.023116383048879897, 0.1618146813421593, 0.13443042614672016, 0.4301773636695045, 0.44362040628417654, 0.9534922122056867, 0.05107993993959036, 0.9862950508034228, 0.1112223968918372, 0.8675346957563301, 0.22206922096446394, 0.08882768838578557, 0.6662076628933918, 0.1512284183384132, 0.7939491962766692, 0.0378071045846033, 0.9887783721604597, 0.979909078491924, 0.8626544308048277, 0.061618173628916265, 0.061618173628916265, 0.9897565074583073, 0.7938163441680671, 0.12403380377626048, 0.0744202822657563, 0.010652134467550001, 0.44738964763710004, 0.5539109923126001, 0.21510771722939773, 0.03585128620489962, 0.7349513672004423, 0.2479994512075713, 0.7439983536227139, 0.7476202649604192, 0.02768963944297849, 0.2215171155438279, 0.30995682559868154, 0.07293101778792507, 0.6199136511973631, 0.21692601122551747, 0.5231744976615421, 0.2679674256315216, 0.8174904787658582, 0.16349809575317165, 0.9739974898170229, 0.1407868834426548, 0.8447213006559288, 0.031617791658542234, 0.5058846665366757, 0.4637276109919528, 0.5954374457404125, 0.2037022840690885, 0.2037022840690885, 0.08280357988579076, 0.800434605562644, 0.11040477318105435, 0.985019644491308, 0.9984389114549294, 0.0028856615938003738], \"Term\": [\"afirmar\", \"afirmar\", \"afirmar\", \"amor\", \"amor\", \"amor\", \"ano\", \"ano\", \"ano\", \"antiguo\", \"antiguo\", \"antiguo\", \"aprender\", \"aprender\", \"aprender\", \"arte\", \"arte\", \"arte\", \"articulo\", \"articulo\", \"articulo\", \"aspecto\", \"aspecto\", \"aspecto\", \"base\", \"base\", \"base\", \"camino\", \"camino\", \"camino\", \"caracter\", \"caracter\", \"caracter\", \"carta\", \"carta\", \"casa\", \"casa\", \"caso\", \"caso\", \"caso\", \"celebrar\", \"celebrar\", \"chomsky\", \"chomsky\", \"ciencia\", \"ciencia\", \"ciencia\", \"cognitiva\", \"cognitivo\", \"comun\", \"comun\", \"comun\", \"concepto\", \"concepto\", \"concepto\", \"consciente\", \"consciente\", \"consciente\", \"considerar\", \"considerar\", \"considerar\", \"consistir\", \"consistir\", \"consistir\", \"cosa\", \"cosa\", \"cosa\", \"cultura\", \"cultura\", \"cultura\", \"cultural\", \"cultural\", \"decidir\", \"decidir\", \"decidir\", \"dejar\", \"dejar\", \"dejar\", \"desarrollar\", \"desarrollar\", \"desarrollar\", \"desear\", \"desear\", \"desear\", \"deseo\", \"diccionario\", \"dio\", \"dio\", \"disciplina\", \"disciplina\", \"disciplina\", \"ejemplo\", \"ejemplo\", \"ejemplo\", \"escribir\", \"escribir\", \"escrito\", \"escrito\", \"escrito\", \"especifico\", \"espiritu\", \"espiritu\", \"estructura\", \"estructura\", \"estructura\", \"estudio\", \"estudio\", \"estudio\", \"explicar\", \"explicar\", \"explicar\", \"facultad\", \"facultad\", \"facultad\", \"fanatismo\", \"fenomeno\", \"fenomeno\", \"fenomeno\", \"filosofia\", \"filosofia\", \"filosofia\", \"filosofico\", \"filosofico\", \"filosofico\", \"filosofo\", \"filosofo\", \"filosofo\", \"forma\", \"forma\", \"forma\", \"formal\", \"formal\", \"frase\", \"freud\", \"fuerza\", \"fuerza\", \"fuerza\", \"fundamental\", \"fundamental\", \"fundamental\", \"generativo\", \"gramatica\", \"gramatico\", \"guerra\", \"guerra\", \"guerra\", \"habrio\", \"habrio\", \"habrio\", \"hacer\", \"hacer\", \"hijo\", \"hijo\", \"hipotesis\", \"hipotesis\", \"hipotesis\", \"historia\", \"historia\", \"historia\", \"hombre\", \"hombre\", \"hombre\", \"humano\", \"humano\", \"humano\", \"idea\", \"idea\", \"idea\", \"impulso\", \"impulso\", \"inconsciente\", \"joven\", \"joven\", \"lengua\", \"lengua\", \"lengua\", \"lenguaje\", \"lenguaje\", \"ley\", \"ley\", \"libertad\", \"libertad\", \"libertad\", \"libro\", \"libro\", \"libro\", \"linguistico\", \"luis\", \"luis\", \"madre\", \"madre\", \"mano\", \"mano\", \"mano\", \"mayorio\", \"mayorio\", \"mayorio\", \"medico\", \"medico\", \"mental\", \"mental\", \"mente\", \"mente\", \"mente\", \"mil\", \"mil\", \"momento\", \"momento\", \"momento\", \"moral\", \"moral\", \"mundo\", \"mundo\", \"mundo\", \"naturaleza\", \"naturaleza\", \"naturaleza\", \"necesidad\", \"necesidad\", \"necesidad\", \"nino\", \"nino\", \"nino\", \"nivel\", \"nivel\", \"nivel\", \"obra\", \"obra\", \"obra\", \"origen\", \"origen\", \"origen\", \"oscuro\", \"oscuro\", \"padre\", \"padre\", \"padre\", \"palabra\", \"palabra\", \"palabra\", \"pensamiento\", \"pensamiento\", \"pensamiento\", \"placer\", \"placer\", \"podiar\", \"podiar\", \"politico\", \"politico\", \"politico\", \"proceso\", \"proceso\", \"proceso\", \"psicoanalisis\", \"psique\", \"publicar\", \"publicar\", \"publicar\", \"pueblo\", \"pueblo\", \"punto\", \"punto\", \"punto\", \"racional\", \"racional\", \"racional\", \"razon\", \"razon\", \"razon\", \"realidad\", \"realidad\", \"realidad\", \"regla\", \"regla\", \"religion\", \"religion\", \"religioso\", \"religioso\", \"representacion\", \"representacion\", \"representacion\", \"resultar\", \"resultar\", \"resultar\", \"rey\", \"rey\", \"rousseau\", \"sentimiento\", \"sentimiento\", \"serie\", \"serie\", \"serie\", \"servir\", \"servir\", \"servir\", \"sexual\", \"sexualidad\", \"simple\", \"simple\", \"simple\", \"sintaxis\", \"sistema\", \"sistema\", \"sistema\", \"sociedad\", \"sociedad\", \"sociedad\", \"sujeto\", \"sujeto\", \"sujeto\", \"tenia\", \"tenia\", \"teoria\", \"teoria\", \"teoria\", \"termino\", \"termino\", \"termino\", \"tiempo\", \"tiempo\", \"tiempo\", \"tierra\", \"tierra\", \"tolerancia\", \"tratado\", \"tratado\", \"vida\", \"vida\", \"vida\", \"visto\", \"visto\", \"visto\", \"vivir\", \"vivir\", \"vivir\", \"voltairar\", \"voltaire\", \"voltaire\"]}, \"R\": 30, \"lambda.step\": 0.01, \"plot.opts\": {\"xlab\": \"PC1\", \"ylab\": \"PC2\"}, \"topic.order\": [2, 3, 1]};\n",
       "\n",
       "function LDAvis_load_lib(url, callback){\n",
       "  var s = document.createElement('script');\n",
       "  s.src = url;\n",
       "  s.async = true;\n",
       "  s.onreadystatechange = s.onload = callback;\n",
       "  s.onerror = function(){console.warn(\"failed to load library \" + url);};\n",
       "  document.getElementsByTagName(\"head\")[0].appendChild(s);\n",
       "}\n",
       "\n",
       "if(typeof(LDAvis) !== \"undefined\"){\n",
       "   // already loaded: just create the visualization\n",
       "   !function(LDAvis){\n",
       "       new LDAvis(\"#\" + \"ldavis_el3321353126159687182465877\", ldavis_el3321353126159687182465877_data);\n",
       "   }(LDAvis);\n",
       "}else if(typeof define === \"function\" && define.amd){\n",
       "   // require.js is available: use it to load d3/LDAvis\n",
       "   require.config({paths: {d3: \"https://d3js.org/d3.v5\"}});\n",
       "   require([\"d3\"], function(d3){\n",
       "      window.d3 = d3;\n",
       "      LDAvis_load_lib(\"https://cdn.jsdelivr.net/gh/bmabey/pyLDAvis@3.4.0/pyLDAvis/js/ldavis.v3.0.0.js\", function(){\n",
       "        new LDAvis(\"#\" + \"ldavis_el3321353126159687182465877\", ldavis_el3321353126159687182465877_data);\n",
       "      });\n",
       "    });\n",
       "}else{\n",
       "    // require.js not available: dynamically load d3 & LDAvis\n",
       "    LDAvis_load_lib(\"https://d3js.org/d3.v5.js\", function(){\n",
       "         LDAvis_load_lib(\"https://cdn.jsdelivr.net/gh/bmabey/pyLDAvis@3.4.0/pyLDAvis/js/ldavis.v3.0.0.js\", function(){\n",
       "                 new LDAvis(\"#\" + \"ldavis_el3321353126159687182465877\", ldavis_el3321353126159687182465877_data);\n",
       "            })\n",
       "         });\n",
       "}\n",
       "</script>"
      ],
      "text/plain": [
       "PreparedData(topic_coordinates=              x         y  topics  cluster       Freq\n",
       "topic                                                \n",
       "1     -0.179720 -0.035877       1        1  37.233118\n",
       "2      0.138162 -0.082179       2        1  31.464052\n",
       "0      0.041558  0.118056       3        1  31.302830, topic_info=            Term        Freq       Total Category  logprob  loglift\n",
       "269        freud  367.000000  367.000000  Default  30.0000  30.0000\n",
       "292     voltaire  346.000000  346.000000  Default  29.0000  29.0000\n",
       "7        chomsky  260.000000  260.000000  Default  28.0000  28.0000\n",
       "24      lenguaje  221.000000  221.000000  Default  27.0000  27.0000\n",
       "26   linguistico  182.000000  182.000000  Default  26.0000  26.0000\n",
       "..           ...         ...         ...      ...      ...      ...\n",
       "28         mente   48.078558  149.277903   Topic3  -4.5646   0.0285\n",
       "85    considerar   35.420883   70.521863   Topic3  -4.8702   0.4728\n",
       "79      realidad   36.973093   80.344221   Topic3  -4.8273   0.3853\n",
       "87       ejemplo   37.706928  152.197233   Topic3  -4.8076  -0.2339\n",
       "42      resultar   33.137426   74.387922   Topic3  -4.9368   0.3528\n",
       "\n",
       "[177 rows x 6 columns], token_table=      Topic      Freq       Term\n",
       "term                            \n",
       "201       1  0.163553    afirmar\n",
       "201       2  0.040888    afirmar\n",
       "201       3  0.776876    afirmar\n",
       "156       1  0.028414       amor\n",
       "156       2  0.255727       amor\n",
       "...     ...       ...        ...\n",
       "222       2  0.800435      vivir\n",
       "222       3  0.110405      vivir\n",
       "293       2  0.985020  voltairar\n",
       "292       2  0.998439   voltaire\n",
       "292       3  0.002886   voltaire\n",
       "\n",
       "[338 rows x 3 columns], R=30, lambda_step=0.01, plot_opts={'xlab': 'PC1', 'ylab': 'PC2'}, topic_order=[2, 3, 1])"
      ]
     },
     "execution_count": 14,
     "metadata": {},
     "output_type": "execute_result"
    }
   ],
   "source": [
    "# Visualizamos los resultados\n",
    "import pyLDAvis\n",
    "import pyLDAvis.gensim_models as gensimvis\n",
    "\n",
    "pyLDAvis.enable_notebook()\n",
    "LDA_visualization = gensimvis.prepare(Estimacion, corpus, dictionary)\n",
    "LDA_visualization"
   ]
  },
  {
   "cell_type": "markdown",
   "metadata": {},
   "source": [
    "Tenemos entonces una gráfica  interactiva donde cada burbuja en la gráfica del lado izquierdo representa un tema. Cuanto más grande es la burbuja, más frecuente es ese tema. Un buen modelo de temas tendrá burbujas grandes que no se superpongan y están dispersas por todo el gráfico en lugar de estar agrupadas en un cuadrante. Un modelo con demasiados temas normalmente tendrá muchas burbujas pequeñas, superpuestas y agrupadas en una región del gráfico.\n",
    "\n",
    "Cuando posamos el cursor sobre las burbujas, las palabras y las barras del lado derecho se actualizarán. Estas palabras son las palabras claves sobresalientes que forman el tema seleccionado. La gráfica de la derecha también contiene un parámetro $\\lambda$ que al deslizarlo cambia la distribución de frecuencia de las palabras. Los valores de $\\lambda$ que están muy cerca de cero mostrarán términos que son más específicos para un tema elegido. Lo que significa que verán términos que son \"importantes\" para ese tema específico, pero no necesariamente \"importantes\" para todo el corpus. Los valores de  $\\lambda$ que están muy cerca de uno mostrarán aquellos términos que tienen la relación más alta entre la frecuencia de los términos para ese tema específico y la frecuencia general de los términos del corpus. Utilizar diferentes valores del parámetro $\\lambda$ puede ayudar cuando estamos intentando asignar un  \"significado\" a cada tópico.\n",
    "\n",
    "El escenario ideal es como el que aparece por la gráfica anterior, donde los círculos se distribuyen por todo el gráfico, alejados entre si y tienen un tamaño razonable y consistente. Es decir, los tópicos son distintos y  aparecen de manera uniforme en todo el corpus.\n",
    "\n",
    "[pyLDAvis](https://pyldavis.readthedocs.io/en/latest/readme.html) permite también guardar la visualización como html, que permite una mejor interacción, para ello podemos utilizar la función  `save_html`. Por ahora la dejamos escrita pero comentada y los invito a que la prueben por su cuenta."
   ]
  },
  {
   "cell_type": "code",
   "execution_count": 15,
   "metadata": {},
   "outputs": [],
   "source": [
    "#pyLDAvis.save_html(LDA_visualization, 'visualizacion_LDA.html')"
   ]
  },
  {
   "cell_type": "markdown",
   "metadata": {},
   "source": [
    "### Eligiendo el número de temas\n",
    "\n",
    "Elegir el número de tópicos,  como el número de clusters en K-medias, es un paso clave. La pregunta natural que surge es si existe algún método para hacerlo. Desafortunadamente, no existe una forma objetiva aceptada en la literatura de responderla. Sin embargo, hay 2 métodos  que pueden servir de guía.\n",
    "\n",
    "#### Medida de Coherencia\n",
    "\n",
    "Decimos que hechos, documentos o enunciados son coherentes, si se apoyan entre sí.  Un ejemplo de un conjunto de hechos coherente es \"el juego es un deporte de equipo\", “el juego se juega con una pelota”, “el juego exige un gran esfuerzo físico”. El problema fundamental es cómo medir esta coherencia en los datos. Röder et al. (2015) proponen una forma de hacerlo que consiste en 4 pasos que se muestran en la figura y describimos brevemente (los invito a leer el artículo original para los detalles matemáticos):"
   ]
  },
  {
   "cell_type": "markdown",
   "metadata": {},
   "source": [
    "<center>\n",
    "<img src = \"figs/coherencia.jpeg\" alt = \"coherencia\" style = \"width: 600px;\"/>\n",
    "</center>\n"
   ]
  },
  {
   "cell_type": "markdown",
   "metadata": {},
   "source": [
    "Comenzando con el tópico  que queremos evaluar (t), elegimos un corpus de referencia, y las n-palabras más importantes del tópico  que llamamos $W$:\n",
    "\n",
    "1. En el primer paso segmentamos el conjunto $W$ creando pares de palabras. Por ejemplo si tenemos las palabras $W={perro, gato, conejo}$ y la segmentamos una a una vamos a tener: $S={(perro,gato),(perro,conejo),(gato,perro),(gato,conejo),(conejo,perro),(conejo,gato)}$. Existen múltiples formas de segmentar, pero la idea es que dependiendo la segmentación, la medida de coherencia va a estar interesada en estos conjuntos resultantes.\n",
    "\n",
    "2. Usando el corpus de referencia, en el segundo definimos y calculamos la probabilidad de ocurrencia de distintas palabras dentro del texto.  Al igual que en el paso anterior, se pueden definir distintas formas de calcular estas probabilidades.\n",
    "\n",
    "3. Con las palabras segmentadas y las probabilidades, utilizamos una medida de confirmación para evaluar la relación entre los subconjuntos creados en el paso de segmentación. Esto nos dice cuán fuerte es la relación de estos subconjuntos. Esto se pueden hacer por medidas de confirmación directa o indirecta, que están  más allá de este curso.\n",
    "\n",
    "4. Agregación, toma los valores calculados en el paso anterior y se los agrega en un solo resultado que da la medida de coherencia del tópico. Aquí también existen varias formas de hacer la agregación, por ejemplo, la media, la mediana, etc.\n",
    "\n",
    "\n",
    "[Gensim](https://radimrehurek.com/gensim/index.html) implementa esta medida a través de la función [CoherenceModel](https://radimrehurek.com/gensim/models/coherencemodel.html) que implementa los 4 pasos anteriores. La función requiere como insumos el modelo estimado, el corpus y el diccionario."
   ]
  },
  {
   "cell_type": "code",
   "execution_count": 16,
   "metadata": {},
   "outputs": [
    {
     "data": {
      "text/plain": [
       "0.6043466319744287"
      ]
     },
     "execution_count": 16,
     "metadata": {},
     "output_type": "execute_result"
    }
   ],
   "source": [
    "from gensim.models import CoherenceModel\n",
    "\n",
    "coherencemodel = CoherenceModel(model=Estimacion, texts=clean, dictionary=dictionary)\n",
    "coherencemodel.get_coherence() "
   ]
  },
  {
   "cell_type": "markdown",
   "metadata": {},
   "source": [
    "Obtuvimos una coherencia de 0.51, sin embargo, este número no tiene interpretación directa. Sirve sólo en un contexto donde se compara con otros modelos con diferentes números de temas, y escogeremos aquella con mayor coherencia.\n",
    "\n",
    "Ilustremos esto creando una función que itere a lo largo de distinto número de temas y devuelve la medida de coherencia. Adicionalmente, aprovecharemos que [Gensim](https://radimrehurek.com/gensim/index.html) tiene una implementación de LDA ([LdaMulticore](https://radimrehurek.com/gensim/models/ldamulticore.html)) que paraleliza y acelera la estimación del modelo:"
   ]
  },
  {
   "cell_type": "code",
   "execution_count": 17,
   "metadata": {},
   "outputs": [],
   "source": [
    "from gensim.models.ldamulticore import LdaMulticore\n",
    "\n",
    "def calcular_coherencia(dictionary, corpus, texts, start=1, limit=10, step=1):\n",
    " \n",
    "    coherence_values = []\n",
    "    model_list = []\n",
    "    \n",
    "    for num_topics in range(start, limit, step):\n",
    "        model = LdaMulticore(corpus=corpus,\n",
    "                        id2word=dictionary,\n",
    "                        num_topics=num_topics, \n",
    "                        random_state=123,\n",
    "                        passes=20)\n",
    "        model_list.append(model)\n",
    "        coherencemodel = CoherenceModel(model=model, texts=texts, dictionary=dictionary, coherence='c_v')\n",
    "        coherence_values.append(coherencemodel.get_coherence())\n",
    "\n",
    "    return model_list, coherence_values"
   ]
  },
  {
   "cell_type": "markdown",
   "metadata": {},
   "source": [
    "La función además de los insumos esenciales para la estimación de LDA, tiene además un punto de inicio, finalización y tamaño de paso para el rango de temas a estimar:"
   ]
  },
  {
   "cell_type": "code",
   "execution_count": 18,
   "metadata": {},
   "outputs": [],
   "source": [
    "modelos, valores_c = calcular_coherencia(dictionary=dictionary, corpus=corpus, texts=clean, start=1, limit=10, step=1)"
   ]
  },
  {
   "cell_type": "markdown",
   "metadata": {},
   "source": [
    "Graficamos los resultados:"
   ]
  },
  {
   "cell_type": "code",
   "execution_count": 19,
   "metadata": {},
   "outputs": [
    {
     "data": {
      "image/png": "[encoded data removed]",
      "text/plain": [
       "<Figure size 640x480 with 1 Axes>"
      ]
     },
     "metadata": {},
     "output_type": "display_data"
    }
   ],
   "source": [
    "import matplotlib.pyplot as plt\n",
    "# Show graph\n",
    "limit=10; start=1; step=1;\n",
    "x = range(start, limit, step)\n",
    "plt.plot(x, valores_c)\n",
    "plt.xlabel(\"Número de Temas\")\n",
    "plt.ylabel(\"Medida de Coherencia\")\n",
    "plt.show()"
   ]
  },
  {
   "cell_type": "markdown",
   "metadata": {},
   "source": [
    "La medida de coherencia sugiere que hay 4 tipos de temas en estas páginas, visualicemos entonces los resultados:"
   ]
  },
  {
   "cell_type": "code",
   "execution_count": 20,
   "metadata": {},
   "outputs": [
    {
     "data": {
      "text/html": [
       "\n",
       "<link rel=\"stylesheet\" type=\"text/css\" href=\"https://cdn.jsdelivr.net/gh/bmabey/pyLDAvis@3.4.0/pyLDAvis/js/ldavis.v1.0.0.css\">\n",
       "\n",
       "\n",
       "<div id=\"ldavis_el3321353349102247177915915\" style=\"background-color:white;\"></div>\n",
       "<script type=\"text/javascript\">\n",
       "\n",
       "var ldavis_el3321353349102247177915915_data = {\"mdsDat\": {\"x\": [0.02888248695261529, -0.009190757093644402, -0.0031617148332644712, -0.016530015025706415], \"y\": [-0.0033554902305995096, -0.015617217548138228, 0.01997262110056483, -0.0009999133218270978], \"topics\": [1, 2, 3, 4], \"cluster\": [1, 1, 1, 1], \"Freq\": [32.32930371715815, 27.16533657588022, 22.827171446225663, 17.67818826073597]}, \"tinfo\": {\"Term\": [\"freud\", \"hombre\", \"historia\", \"chomsky\", \"frase\", \"politico\", \"voltaire\", \"generativo\", \"linguistico\", \"diccionario\", \"estructura\", \"gramatico\", \"teoria\", \"inconsciente\", \"forma\", \"lengua\", \"caso\", \"tolerancia\", \"sociedad\", \"luis\", \"rey\", \"religion\", \"hijo\", \"lenguaje\", \"filosofo\", \"proceso\", \"gramatica\", \"articulo\", \"ciencia\", \"religioso\", \"inconsciente\", \"freud\", \"psique\", \"oscuro\", \"consciente\", \"muerte\", \"tenia\", \"religioso\", \"psicoanalisis\", \"deseo\", \"interno\", \"medico\", \"finalmente\", \"cultura\", \"habiar\", \"existencia\", \"habrio\", \"realidad\", \"pese\", \"caracter\", \"mayorio\", \"autor\", \"origen\", \"dudar\", \"sujeto\", \"ciudad\", \"completo\", \"casa\", \"sentimiento\", \"persona\", \"mundo\", \"mente\", \"ano\", \"razon\", \"humano\", \"lenguaje\", \"vida\", \"voltaire\", \"pensamiento\", \"estudio\", \"palabra\", \"lugar\", \"hombre\", \"obra\", \"idea\", \"ejemplo\", \"filosofico\", \"forma\", \"chomsky\", \"naturaleza\", \"linguistico\", \"teoria\", \"tiempo\", \"caso\", \"cognitiva\", \"cerebro\", \"ciencia\", \"capitulo\", \"proceso\", \"nombre\", \"gramatica\", \"chomsky\", \"teoria\", \"fundamental\", \"logico\", \"caber\", \"campo\", \"rousseau\", \"producir\", \"distinto\", \"intentar\", \"idea\", \"especifico\", \"servir\", \"investigacion\", \"natural\", \"humano\", \"orden\", \"estructura\", \"principio\", \"desarrollar\", \"aspecto\", \"general\", \"ser\", \"rey\", \"pensamiento\", \"gramatico\", \"generativo\", \"politico\", \"linguistico\", \"historia\", \"lenguaje\", \"mental\", \"voltaire\", \"mente\", \"filosofia\", \"ejemplo\", \"mundo\", \"forma\", \"filosofo\", \"lugar\", \"obra\", \"freud\", \"frase\", \"tolerancia\", \"hijo\", \"politico\", \"tierra\", \"diccionario\", \"antiguo\", \"moral\", \"articulo\", \"celebrar\", \"leer\", \"sociedad\", \"hecho\", \"creer\", \"convertir\", \"hombre\", \"fanatismo\", \"guerra\", \"lector\", \"dejar\", \"parecer\", \"preguntar\", \"cultural\", \"dio\", \"amigo\", \"tipo\", \"religion\", \"pequeno\", \"mostrar\", \"recibir\", \"ley\", \"caso\", \"visto\", \"chomsky\", \"naturaleza\", \"escribir\", \"filosofico\", \"determinado\", \"voltaire\", \"ejemplo\", \"ano\", \"linguistico\", \"frase\", \"freud\", \"obra\", \"resultar\", \"punto\", \"humano\", \"idea\", \"lenguaje\", \"generativo\", \"mente\", \"tiempo\", \"estructura\", \"teoria\", \"forma\", \"historia\", \"frase\", \"hacer\", \"querer\", \"justo\", \"nivel\", \"lengua\", \"luis\", \"concreto\", \"objeto\", \"gramatico\", \"generativo\", \"fenomeno\", \"significado\", \"momento\", \"especifico\", \"pese\", \"constituir\", \"pueblo\", \"rey\", \"forma\", \"conocimiento\", \"mantener\", \"llevar\", \"tomar\", \"filosofo\", \"expresar\", \"importante\", \"estructura\", \"nino\", \"intelectual\", \"voltaire\", \"linguistico\", \"hombre\", \"escrito\", \"caso\", \"lenguaje\", \"teoria\", \"profundo\", \"ejemplo\", \"obra\", \"razon\", \"palabra\", \"filosofia\", \"chomsky\", \"filosofico\", \"cosa\", \"humano\", \"ano\", \"vida\", \"idea\", \"freud\", \"mente\"], \"Freq\": [353.0, 219.0, 81.0, 269.0, 100.0, 85.0, 348.0, 111.0, 185.0, 76.0, 111.0, 93.0, 150.0, 48.0, 128.0, 83.0, 117.0, 39.0, 92.0, 52.0, 61.0, 64.0, 34.0, 224.0, 94.0, 79.0, 68.0, 49.0, 84.0, 61.0, 34.10969749302461, 239.02842511315967, 16.782796698305148, 17.15890838572938, 27.01246839705713, 21.24734389980662, 18.484757038526762, 36.62768297491853, 37.134047120030225, 29.94499383825822, 15.150494400812581, 18.50668671017707, 14.26574488997261, 25.14703746998039, 13.847131627102186, 14.17730568715101, 18.580720029369125, 39.396317065554896, 19.527652643474692, 22.696949262363262, 11.133085799263647, 26.110803963052877, 19.063318241153322, 11.53945250677668, 25.294748846129494, 13.252125113578245, 13.220169275539345, 11.028849639123553, 19.692447692349706, 19.826261653943124, 47.222433248308796, 61.959292498318995, 49.67555006647936, 31.110371649697317, 87.92063541871535, 80.99559748727795, 38.16454740355985, 105.81411952776921, 35.988888170540974, 30.00767097806937, 31.86013483356835, 31.26176887153462, 63.6849477194211, 39.33209453502146, 43.1258111601036, 44.070169233199856, 33.18208115275308, 37.00054401289244, 49.705138969877524, 30.36404562794998, 40.04109137742542, 35.38951193152644, 28.10010594992077, 29.9866638780356, 24.130354355763522, 15.684088988027787, 39.01085475038131, 14.27164132673973, 35.89923842959976, 15.721571417874266, 29.80677450421086, 118.08099762882685, 63.73075044985015, 14.585475051203456, 11.491800481871318, 10.41548943038222, 24.24429049443275, 24.144063708402246, 15.142039692691919, 12.237926588629167, 13.281938196340153, 56.4120084390717, 14.358273502263696, 10.568597413543321, 10.237656849892817, 17.486656167286927, 93.13496850839671, 19.714254324312442, 42.51324732458969, 30.947656457370282, 13.025371990190154, 18.31232189321925, 24.3581296153642, 9.849965573954842, 23.02159460243819, 33.53244967047038, 34.361335639006725, 40.380536246565285, 31.196219633016227, 61.55614636636169, 29.135788635364268, 68.69893178386877, 22.482500616653184, 90.45689833759752, 45.06499666934678, 25.698478171675283, 41.802678218728516, 32.92312976833786, 35.92020545531478, 28.951563145672825, 25.60420678216394, 30.745883817220598, 49.34683348033782, 25.33057571565601, 21.393328990668863, 17.36891898709941, 39.68923173344349, 10.72289343604606, 34.462128379844536, 14.609055913828195, 21.0395753635217, 20.556321632864595, 8.227833703329939, 9.453473848979634, 36.752546718859605, 15.954261932096065, 13.731878925485173, 10.080408243142893, 84.38359755068117, 15.523890950939498, 14.059935088962025, 12.435158036951186, 20.96507607878315, 8.512313452755402, 9.280518834281734, 8.242865567259592, 14.78280187297254, 11.389320180270643, 22.697169163110292, 23.183533367071153, 8.217577293877728, 14.39648077509001, 7.7702727330064985, 14.83753460155495, 37.8307552900257, 20.81518073978501, 68.99999929308179, 26.566185627139124, 16.0312257652386, 28.34024971994152, 17.478368766475395, 70.75978092026058, 36.753427810591816, 30.738772684051014, 40.74447547953225, 23.607245991311864, 45.11048255279053, 25.30236614624257, 19.590521239826593, 20.45985306263937, 33.790485635276404, 25.92373806092915, 30.40495179762158, 23.117186532523906, 25.25563379329982, 19.871426453398946, 21.26121696753994, 21.642373801782057, 20.84421286913934, 30.950293049861525, 36.09693849230801, 9.44751704878268, 12.907336020847673, 8.608051908764951, 10.311588046193005, 25.977595696674015, 16.064990183269714, 12.722557760467508, 16.03646506664178, 26.98076093723454, 31.883664393927624, 6.124102382186384, 8.21012871726585, 17.982388204288345, 10.266444930446724, 10.887494537009523, 8.76705266207405, 9.069346171059925, 16.519722600292887, 34.57376719911377, 11.654912934959357, 6.371188122566216, 7.163198415244084, 9.708720864251879, 24.536631715842244, 6.435828581692493, 10.194138968475873, 28.382833433609605, 14.136805700340695, 16.1031203989716, 81.35332665838446, 43.04113494218556, 47.86012399900536, 15.930700917945982, 25.905764465298276, 43.91229836612104, 30.17843938115993, 12.520955096362423, 29.631374898749666, 23.175007237486373, 16.42467692140178, 16.944806816799446, 16.286348196513007, 32.76503634687509, 18.830034858667076, 16.08725274130537, 26.932578817192706, 19.039212571833268, 17.25164062005748, 18.832809179408322, 20.411851771311493, 17.370705724429577], \"Total\": [353.0, 219.0, 81.0, 269.0, 100.0, 85.0, 348.0, 111.0, 185.0, 76.0, 111.0, 93.0, 150.0, 48.0, 128.0, 83.0, 117.0, 39.0, 92.0, 52.0, 61.0, 64.0, 34.0, 224.0, 94.0, 79.0, 68.0, 49.0, 84.0, 61.0, 48.03672825709035, 353.8975929175995, 25.124788341338416, 26.374376005586846, 41.67714294671546, 35.45997113968637, 30.857269677354434, 61.44635953370569, 65.42196250558968, 53.57798076931275, 28.059907379292696, 34.45362553373912, 27.308307523189004, 48.14160153477444, 26.60252052233675, 27.811372712586984, 37.01645171861692, 79.02682249201143, 39.37813985393218, 46.172911566543064, 22.889379151695053, 54.16260870701502, 39.56972897377825, 24.28765309294349, 54.645550173806484, 28.939920064020114, 29.091158267856784, 24.389606210210633, 43.74559650339849, 44.126112186195286, 110.81207920396379, 149.65062868539516, 121.24312219570604, 73.47838503704723, 241.77866837958118, 224.01177943488935, 94.20211483997636, 348.3841254440118, 90.65312778889927, 72.11526484253409, 78.5350610739135, 78.85652500062437, 219.40562408672307, 118.55535173597099, 144.29436683951278, 152.25765016126985, 99.85199069954275, 128.33872953646033, 269.55117223866125, 88.37409280291159, 185.3828481655049, 150.94107556431857, 77.76850331851446, 117.51732115311789, 46.93355150233462, 33.78003371096512, 84.65725917174932, 30.975830315788734, 79.7372353987319, 35.70368690079647, 68.00344372796988, 269.55117223866125, 150.94107556431857, 34.68636762088868, 27.382017016682255, 25.347577628882043, 59.24164615174685, 59.00465505823485, 37.485749009367176, 30.489731336426342, 33.583605213748605, 144.29436683951278, 36.85406690538469, 27.166582257726272, 26.382650119819054, 45.329957155960074, 241.77866837958118, 51.201638117304796, 111.12562328602957, 81.17318294703465, 34.27490826269795, 48.22741151154401, 64.37556881800671, 26.03786894367996, 61.15248187720983, 90.65312778889927, 93.90014848312224, 111.77386613527537, 85.29535371275892, 185.3828481655049, 81.46260301545034, 224.01177943488935, 61.39756801474902, 348.3841254440118, 149.65062868539516, 75.32787099556703, 152.25765016126985, 110.81207920396379, 128.33872953646033, 94.10787475957704, 78.85652500062437, 118.55535173597099, 353.8975929175995, 100.34981206734382, 39.991753918541946, 34.048516468944555, 85.29535371275892, 23.141006268721057, 76.70154786570849, 33.649096897409216, 49.25585717903878, 49.103303225752995, 19.677275273016704, 22.91660993233569, 92.61314924703261, 40.25264993007295, 34.842764786938496, 25.64357257575137, 219.40562408672307, 40.39953601846679, 36.70194730980962, 32.466555938434375, 55.550095729310186, 22.975367761458585, 25.227656100606474, 22.443949592406696, 40.47183146374673, 31.39493708325022, 63.210058146002595, 64.59730883525575, 22.95274204868971, 40.27782168847714, 21.841633815828796, 41.83534164743188, 117.51732115311789, 63.528032821635165, 269.55117223866125, 88.37409280291159, 49.26949484919932, 99.85199069954275, 55.02453174798458, 348.3841254440118, 152.25765016126985, 121.24312219570604, 185.3828481655049, 100.34981206734382, 353.8975929175995, 118.55535173597099, 73.84439947798153, 81.08180547950658, 241.77866837958118, 144.29436683951278, 224.01177943488935, 111.77386613527537, 149.65062868539516, 77.76850331851446, 111.12562328602957, 150.94107556431857, 128.33872953646033, 81.46260301545034, 100.34981206734382, 26.554360924013693, 40.39581654627635, 26.97118294957177, 32.762812200712254, 83.76246514682464, 52.73430398764621, 42.32660747171301, 54.071184842705975, 93.90014848312224, 111.77386613527537, 21.77461473900053, 29.263229319924037, 64.33628178877143, 36.85406690538469, 39.37813985393218, 31.968661612922972, 33.52032008846187, 61.15248187720983, 128.33872953646033, 43.523823443137026, 24.123910258057137, 27.303114895055003, 37.142044290970006, 94.10787475957704, 24.711373496882427, 39.379230658151876, 111.12562328602957, 56.32786488810493, 64.42095072356948, 348.3841254440118, 185.3828481655049, 219.40562408672307, 65.5759199307859, 117.51732115311789, 224.01177943488935, 150.94107556431857, 50.15887184363042, 152.25765016126985, 118.55535173597099, 73.47838503704723, 78.5350610739135, 75.32787099556703, 269.55117223866125, 99.85199069954275, 74.26619242506723, 241.77866837958118, 121.24312219570604, 94.20211483997636, 144.29436683951278, 353.8975929175995, 149.65062868539516], \"Category\": [\"Default\", \"Default\", \"Default\", \"Default\", \"Default\", \"Default\", \"Default\", \"Default\", \"Default\", \"Default\", \"Default\", \"Default\", \"Default\", \"Default\", \"Default\", \"Default\", \"Default\", \"Default\", \"Default\", \"Default\", \"Default\", \"Default\", \"Default\", \"Default\", \"Default\", \"Default\", \"Default\", \"Default\", \"Default\", \"Default\", \"Topic1\", \"Topic1\", \"Topic1\", \"Topic1\", \"Topic1\", \"Topic1\", \"Topic1\", \"Topic1\", \"Topic1\", \"Topic1\", \"Topic1\", \"Topic1\", \"Topic1\", \"Topic1\", \"Topic1\", \"Topic1\", \"Topic1\", \"Topic1\", \"Topic1\", \"Topic1\", \"Topic1\", \"Topic1\", \"Topic1\", \"Topic1\", \"Topic1\", \"Topic1\", \"Topic1\", \"Topic1\", \"Topic1\", \"Topic1\", \"Topic1\", \"Topic1\", \"Topic1\", \"Topic1\", \"Topic1\", \"Topic1\", \"Topic1\", \"Topic1\", \"Topic1\", \"Topic1\", \"Topic1\", \"Topic1\", \"Topic1\", \"Topic1\", \"Topic1\", \"Topic1\", \"Topic1\", \"Topic1\", \"Topic1\", \"Topic1\", \"Topic1\", \"Topic1\", \"Topic1\", \"Topic1\", \"Topic2\", \"Topic2\", \"Topic2\", \"Topic2\", \"Topic2\", \"Topic2\", \"Topic2\", \"Topic2\", \"Topic2\", \"Topic2\", \"Topic2\", \"Topic2\", \"Topic2\", \"Topic2\", \"Topic2\", \"Topic2\", \"Topic2\", \"Topic2\", \"Topic2\", \"Topic2\", \"Topic2\", \"Topic2\", \"Topic2\", \"Topic2\", \"Topic2\", \"Topic2\", \"Topic2\", \"Topic2\", \"Topic2\", \"Topic2\", \"Topic2\", \"Topic2\", \"Topic2\", \"Topic2\", \"Topic2\", \"Topic2\", \"Topic2\", \"Topic2\", \"Topic2\", \"Topic2\", \"Topic2\", \"Topic2\", \"Topic2\", \"Topic2\", \"Topic2\", \"Topic2\", \"Topic2\", \"Topic2\", \"Topic2\", \"Topic2\", \"Topic3\", \"Topic3\", \"Topic3\", \"Topic3\", \"Topic3\", \"Topic3\", \"Topic3\", \"Topic3\", \"Topic3\", \"Topic3\", \"Topic3\", \"Topic3\", \"Topic3\", \"Topic3\", \"Topic3\", \"Topic3\", \"Topic3\", \"Topic3\", \"Topic3\", \"Topic3\", \"Topic3\", \"Topic3\", \"Topic3\", \"Topic3\", \"Topic3\", \"Topic3\", \"Topic3\", \"Topic3\", \"Topic3\", \"Topic3\", \"Topic3\", \"Topic3\", \"Topic3\", \"Topic3\", \"Topic3\", \"Topic3\", \"Topic3\", \"Topic3\", \"Topic3\", \"Topic3\", \"Topic3\", \"Topic3\", \"Topic3\", \"Topic3\", \"Topic3\", \"Topic3\", \"Topic3\", \"Topic3\", \"Topic3\", \"Topic3\", \"Topic3\", \"Topic3\", \"Topic3\", \"Topic3\", \"Topic3\", \"Topic4\", \"Topic4\", \"Topic4\", \"Topic4\", \"Topic4\", \"Topic4\", \"Topic4\", \"Topic4\", \"Topic4\", \"Topic4\", \"Topic4\", \"Topic4\", \"Topic4\", \"Topic4\", \"Topic4\", \"Topic4\", \"Topic4\", \"Topic4\", \"Topic4\", \"Topic4\", \"Topic4\", \"Topic4\", \"Topic4\", \"Topic4\", \"Topic4\", \"Topic4\", \"Topic4\", \"Topic4\", \"Topic4\", \"Topic4\", \"Topic4\", \"Topic4\", \"Topic4\", \"Topic4\", \"Topic4\", \"Topic4\", \"Topic4\", \"Topic4\", \"Topic4\", \"Topic4\", \"Topic4\", \"Topic4\", \"Topic4\", \"Topic4\", \"Topic4\", \"Topic4\", \"Topic4\", \"Topic4\", \"Topic4\", \"Topic4\", \"Topic4\", \"Topic4\", \"Topic4\"], \"logprob\": [30.0, 29.0, 28.0, 27.0, 26.0, 25.0, 24.0, 23.0, 22.0, 21.0, 20.0, 19.0, 18.0, 17.0, 16.0, 15.0, 14.0, 13.0, 12.0, 11.0, 10.0, 9.0, 8.0, 7.0, 6.0, 5.0, 4.0, 3.0, 2.0, 1.0, -4.9402, -2.9932, -5.6494, -5.6272, -5.1734, -5.4135, -5.5528, -4.8689, -4.8552, -5.0704, -5.7517, -5.5516, -5.8119, -5.245, -5.8417, -5.8181, -5.5476, -4.7961, -5.4979, -5.3475, -6.0598, -5.2074, -5.522, -6.024, -5.2391, -5.8856, -5.888, -6.0692, -5.4895, -5.4827, -4.6149, -4.3433, -4.5642, -5.0322, -3.9933, -4.0753, -4.8278, -3.8081, -4.8865, -5.0683, -5.0084, -5.0273, -4.3158, -4.7977, -4.7056, -4.684, -4.9677, -4.8588, -4.5636, -5.0565, -4.7798, -4.9033, -5.134, -5.069, -5.1122, -5.5431, -4.6319, -5.6374, -4.715, -5.5407, -4.901, -3.5243, -4.141, -5.6157, -5.8541, -5.9524, -5.1075, -5.1117, -5.5782, -5.7912, -5.7093, -4.263, -5.6314, -5.9378, -5.9696, -5.4343, -3.7617, -5.3144, -4.5459, -4.8634, -5.7288, -5.3881, -5.1028, -6.0082, -5.1593, -4.7832, -4.7588, -4.5974, -4.8554, -4.1758, -4.9237, -4.066, -5.183, -3.7908, -4.4876, -5.0493, -4.5627, -4.8015, -4.7144, -4.9301, -5.0529, -4.8699, -4.3968, -5.0637, -5.0586, -5.267, -4.4406, -5.7493, -4.5819, -5.4401, -5.0753, -5.0985, -6.0142, -5.8753, -4.5175, -5.352, -5.502, -5.8111, -3.6863, -5.3793, -5.4784, -5.6012, -5.0789, -5.9802, -5.8938, -6.0124, -5.4282, -5.689, -4.9995, -4.9783, -6.0154, -5.4547, -6.0714, -5.4246, -4.4886, -5.086, -3.8876, -4.8421, -5.3472, -4.7774, -5.2607, -3.8624, -4.5175, -4.6962, -4.4144, -4.9602, -4.3126, -4.8908, -5.1467, -5.1032, -4.6015, -4.8666, -4.7071, -4.9811, -4.8927, -5.1324, -5.0648, -5.0471, -5.0846, -4.4337, -4.2799, -5.6203, -5.3083, -5.7134, -5.5328, -4.6089, -5.0894, -5.3227, -5.0912, -4.571, -4.404, -6.0539, -5.7607, -4.9767, -5.5372, -5.4785, -5.6951, -5.6612, -5.0615, -4.323, -5.4104, -6.0143, -5.8971, -5.5931, -4.6659, -6.0042, -5.5443, -4.5203, -5.2173, -5.0871, -3.4673, -4.1039, -3.9978, -5.0978, -4.6116, -4.0839, -4.459, -5.3387, -4.4773, -4.723, -5.0673, -5.0361, -5.0758, -4.3767, -4.9306, -5.0881, -4.5728, -4.9196, -5.0182, -4.9305, -4.85, -5.0113], \"loglift\": [30.0, 29.0, 28.0, 27.0, 26.0, 25.0, 24.0, 23.0, 22.0, 21.0, 20.0, 19.0, 18.0, 17.0, 16.0, 15.0, 14.0, 13.0, 12.0, 11.0, 10.0, 9.0, 8.0, 7.0, 6.0, 5.0, 4.0, 3.0, 2.0, 1.0, 0.7868, 0.7368, 0.7257, 0.6993, 0.6955, 0.617, 0.6168, 0.6118, 0.5629, 0.5474, 0.5129, 0.5077, 0.4799, 0.4798, 0.4763, 0.4554, 0.44, 0.4331, 0.4278, 0.419, 0.4084, 0.3996, 0.3989, 0.385, 0.3589, 0.3481, 0.3405, 0.3356, 0.331, 0.3292, 0.2762, 0.2474, 0.2369, 0.2697, 0.1176, 0.1119, 0.2257, -0.0624, 0.2054, 0.2524, 0.227, 0.204, -0.1078, 0.0259, -0.0785, -0.1106, 0.0275, -0.1145, -0.5615, 0.0609, -0.4033, -0.3213, 0.1112, -0.2366, 0.638, 0.536, 0.5285, 0.5283, 0.5052, 0.483, 0.4784, 0.4778, 0.441, 0.4369, 0.435, 0.4138, 0.4098, 0.4097, 0.3967, 0.3904, 0.3756, 0.3641, 0.3606, 0.3591, 0.3566, 0.3507, 0.3493, 0.3488, 0.3424, 0.3389, 0.3357, 0.3349, 0.3314, 0.3311, 0.3263, 0.3087, 0.2979, 0.2851, 0.2974, 0.2008, 0.2751, 0.1213, 0.2986, -0.0452, 0.103, 0.2278, 0.0106, 0.0896, 0.0299, 0.1244, 0.1784, -0.0464, -0.6669, -0.0734, 0.8516, 0.8041, 0.7122, 0.708, 0.6772, 0.6429, 0.6266, 0.6065, 0.6053, 0.5917, 0.553, 0.5518, 0.5461, 0.5435, 0.5217, 0.5208, 0.5177, 0.5175, 0.5028, 0.4843, 0.4772, 0.4755, 0.4701, 0.4632, 0.453, 0.4525, 0.4501, 0.4484, 0.4437, 0.4406, 0.3438, 0.3614, 0.1146, 0.2753, 0.3545, 0.2178, 0.3304, -0.1168, 0.0559, 0.1049, -0.0379, 0.0301, -0.5827, -0.0673, 0.1503, 0.1002, -0.4906, -0.2395, -0.5199, -0.0987, -0.302, 0.1128, -0.1766, -0.465, -0.3404, 0.7651, 0.7104, 0.6994, 0.5919, 0.5908, 0.5768, 0.5621, 0.5442, 0.5308, 0.5174, 0.4857, 0.4785, 0.4643, 0.4619, 0.4581, 0.4548, 0.4472, 0.4391, 0.4256, 0.424, 0.4213, 0.4153, 0.4014, 0.3948, 0.3911, 0.3886, 0.3875, 0.3814, 0.368, 0.3504, 0.3464, 0.2783, 0.2726, 0.2102, 0.3179, 0.2207, 0.1033, 0.1231, 0.345, 0.0961, 0.1005, 0.2346, 0.1993, 0.2013, -0.3746, 0.0646, 0.2032, -0.4618, -0.1185, 0.0353, -0.3034, -1.1201, -0.4207]}, \"token.table\": {\"Topic\": [1, 2, 3, 4, 1, 2, 3, 4, 1, 2, 3, 4, 1, 2, 3, 4, 1, 2, 3, 4, 1, 2, 3, 4, 1, 2, 3, 4, 1, 2, 3, 4, 1, 2, 3, 4, 1, 2, 3, 4, 1, 2, 3, 4, 1, 2, 3, 4, 1, 2, 3, 4, 1, 2, 3, 4, 1, 2, 3, 4, 1, 2, 3, 4, 1, 2, 3, 4, 1, 2, 3, 4, 1, 2, 3, 4, 1, 2, 3, 4, 1, 2, 3, 4, 1, 2, 3, 4, 1, 2, 3, 4, 1, 2, 3, 4, 1, 2, 3, 4, 1, 2, 3, 4, 1, 2, 3, 4, 1, 2, 3, 4, 1, 2, 3, 4, 1, 2, 3, 4, 1, 2, 3, 4, 1, 2, 3, 4, 1, 2, 3, 4, 1, 2, 3, 4, 1, 2, 3, 4, 1, 2, 3, 4, 1, 2, 3, 4, 1, 2, 3, 4, 1, 2, 3, 4, 1, 2, 3, 4, 1, 2, 3, 4, 1, 2, 3, 4, 1, 2, 3, 4, 1, 2, 3, 4, 1, 2, 3, 4, 1, 2, 3, 4, 1, 2, 3, 4, 1, 2, 3, 4, 1, 2, 3, 4, 1, 2, 3, 4, 1, 2, 3, 4, 1, 2, 3, 4, 1, 2, 3, 4, 1, 2, 3, 4, 1, 2, 3, 4, 1, 2, 3, 4, 1, 2, 3, 4, 1, 2, 3, 4, 1, 2, 3, 4, 1, 2, 3, 4, 1, 2, 3, 4, 1, 2, 3, 4, 1, 2, 3, 4, 1, 2, 3, 4, 1, 2, 3, 4, 1, 2, 3, 4, 1, 2, 3, 4, 1, 2, 3, 4, 1, 2, 3, 4, 1, 2, 3, 4, 1, 2, 3, 4, 1, 2, 3, 4, 1, 2, 3, 4, 1, 2, 3, 4, 1, 2, 3, 4, 1, 2, 3, 4, 1, 2, 3, 4, 1, 2, 3, 4, 1, 2, 3, 4, 1, 2, 3, 4, 1, 2, 3, 4, 1, 2, 3, 4, 1, 2, 3, 4, 1, 2, 3, 4, 1, 2, 3, 4, 1, 2, 3, 4, 1, 2, 3, 4, 1, 2, 3, 4, 1, 2, 3, 4, 1, 2, 3, 4, 1, 2, 3, 4, 1, 2, 3, 4, 1, 2, 3, 4, 1, 2, 3, 4, 1, 2, 3, 4, 1, 2, 3, 4, 1, 2, 3, 4, 1, 2, 3, 4, 1, 2, 3, 4, 1, 2, 3, 4, 1, 2, 3, 4, 1, 2, 3, 4, 1, 2, 3, 4, 1, 2, 3, 4, 1, 2, 3, 4, 1, 2, 3, 4, 1, 2, 3, 4, 1, 2, 3, 4, 1, 2, 3, 4, 1, 2, 3, 4, 1, 2, 3, 4, 1, 2, 3, 4, 1, 2, 3, 4, 1, 2, 3, 4, 1, 2, 3, 4, 1, 2, 3, 4, 1, 2, 3, 4, 1, 2, 3, 4, 1, 2, 3, 4, 1, 2, 3, 4, 1, 2, 3, 4, 1, 2, 3, 4, 1, 2, 3, 4, 1, 2, 3, 4, 1, 2, 3, 4, 1, 2, 3, 4, 1, 2, 3, 4, 1, 2, 3, 4, 1, 2, 3, 4, 1, 2, 3, 4, 1, 2, 3, 4, 1, 2, 3, 4, 1, 2, 3, 4, 1, 2, 3, 4, 1, 2, 3, 4, 1, 2, 3, 4, 1, 2, 3, 4, 1, 2, 3, 4, 1, 2, 3, 4, 1, 2, 3, 4, 1, 2, 3, 4, 1, 2, 3, 4, 1, 2, 3, 4, 1, 2, 3, 4, 1, 2, 3, 4, 1, 2, 3, 4], \"Freq\": [0.28667042638545903, 0.191113617590306, 0.3503749655822277, 0.15926134799192168, 0.41239452675337657, 0.1814535917714857, 0.25568460658709347, 0.1567099201662831, 0.26746631647914887, 0.11887391843517728, 0.4457771941319148, 0.20802935726156024, 0.1629218295807903, 0.24438274437118546, 0.42766980264957455, 0.1832870582783891, 0.24882115012802636, 0.37323172519203957, 0.22808605428402418, 0.1451456709080154, 0.4800359624596985, 0.16616629469758795, 0.24001798122984924, 0.11077752979839196, 0.2761605113706771, 0.39451501624382446, 0.19725750812191223, 0.11835450487314733, 0.2194402222838413, 0.40512041037016855, 0.2869602906788694, 0.08440008549378511, 0.22598264287469383, 0.45196528574938766, 0.16141617348192416, 0.16141617348192416, 0.49812756483534865, 0.2165772021023255, 0.19491948189209296, 0.08663088084093021, 0.4510117918752983, 0.12300321596599044, 0.28700750392064434, 0.1640042879546539, 0.25528151684900846, 0.20422521347920675, 0.323356588008744, 0.22124398126914063, 0.30492026547129486, 0.15246013273564743, 0.4065603539617265, 0.10164008849043163, 0.26642957425701347, 0.47365257645691283, 0.1776197161713423, 0.08880985808567116, 0.18549353573476535, 0.4377647443340462, 0.2559810793139762, 0.12242573358494513, 0.20080971397279787, 0.46068110852583044, 0.16537270562465708, 0.16537270562465708, 0.44920649301178955, 0.13821738246516602, 0.34554345616291504, 0.06910869123258301, 0.23437391051586678, 0.5113612593073457, 0.1491470339646425, 0.10653359568903036, 0.4468711723439309, 0.24062293895442435, 0.1718735278245888, 0.13749882225967106, 0.18900640703005603, 0.33076121230259803, 0.18900640703005603, 0.30713541142384104, 0.25273514893219967, 0.27571107156239966, 0.20678330367179973, 0.27571107156239966, 0.647837113847264, 0.14396380307716977, 0.11996983589764147, 0.09597586871811319, 0.25024507115324746, 0.1876838033649356, 0.2815257050474034, 0.2815257050474034, 0.27297288547927284, 0.19498063248519487, 0.38996126497038974, 0.11698837949111693, 0.3231618481614688, 0.201976155100918, 0.2693015401345573, 0.21544123210764585, 0.3157039938496376, 0.1722021784634387, 0.40180508308135693, 0.11480145230895912, 0.5193013776648371, 0.14540438574615439, 0.20772055106593482, 0.12463233063956089, 0.35644350238188843, 0.13366631339320817, 0.35644350238188843, 0.13366631339320817, 0.2520247682059908, 0.21602122989084926, 0.3780371523089862, 0.14401415326056619, 0.23340689750894406, 0.3792862084520341, 0.20423103532032605, 0.17505517313170804, 0.5599315160675625, 0.16797945482026877, 0.13065068708243127, 0.14931507095135002, 0.23625825767206385, 0.30895310618654503, 0.30895310618654503, 0.14538969702896237, 0.11733791886126582, 0.28682602388309425, 0.443276582364782, 0.14341301194154712, 0.3459196061473204, 0.14825125977742304, 0.3706281494435576, 0.14825125977742304, 0.1967875654198287, 0.3935751308396574, 0.22958549298980016, 0.1967875654198287, 0.49407820319561746, 0.20586591799817394, 0.12351955079890437, 0.20586591799817394, 0.28898383728762145, 0.27584820832000234, 0.2430091359009544, 0.19703443451428737, 0.2435584135118246, 0.22326187905250588, 0.32474455134909946, 0.22326187905250588, 0.27449100247466823, 0.28974050261214984, 0.1982435017872604, 0.24399200219970513, 0.13567023723152405, 0.3798766642482673, 0.18993833212413366, 0.2713404744630481, 0.17097766867948477, 0.38694946069567604, 0.18897531801416736, 0.2519670906855565, 0.4160006909148282, 0.22186703515457504, 0.15253358666877034, 0.2080003454574141, 0.5033911898086146, 0.21573908134654912, 0.17978256778879095, 0.10786954067327456, 0.28327037349352985, 0.12140158864008423, 0.32373756970689127, 0.24280317728016845, 0.1732693166773072, 0.1980220762026368, 0.3960441524052736, 0.22277483572796639, 0.22962518785898406, 0.2755502254307809, 0.22962518785898406, 0.2755502254307809, 0.25223067835168383, 0.3451577703759884, 0.18585418404860915, 0.212404781769839, 0.3304891546859377, 0.19028163451614596, 0.28041504033958353, 0.19028163451614596, 0.2656525828881906, 0.30815699615030107, 0.170017653048442, 0.2656525828881906, 0.5126645065100363, 0.10985667996643633, 0.21971335993287266, 0.14647557328858177, 0.28829956579466137, 0.2805076856380489, 0.16362948328886187, 0.2727158054814365, 0.14947711102770816, 0.2491285183795136, 0.23916337764433304, 0.35874506646649956, 0.6753366080555627, 0.13845813303231203, 0.12715542829498042, 0.05651352368665797, 0.20180838986969882, 0.43244654972078317, 0.20180838986969882, 0.17297861988831326, 0.23300764988043568, 0.3728122398086971, 0.23300764988043568, 0.1553384332536238, 0.1431461624547893, 0.35786540613697326, 0.20577260852875962, 0.2862923249095786, 0.17646165167756628, 0.44115412919391567, 0.17646165167756628, 0.20587192695716064, 0.20234259803556212, 0.36208675437942694, 0.1490945459209405, 0.2875394814189567, 0.24521859627852768, 0.27246510697614185, 0.3814511497665986, 0.08173953209284256, 0.5262659223679549, 0.15036169210512998, 0.18795211513141247, 0.11277126907884749, 0.5132852858083156, 0.1080600601701717, 0.16209009025525756, 0.2431351353828863, 0.18829298940041106, 0.22595158728049328, 0.22595158728049328, 0.33892738092073993, 0.17390159435864286, 0.3478031887172857, 0.3974893585340408, 0.0993723396335102, 0.2643286972050264, 0.0881095657350088, 0.49928753916504987, 0.14684927622501467, 0.1718579996436492, 0.35599157069041615, 0.0859289998218246, 0.38054271349665175, 0.2916971716946651, 0.10482867107777026, 0.3828525378492479, 0.2187728787709988, 0.3639692475344604, 0.3846493184171002, 0.14062448200195063, 0.11167238276625491, 0.2980019313423753, 0.38809553849239575, 0.18018721430004087, 0.1316752719884914, 0.3555173568913253, 0.22854687228728057, 0.15236458152485371, 0.2539409692080895, 0.7077917508876451, 0.2289914488165911, 0.041634808875743834, 0.020817404437871917, 0.23284350559129519, 0.23284350559129519, 0.2794122067095542, 0.2483664059640482, 0.23821147101636736, 0.387093640401597, 0.17865860326227553, 0.20843503713932146, 0.5345705456985761, 0.10691410913971523, 0.21382821827943047, 0.1425521455196203, 0.18951848951079872, 0.37903697902159744, 0.18951848951079872, 0.18951848951079872, 0.3707660883357277, 0.14830643533429108, 0.14830643533429108, 0.33368947950215494, 0.21560648481698977, 0.18480555841456264, 0.3696111168291253, 0.24640741121941687, 0.21818235833149663, 0.1745458866651973, 0.39272824499669395, 0.1745458866651973, 0.2745859969579932, 0.2745859969579932, 0.14326225928243122, 0.310401561778601, 0.361588128107983, 0.30801951653642995, 0.1339215289288826, 0.1964182424290278, 0.19122587948295364, 0.2629355842890612, 0.35854852403053805, 0.21512911441832283, 0.21576969172622193, 0.33444302217564403, 0.22116393401937748, 0.23195241860568858, 0.2930068613324745, 0.21975514599935586, 0.21975514599935586, 0.25638100366591515, 0.32868287221196407, 0.40172351048128946, 0.14608127653865072, 0.10956095740398804, 0.39311902217038536, 0.3297127282719361, 0.2029001404750376, 0.0760875526781391, 0.15170390798888933, 0.2844448274791675, 0.26548183898055633, 0.30340781597777866, 0.3730738468069907, 0.16581059858088476, 0.20726324822610595, 0.24871589787132714, 0.4805722307756611, 0.17475353846387676, 0.21844192307984595, 0.13106515384790757, 0.551465911225918, 0.0870735649304081, 0.23219617314775495, 0.11609808657387748, 0.37460767166665143, 0.35832038159418833, 0.11401103050724173, 0.14658561065216794, 0.41429829292825926, 0.300700373899543, 0.1670557632775239, 0.11359791902871624, 0.3108665817161132, 0.24869326537289058, 0.1554332908580566, 0.2797799235445019, 0.2436258485235883, 0.18271938639269122, 0.4263452349162795, 0.1421150783054265, 0.27310315053971573, 0.22344803225976742, 0.3475858279596382, 0.14896535483984494, 0.5922170640600736, 0.11280325029715686, 0.22560650059431372, 0.05640162514857843, 0.42414148653857936, 0.2978014692717685, 0.18048573895258696, 0.09024286947629348, 0.19854419824477293, 0.3750279300179044, 0.2426651311880558, 0.15442326530149006, 0.3394660024053069, 0.2263106682702046, 0.3055194021647762, 0.13578640096212274, 0.23079163440376171, 0.2130384317573185, 0.30180444498953457, 0.24854483705020491, 0.15261205202315634, 0.3662689248555752, 0.15261205202315634, 0.30522410404631267, 0.2800831193648217, 0.4481329909837148, 0.16804987161889304, 0.1120332477459287, 0.2589179438313816, 0.22192966614118426, 0.20343552729608558, 0.295906221521579, 0.32896026563908354, 0.26148123679004076, 0.21087196515325868, 0.19400220794099798, 0.23436750153398545, 0.3906125025566424, 0.2538981266618176, 0.13671437589482485, 0.48016502747822126, 0.22744659196336797, 0.1769029048603973, 0.10108737420594131, 0.6445650125105866, 0.11374676691363292, 0.11374676691363292, 0.11374676691363292, 0.4074613244380508, 0.16553116305295812, 0.2164638286077145, 0.2164638286077145, 0.26114924741553264, 0.2176243728462772, 0.39172387112329893, 0.17409949827702176, 0.397118123533828, 0.3750560055597265, 0.099279530883457, 0.13237270784460936, 0.30497445512831894, 0.21783889652022784, 0.34854223443236454, 0.1307033379121367, 0.4532463661336776, 0.2266231830668388, 0.2266231830668388, 0.09064927322673551, 0.5078960071295207, 0.12697400178238016, 0.10157920142590413, 0.27934280392123634, 0.12896364832536666, 0.3634430089169424, 0.4689587211831515, 0.046895872118315154, 0.19819518626939742, 0.23783422352327688, 0.3567513352849153, 0.15855614901551793, 0.3079834878017837, 0.38189952487421175, 0.12319339512071346, 0.18479009268107022, 0.2508238453463872, 0.45148292162349696, 0.11287073040587424, 0.1881178840097904, 0.18673763189981332, 0.4001520683567429, 0.24009124101404572, 0.16006082734269714, 0.33892309326647657, 0.2990497881763029, 0.09968326272543429, 0.2591764830861292, 0.5655593104049532, 0.21399541474782013, 0.1222830941416115, 0.09171232060620862, 0.6766226154442659, 0.23880798192150562, 0.03980133032025094, 0.07960266064050188, 0.14916325341776987, 0.26849385615198573, 0.29832650683553974, 0.26849385615198573, 0.30833057863170976, 0.2713309091959046, 0.2466644629053678, 0.17266512403375747, 0.27230542517685463, 0.22279534787197194, 0.1980403092195306, 0.32181550248173724, 0.42189277818735454, 0.1905322224071924, 0.16331333349187918, 0.21775111132250557, 0.4935033292518168, 0.21511683582771501, 0.1645011097506056, 0.12653931519277353, 0.2747047244996734, 0.1373523622498367, 0.36627296599956455, 0.22892060374972784, 0.34057146337329924, 0.10836364743695884, 0.3560519844357219, 0.201246773811495, 0.6021512141773685, 0.11392049997950214, 0.22784099995900428, 0.06509742855971551, 0.3656336863847162, 0.2708397676923824, 0.2708397676923824, 0.09479391869233383, 0.16352566066050014, 0.3761090195191503, 0.1962307927926002, 0.27799362312285025, 0.27116504594779417, 0.4067475689216913, 0.16947815371737135, 0.15253033834563423, 0.45718887382061985, 0.18287554952824794, 0.25145388060134094, 0.13715666214618596, 0.3072448062974754, 0.38405600787184424, 0.23043360472310656, 0.11521680236155328, 0.18404965161114378, 0.4049092335445163, 0.29447944257783004, 0.14723972128891502, 0.3075532061621203, 0.20503547077474685, 0.20503547077474685, 0.2733806276996625, 0.20515445327660936, 0.24834486449273763, 0.39951130374918664, 0.151166439256449, 0.45749379264157125, 0.18299751705662848, 0.20129726876229134, 0.1463980136453028, 0.5833309358931992, 0.09722182264886654, 0.1944436452977331, 0.09722182264886654, 0.2318785649906536, 0.4240065188400523, 0.14575224085126798, 0.19875305570627452, 0.36004293261657766, 0.2700321994624333, 0.2571735232975555, 0.11572808548389997, 0.3024933280218532, 0.12963999772365137, 0.475346658320055, 0.12963999772365137, 0.2847648068670274, 0.22148373867435464, 0.36386614210786833, 0.1265621363853455, 0.1750360840451784, 0.12502577431798456, 0.5251082521355351, 0.1750360840451784, 0.3230839936001435, 0.21538932906676234, 0.18846566293341704, 0.2692366613334529, 0.4033879713268817, 0.22292493152275042, 0.19107851273378607, 0.18046303980413128, 0.20463407133193504, 0.2675984009725304, 0.3305627306131258, 0.1888929889217862, 0.30426185425327334, 0.25833553663013775, 0.2037980344526642, 0.23250198296712396], \"Term\": [\"amigo\", \"amigo\", \"amigo\", \"amigo\", \"ano\", \"ano\", \"ano\", \"ano\", \"antiguo\", \"antiguo\", \"antiguo\", \"antiguo\", \"articulo\", \"articulo\", \"articulo\", \"articulo\", \"aspecto\", \"aspecto\", \"aspecto\", \"aspecto\", \"autor\", \"autor\", \"autor\", \"autor\", \"caber\", \"caber\", \"caber\", \"caber\", \"campo\", \"campo\", \"campo\", \"campo\", \"capitulo\", \"capitulo\", \"capitulo\", \"capitulo\", \"caracter\", \"caracter\", \"caracter\", \"caracter\", \"casa\", \"casa\", \"casa\", \"casa\", \"caso\", \"caso\", \"caso\", \"caso\", \"celebrar\", \"celebrar\", \"celebrar\", \"celebrar\", \"cerebro\", \"cerebro\", \"cerebro\", \"cerebro\", \"chomsky\", \"chomsky\", \"chomsky\", \"chomsky\", \"ciencia\", \"ciencia\", \"ciencia\", \"ciencia\", \"ciudad\", \"ciudad\", \"ciudad\", \"ciudad\", \"cognitiva\", \"cognitiva\", \"cognitiva\", \"cognitiva\", \"completo\", \"completo\", \"completo\", \"completo\", \"concreto\", \"concreto\", \"concreto\", \"concreto\", \"conocimiento\", \"conocimiento\", \"conocimiento\", \"conocimiento\", \"consciente\", \"consciente\", \"consciente\", \"consciente\", \"constituir\", \"constituir\", \"constituir\", \"constituir\", \"convertir\", \"convertir\", \"convertir\", \"convertir\", \"cosa\", \"cosa\", \"cosa\", \"cosa\", \"creer\", \"creer\", \"creer\", \"creer\", \"cultura\", \"cultura\", \"cultura\", \"cultura\", \"cultural\", \"cultural\", \"cultural\", \"cultural\", \"dejar\", \"dejar\", \"dejar\", \"dejar\", \"desarrollar\", \"desarrollar\", \"desarrollar\", \"desarrollar\", \"deseo\", \"deseo\", \"deseo\", \"deseo\", \"determinado\", \"determinado\", \"determinado\", \"determinado\", \"diccionario\", \"diccionario\", \"diccionario\", \"diccionario\", \"dio\", \"dio\", \"dio\", \"dio\", \"distinto\", \"distinto\", \"distinto\", \"distinto\", \"dudar\", \"dudar\", \"dudar\", \"dudar\", \"ejemplo\", \"ejemplo\", \"ejemplo\", \"ejemplo\", \"escribir\", \"escribir\", \"escribir\", \"escribir\", \"escrito\", \"escrito\", \"escrito\", \"escrito\", \"especifico\", \"especifico\", \"especifico\", \"especifico\", \"estructura\", \"estructura\", \"estructura\", \"estructura\", \"estudio\", \"estudio\", \"estudio\", \"estudio\", \"existencia\", \"existencia\", \"existencia\", \"existencia\", \"expresar\", \"expresar\", \"expresar\", \"expresar\", \"fanatismo\", \"fanatismo\", \"fanatismo\", \"fanatismo\", \"fenomeno\", \"fenomeno\", \"fenomeno\", \"fenomeno\", \"filosofia\", \"filosofia\", \"filosofia\", \"filosofia\", \"filosofico\", \"filosofico\", \"filosofico\", \"filosofico\", \"filosofo\", \"filosofo\", \"filosofo\", \"filosofo\", \"finalmente\", \"finalmente\", \"finalmente\", \"finalmente\", \"forma\", \"forma\", \"forma\", \"forma\", \"frase\", \"frase\", \"frase\", \"frase\", \"freud\", \"freud\", \"freud\", \"freud\", \"fundamental\", \"fundamental\", \"fundamental\", \"fundamental\", \"general\", \"general\", \"general\", \"general\", \"generativo\", \"generativo\", \"generativo\", \"generativo\", \"gramatica\", \"gramatica\", \"gramatica\", \"gramatica\", \"gramatico\", \"gramatico\", \"gramatico\", \"gramatico\", \"guerra\", \"guerra\", \"guerra\", \"guerra\", \"habiar\", \"habiar\", \"habiar\", \"habiar\", \"habrio\", \"habrio\", \"habrio\", \"habrio\", \"hacer\", \"hacer\", \"hacer\", \"hacer\", \"hecho\", \"hecho\", \"hecho\", \"hecho\", \"hijo\", \"hijo\", \"hijo\", \"hijo\", \"historia\", \"historia\", \"historia\", \"historia\", \"hombre\", \"hombre\", \"hombre\", \"hombre\", \"humano\", \"humano\", \"humano\", \"humano\", \"idea\", \"idea\", \"idea\", \"idea\", \"importante\", \"importante\", \"importante\", \"importante\", \"inconsciente\", \"inconsciente\", \"inconsciente\", \"inconsciente\", \"intelectual\", \"intelectual\", \"intelectual\", \"intelectual\", \"intentar\", \"intentar\", \"intentar\", \"intentar\", \"interno\", \"interno\", \"interno\", \"interno\", \"investigacion\", \"investigacion\", \"investigacion\", \"investigacion\", \"justo\", \"justo\", \"justo\", \"justo\", \"lector\", \"lector\", \"lector\", \"lector\", \"leer\", \"leer\", \"leer\", \"leer\", \"lengua\", \"lengua\", \"lengua\", \"lengua\", \"lenguaje\", \"lenguaje\", \"lenguaje\", \"lenguaje\", \"ley\", \"ley\", \"ley\", \"ley\", \"linguistico\", \"linguistico\", \"linguistico\", \"linguistico\", \"llevar\", \"llevar\", \"llevar\", \"llevar\", \"logico\", \"logico\", \"logico\", \"logico\", \"lugar\", \"lugar\", \"lugar\", \"lugar\", \"luis\", \"luis\", \"luis\", \"luis\", \"mantener\", \"mantener\", \"mantener\", \"mantener\", \"mayorio\", \"mayorio\", \"mayorio\", \"mayorio\", \"medico\", \"medico\", \"medico\", \"medico\", \"mental\", \"mental\", \"mental\", \"mental\", \"mente\", \"mente\", \"mente\", \"mente\", \"momento\", \"momento\", \"momento\", \"momento\", \"moral\", \"moral\", \"moral\", \"moral\", \"mostrar\", \"mostrar\", \"mostrar\", \"mostrar\", \"muerte\", \"muerte\", \"muerte\", \"muerte\", \"mundo\", \"mundo\", \"mundo\", \"mundo\", \"natural\", \"natural\", \"natural\", \"natural\", \"naturaleza\", \"naturaleza\", \"naturaleza\", \"naturaleza\", \"nino\", \"nino\", \"nino\", \"nino\", \"nivel\", \"nivel\", \"nivel\", \"nivel\", \"nombre\", \"nombre\", \"nombre\", \"nombre\", \"objeto\", \"objeto\", \"objeto\", \"objeto\", \"obra\", \"obra\", \"obra\", \"obra\", \"orden\", \"orden\", \"orden\", \"orden\", \"origen\", \"origen\", \"origen\", \"origen\", \"oscuro\", \"oscuro\", \"oscuro\", \"oscuro\", \"palabra\", \"palabra\", \"palabra\", \"palabra\", \"parecer\", \"parecer\", \"parecer\", \"parecer\", \"pensamiento\", \"pensamiento\", \"pensamiento\", \"pensamiento\", \"pequeno\", \"pequeno\", \"pequeno\", \"pequeno\", \"persona\", \"persona\", \"persona\", \"persona\", \"pese\", \"pese\", \"pese\", \"pese\", \"politico\", \"politico\", \"politico\", \"politico\", \"preguntar\", \"preguntar\", \"preguntar\", \"preguntar\", \"principio\", \"principio\", \"principio\", \"principio\", \"proceso\", \"proceso\", \"proceso\", \"proceso\", \"producir\", \"producir\", \"producir\", \"producir\", \"profundo\", \"profundo\", \"profundo\", \"profundo\", \"psicoanalisis\", \"psicoanalisis\", \"psicoanalisis\", \"psicoanalisis\", \"psique\", \"psique\", \"psique\", \"psique\", \"pueblo\", \"pueblo\", \"pueblo\", \"pueblo\", \"punto\", \"punto\", \"punto\", \"punto\", \"querer\", \"querer\", \"querer\", \"querer\", \"razon\", \"razon\", \"razon\", \"razon\", \"realidad\", \"realidad\", \"realidad\", \"realidad\", \"recibir\", \"recibir\", \"recibir\", \"recibir\", \"religion\", \"religion\", \"religion\", \"religion\", \"religioso\", \"religioso\", \"religioso\", \"religioso\", \"resultar\", \"resultar\", \"resultar\", \"resultar\", \"rey\", \"rey\", \"rey\", \"rey\", \"rousseau\", \"rousseau\", \"rousseau\", \"rousseau\", \"sentimiento\", \"sentimiento\", \"sentimiento\", \"sentimiento\", \"ser\", \"ser\", \"ser\", \"ser\", \"servir\", \"servir\", \"servir\", \"servir\", \"significado\", \"significado\", \"significado\", \"significado\", \"sociedad\", \"sociedad\", \"sociedad\", \"sociedad\", \"sujeto\", \"sujeto\", \"sujeto\", \"sujeto\", \"tenia\", \"tenia\", \"tenia\", \"tenia\", \"teoria\", \"teoria\", \"teoria\", \"teoria\", \"tiempo\", \"tiempo\", \"tiempo\", \"tiempo\", \"tierra\", \"tierra\", \"tierra\", \"tierra\", \"tipo\", \"tipo\", \"tipo\", \"tipo\", \"tolerancia\", \"tolerancia\", \"tolerancia\", \"tolerancia\", \"tomar\", \"tomar\", \"tomar\", \"tomar\", \"vida\", \"vida\", \"vida\", \"vida\", \"visto\", \"visto\", \"visto\", \"visto\", \"voltaire\", \"voltaire\", \"voltaire\", \"voltaire\"]}, \"R\": 30, \"lambda.step\": 0.01, \"plot.opts\": {\"xlab\": \"PC1\", \"ylab\": \"PC2\"}, \"topic.order\": [1, 2, 3, 4]};\n",
       "\n",
       "function LDAvis_load_lib(url, callback){\n",
       "  var s = document.createElement('script');\n",
       "  s.src = url;\n",
       "  s.async = true;\n",
       "  s.onreadystatechange = s.onload = callback;\n",
       "  s.onerror = function(){console.warn(\"failed to load library \" + url);};\n",
       "  document.getElementsByTagName(\"head\")[0].appendChild(s);\n",
       "}\n",
       "\n",
       "if(typeof(LDAvis) !== \"undefined\"){\n",
       "   // already loaded: just create the visualization\n",
       "   !function(LDAvis){\n",
       "       new LDAvis(\"#\" + \"ldavis_el3321353349102247177915915\", ldavis_el3321353349102247177915915_data);\n",
       "   }(LDAvis);\n",
       "}else if(typeof define === \"function\" && define.amd){\n",
       "   // require.js is available: use it to load d3/LDAvis\n",
       "   require.config({paths: {d3: \"https://d3js.org/d3.v5\"}});\n",
       "   require([\"d3\"], function(d3){\n",
       "      window.d3 = d3;\n",
       "      LDAvis_load_lib(\"https://cdn.jsdelivr.net/gh/bmabey/pyLDAvis@3.4.0/pyLDAvis/js/ldavis.v3.0.0.js\", function(){\n",
       "        new LDAvis(\"#\" + \"ldavis_el3321353349102247177915915\", ldavis_el3321353349102247177915915_data);\n",
       "      });\n",
       "    });\n",
       "}else{\n",
       "    // require.js not available: dynamically load d3 & LDAvis\n",
       "    LDAvis_load_lib(\"https://d3js.org/d3.v5.js\", function(){\n",
       "         LDAvis_load_lib(\"https://cdn.jsdelivr.net/gh/bmabey/pyLDAvis@3.4.0/pyLDAvis/js/ldavis.v3.0.0.js\", function(){\n",
       "                 new LDAvis(\"#\" + \"ldavis_el3321353349102247177915915\", ldavis_el3321353349102247177915915_data);\n",
       "            })\n",
       "         });\n",
       "}\n",
       "</script>"
      ],
      "text/plain": [
       "PreparedData(topic_coordinates=              x         y  topics  cluster       Freq\n",
       "topic                                                \n",
       "0      0.028882 -0.003355       1        1  32.329304\n",
       "1     -0.009191 -0.015617       2        1  27.165337\n",
       "2     -0.003162  0.019973       3        1  22.827171\n",
       "3     -0.016530 -0.001000       4        1  17.678188, topic_info=         Term        Freq       Total Category  logprob  loglift\n",
       "269     freud  353.000000  353.000000  Default  30.0000  30.0000\n",
       "70     hombre  219.000000  219.000000  Default  29.0000  29.0000\n",
       "89   historia   81.000000   81.000000  Default  28.0000  28.0000\n",
       "7     chomsky  269.000000  269.000000  Default  27.0000  27.0000\n",
       "104     frase  100.000000  100.000000  Default  26.0000  26.0000\n",
       "..        ...         ...         ...      ...      ...      ...\n",
       "48        ano   19.039213  121.243122   Topic4  -4.9196  -0.1185\n",
       "97       vida   17.251641   94.202115   Topic4  -5.0182   0.0353\n",
       "22       idea   18.832809  144.294367   Topic4  -4.9305  -0.3034\n",
       "269     freud   20.411852  353.897593   Topic4  -4.8500  -1.1201\n",
       "28      mente   17.370706  149.650629   Topic4  -5.0113  -0.4207\n",
       "\n",
       "[242 rows x 6 columns], token_table=      Topic      Freq      Term\n",
       "term                           \n",
       "82        1  0.286670     amigo\n",
       "82        2  0.191114     amigo\n",
       "82        3  0.350375     amigo\n",
       "82        4  0.159261     amigo\n",
       "48        1  0.412395       ano\n",
       "...     ...       ...       ...\n",
       "63        4  0.188893     visto\n",
       "292       1  0.304262  voltaire\n",
       "292       2  0.258336  voltaire\n",
       "292       3  0.203798  voltaire\n",
       "292       4  0.232502  voltaire\n",
       "\n",
       "[584 rows x 3 columns], R=30, lambda_step=0.01, plot_opts={'xlab': 'PC1', 'ylab': 'PC2'}, topic_order=[1, 2, 3, 4])"
      ]
     },
     "execution_count": 20,
     "metadata": {},
     "output_type": "execute_result"
    }
   ],
   "source": [
    "lda_model_opt = LdaMulticore(corpus = corpus,\n",
    "    id2word = dictionary,\n",
    "    num_topics = 4,\n",
    "    random_state=123)\n",
    "pyLDAvis.enable_notebook()\n",
    "LDA_visualization = gensimvis.prepare(lda_model_opt, corpus, dictionary)\n",
    "LDA_visualization"
   ]
  },
  {
   "cell_type": "markdown",
   "metadata": {},
   "source": [
    "Los resultados sugieren que hay 4 tipos de temas en estas páginas. Los 3 encontrados anteriormente, y páginas que hablan sobre estos 3 autores simultáneamente.\n",
    "\n",
    "Es importante destacar que la medida de coherencia  no es sólo del tema en sí, sino también del conjunto de datos que se utiliza como referencia. Asimismo, parte de la literatura suele favorecerla ya que lleva a mejor interpretabilidad que otras medidas."
   ]
  },
  {
   "cell_type": "markdown",
   "metadata": {},
   "source": [
    "#### Medida de Perplejidad\n",
    "\n",
    "Otra de las medidas utilizadas, es la medida de Perplejidad. A diferencia de la medida de coherencia lo que buscaremos es minimizar la perplejidad.\n",
    "\n",
    "Esta medida calcula el número de palabras diferentes que son igualmente probables a seguir a cualquier palabra dada. Para aclarar qué queremos decir con esto, consideremos un ejemplo con 2 palabras: *el* y *anunciar*. La palabra *el* puede anteceder a una gran cantidad de palabras de igual probabilidad, mientras que el número de palabras de igual probabilidad que anteceden a *anunciar* será relativamente menor. \n",
    "\n",
    "La idea intuitiva es que palabras que, en promedio, pueden ir seguidas de un menor número de palabras de igual probabilidad, son más específicas y por lo tanto  pueden estar más estrechamente vinculadas a los tópicos. Entonces puntuaciones más bajas de perplejidad implican mejores modelos de lenguaje.\n",
    "\n",
    "El cálculo es sencillo usando  [gensim](https://radimrehurek.com/gensim/index.html); ya que tanto [LDAModel](https://radimrehurek.com/gensim/models/ldamodel.html?highlight=ldamodel#module-gensim.models.ldamode)  como  [LdaMulticore](https://radimrehurek.com/gensim/models/ldamulticore.html) retornan el límite por palabra de la verosimilitud, por lo que para convertirlo en perplejidad necesitamos hacer $perplejidad=2^{(-limite)}$:"
   ]
  },
  {
   "cell_type": "code",
   "execution_count": 21,
   "metadata": {},
   "outputs": [
    {
     "data": {
      "text/plain": [
       "47.5566784385558"
      ]
     },
     "execution_count": 21,
     "metadata": {},
     "output_type": "execute_result"
    }
   ],
   "source": [
    "np.exp2(-lda_model_opt.log_perplexity(corpus))"
   ]
  },
  {
   "cell_type": "markdown",
   "metadata": {},
   "source": [
    "Dado que nos interesa minimizar esta perplejidad comparemos esta medida para distinto números de temas. Crearemos entonces una función similar a la que construimos en la sección anterior:"
   ]
  },
  {
   "cell_type": "code",
   "execution_count": 22,
   "metadata": {},
   "outputs": [],
   "source": [
    "def perplejidad_ntemas(dictionary, corpus, texts, start=1, limit=10, step=1):\n",
    " \n",
    "    perplejidad_values = []\n",
    "    model_list = []\n",
    "    \n",
    "    for num_topics in range(start, limit, step):\n",
    "        model = LdaMulticore(corpus=corpus,\n",
    "                        id2word=dictionary,\n",
    "                        num_topics=num_topics, \n",
    "                        random_state=123,\n",
    "                        passes=20)\n",
    "        model_list.append(model)\n",
    "        perplejidad_values.append(np.exp2(-model.log_perplexity(corpus)))\n",
    "\n",
    "    return model_list, perplejidad_values"
   ]
  },
  {
   "cell_type": "code",
   "execution_count": 23,
   "metadata": {},
   "outputs": [],
   "source": [
    "modelos, valores_p = perplejidad_ntemas(dictionary=dictionary, corpus=corpus, texts=clean, start=1, limit=10, step=1)"
   ]
  },
  {
   "cell_type": "code",
   "execution_count": 24,
   "metadata": {},
   "outputs": [
    {
     "data": {
      "image/png": "[encoded data removed]",
      "text/plain": [
       "<Figure size 640x480 with 1 Axes>"
      ]
     },
     "metadata": {},
     "output_type": "display_data"
    }
   ],
   "source": [
    "import matplotlib.pyplot as plt\n",
    "# Show graph\n",
    "limit=10; start=1; step=1;\n",
    "x = range(start, limit, step)\n",
    "plt.plot(x, valores_p)\n",
    "plt.xlabel(\"Número de Temas\")\n",
    "plt.ylabel(\"Medida de Perplejidad\")\n",
    "\n",
    "plt.show()"
   ]
  },
  {
   "cell_type": "markdown",
   "metadata": {},
   "source": [
    "Tenemos entonces un resultado análogo al anterior. En este caso ambos indicadores coinciden, pero a priori esto no tiene que ser así. En la práctica se tienden a utilizar ambos e indican el rango de posibles valores. Por esta razón, es recomendable calcular los 2 y en función de los resultados unidos al conocimiento del investigador decidir. "
   ]
  },
  {
   "cell_type": "markdown",
   "metadata": {},
   "source": [
    "## Consideraciones Finales\n",
    "\n",
    "Cuando queremos extraer información de una colección de documentos, el modelado de temas o tópicos es un enfoque que puede ser potencialmente útil, ya que proporciona información sobre la estructura subyacente de los documentos. \n",
    "\n",
    "En este sentido los modelos de temas se pueden usar para predecir los temas que pertenecen a documentos no vistos. Si vamos a hacer predicciones, es importante reconocer que los modelos de temas sólo conocen las palabras que se usan para entrenarlos. Es decir, si los documentos no vistos tienen palabras que no estaban en los datos de entrenamiento, el modelo no podrá procesar esas palabras incluso si se vinculan a uno de los temas identificados en los datos de entrenamiento. Debido a este hecho, los modelos de temas tienden a usarse más para el análisis exploratorio y la inferencia que para la predicción.\n",
    "\n",
    "Cuando se analiza el modelado de temas, es importante reforzar continuamente el hecho de que los grupos de palabras que representan los temas no están relacionados conceptualmente; están relacionados solo por proximidad. La proximidad frecuente de ciertas palabras en los documentos es suficiente para definir temas debido a que estamos asumiendo que todas las palabras en el mismo documento están relacionadas.\n",
    "\n",
    "Sin embargo, esta suposición puede no ser cierta o las palabras pueden ser demasiado genéricas para formar temas coherentes. La interpretación de temas abstractos implica equilibrar las características innatas de los datos de texto con las agrupaciones de palabras generadas. Los datos de texto, y el lenguaje en general, son muy variables, complejos y contextuales, lo que significa que cualquier resultado generalizado debe interpretarse con cautela.\n",
    "\n",
    "Es importante tener en cuenta también que la naturaleza ruidosa de los datos de texto puede hacer que los modelos de tópico asignen palabras no relacionadas con uno de los temas a ese tópico en particular. Esto no es necesariamente una falla en el modelo. En cambio, es una característica que, dados datos ruidosos, el modelo podría extraer peculiaridades de los datos que podrían afectar negativamente los resultados. Las correlaciones espurias podrían ser el resultado de cómo, dónde o cuándo se recopilaron los datos. \n",
    "\n",
    "Esto no es para minimizar o invalidar los resultados del modelo. Dados documentos cuidadosamente limpios y una cantidad adecuada de temas, las agrupaciones de palabras, como vimos, pueden ser una buena guía sobre lo que contiene un corpus y pueden incorporarse de manera efectiva en sistemas de datos más grandes como ser los sistemas de recomendación vistos en este módulo."
   ]
  },
  {
   "cell_type": "markdown",
   "metadata": {},
   "source": [
    "## Referencias\n",
    "\n",
    "- Banik, R. (2018). Hands-on recommendation systems with Python: start building powerful and personalized, recommendation engines with Python. Packt Publishing Ltd.\n",
    "\n",
    "- Blei, D. M., Jordan, M. I., &; Ng, A. Y. (2003). Latent Dirichlet Allocation. JMLR.org, 3, 993–1022. https://doi.org/10.5555/944919.944937 \n",
    "\n",
    "- Fradejas Rueda, J. M. (2020). Cuentapalabras. Estilometrıa y análisis de texto con R para filólogos.\n",
    "\n",
    "- Hoffman, M., Bach, F., & Blei, D. (2010). Online learning for latent dirichlet allocation. advances in neural information processing systems, 23.\n",
    "\n",
    "- Murphy, K. P. (2012). Machine learning: a probabilistic perspective. MIT press.\n",
    "\n",
    "- Patel, A. A. (2019). Hands-on unsupervised learning using Python: how to build applied machine learning solutions from unlabeled data. O'Reilly Media.\n",
    "\n",
    "- Rehurek, R., & Sojka, P. (2011). Gensim–python framework for vector space modeling. NLP Centre, Faculty of Informatics, Masaryk University, Brno, Czech Republic, 3(2).\n",
    "\n",
    "- Röder, M., Both, A., & Hinneburg, A. (2015). Exploring the space of topic coherence measures. In Proceedings of the eighth ACM international conference on Web search and data mining (pp. 399-408)."
   ]
  },
  {
   "cell_type": "markdown",
   "metadata": {},
   "source": [
    "# Información de Sesión"
   ]
  },
  {
   "cell_type": "code",
   "execution_count": 25,
   "metadata": {},
   "outputs": [
    {
     "name": "stdout",
     "output_type": "stream",
     "text": [
      "-----\n",
      "gensim              4.3.0\n",
      "matplotlib          3.7.1\n",
      "numpy               1.24.3\n",
      "pandas              1.5.3\n",
      "pyLDAvis            3.4.0\n",
      "session_info        1.0.0\n",
      "spacy               3.5.3\n",
      "unidecode           NA\n",
      "-----\n",
      "IPython             8.12.0\n",
      "jupyter_client      7.4.9\n",
      "jupyter_core        5.3.0\n",
      "jupyterlab          3.3.2\n",
      "notebook            6.5.4\n",
      "-----\n",
      "Python 3.11.3 (main, Apr 19 2023, 18:51:09) [Clang 14.0.6 ]\n",
      "macOS-10.16-x86_64-i386-64bit\n",
      "-----\n",
      "Session information updated at 2023-08-01 10:38\n"
     ]
    }
   ],
   "source": [
    "import session_info\n",
    "\n",
    "session_info.show(html=False)"
   ]
  }
 ],
 "metadata": {
  "interpreter": {
   "hash": "fe36d3cf18f454bb22b210d1ce52ae8c21a1b2f0a9257a143474ae90bef14b60"
  },
  "kernelspec": {
   "display_name": "Python 3 (ipykernel)",
   "language": "python",
   "name": "python3"
  },
  "language_info": {
   "codemirror_mode": {
    "name": "ipython",
    "version": 3
   },
   "file_extension": ".py",
   "mimetype": "text/x-python",
   "name": "python",
   "nbconvert_exporter": "python",
   "pygments_lexer": "ipython3",
   "version": "3.10.6"
  },
  "toc": {
   "base_numbering": 1,
   "nav_menu": {},
   "number_sections": true,
   "sideBar": true,
   "skip_h1_title": false,
   "title_cell": "Table of Contents",
   "title_sidebar": "Contents",
   "toc_cell": false,
   "toc_position": {},
   "toc_section_display": true,
   "toc_window_display": false
  }
 },
 "nbformat": 4,
 "nbformat_minor": 4
}
