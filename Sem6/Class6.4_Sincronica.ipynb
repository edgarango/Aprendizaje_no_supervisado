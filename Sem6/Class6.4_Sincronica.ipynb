{
 "cells": [
  {
   "cell_type": "markdown",
   "metadata": {},
   "source": [
    "<div >\n",
    "<img src = \"figs/ans_banner_1920x200.png\" />\n",
    "</div>"
   ]
  },
  {
   "cell_type": "markdown",
   "metadata": {},
   "source": [
    "# Semana 6. Sesión Sincrónica.\n",
    "\n",
    "\n",
    "El  *cuaderno* tiene dos objetivos:\n",
    " 1. Introducir a los estudiantes a los contenidos de la semana 6.\n",
    " 2. Introducir a los estudiantes al análisis de datos espaciales que se estudiarán en la semana 7.\n",
    "\n",
    "**NO** es necesario editar el archivo o hacer una entrega. Los ejemplos contienen celdas con código ejecutable (`en gris`), que podrá modificar libremente. Esta puede ser una buena forma de aprender nuevas funcionalidades del *cuaderno*, o experimentar variaciones en los códigos de ejemplo.\n",
    "\n"
   ]
  },
  {
   "cell_type": "markdown",
   "metadata": {},
   "source": [
    "## ¿Qué son los sistemas de recomendaciones?\n",
    "\n",
    "\n",
    "Las preferencias de los individuos suelen seguir patrones que los sistemas de recomendación pueden aprovechar, por ejemplo,\n",
    "\n",
    "- Si te interesó:  <div style=\"max-width:200px\">\n",
    "<img src = \"figs/iron_man.jpg\" />\n",
    "</div>\n",
    "\n",
    "\n",
    "- También te puede interesar: <div style=\"max-width:200px\">\n",
    "<img src = \"figs/thor.jpg\" />\n",
    "</div> \n",
    "\n",
    "\n",
    "\n",
    "\n",
    "- Los sistemas de recomendación entonces encuentran patrones que son utilizados para predecir qué otros productos podrían gustarnos y generar sugerencias, de forma tal que  los usuarios encuentren contenido atractivo en un gran corpus. \n",
    "\n",
    "- Estos sistemas son muy exitosos, por ejemplo según un estudio del 2013 de [McKinsey](https://www.mckinsey.com/industries/retail/our-insights/how-retailers-can-keep-up-with-consumers), el 35% de los artículos comprados en Amazon surgen de estos sistemas de recomendación, y por lo tanto vale la pena estudiarlos cuidadosamente."
   ]
  },
  {
   "cell_type": "markdown",
   "metadata": {},
   "source": [
    "# Filtrado Colaborativo Basado en Usuarios.\n",
    "\n",
    "El filtrado colaborativo aprovecha el poder de la colaboración para generar recomendaciones. \n",
    "\n",
    "\n",
    "Para entender un poco mejor cuál es el problema al que nos enfrentamos, supongamos que tenemos una matriz con 5 usuarios y 5 productos, en este caso restaurantes. \n",
    "\n",
    "El valor de la celda denota el rating que le dió cada usuario al ítem. Este valor lo denotamos como $r_{ij}$ que será entonces el rating que le dio el usuario $i$ al restaurante $j$. \n",
    " "
   ]
  },
  {
   "cell_type": "markdown",
   "metadata": {},
   "source": [
    "##### Ejemplo: Recomendando Restaurantes"
   ]
  },
  {
   "cell_type": "code",
   "execution_count": 1,
   "metadata": {},
   "outputs": [],
   "source": [
    "#cargamos librerias\n",
    "import pandas as pd\n",
    "import numpy as np"
   ]
  },
  {
   "cell_type": "code",
   "execution_count": 2,
   "metadata": {},
   "outputs": [
    {
     "data": {
      "text/html": [
       "<div>\n",
       "<style scoped>\n",
       "    .dataframe tbody tr th:only-of-type {\n",
       "        vertical-align: middle;\n",
       "    }\n",
       "\n",
       "    .dataframe tbody tr th {\n",
       "        vertical-align: top;\n",
       "    }\n",
       "\n",
       "    .dataframe thead th {\n",
       "        text-align: right;\n",
       "    }\n",
       "</style>\n",
       "<table border=\"1\" class=\"dataframe\">\n",
       "  <thead>\n",
       "    <tr style=\"text-align: right;\">\n",
       "      <th></th>\n",
       "      <th>restaurant_id</th>\n",
       "      <th>user_id</th>\n",
       "      <th>rating</th>\n",
       "      <th>comentarios</th>\n",
       "    </tr>\n",
       "  </thead>\n",
       "  <tbody>\n",
       "    <tr>\n",
       "      <th>0</th>\n",
       "      <td>1</td>\n",
       "      <td>1</td>\n",
       "      <td>5.0</td>\n",
       "      <td>Excelente zerbicio, la comida deliziosa.</td>\n",
       "    </tr>\n",
       "    <tr>\n",
       "      <th>1</th>\n",
       "      <td>1</td>\n",
       "      <td>2</td>\n",
       "      <td>4.0</td>\n",
       "      <td>NaN</td>\n",
       "    </tr>\n",
       "    <tr>\n",
       "      <th>2</th>\n",
       "      <td>1</td>\n",
       "      <td>3</td>\n",
       "      <td>3.0</td>\n",
       "      <td>Comida mala y mal servicio</td>\n",
       "    </tr>\n",
       "    <tr>\n",
       "      <th>3</th>\n",
       "      <td>1</td>\n",
       "      <td>4</td>\n",
       "      <td>NaN</td>\n",
       "      <td>NaN</td>\n",
       "    </tr>\n",
       "    <tr>\n",
       "      <th>4</th>\n",
       "      <td>1</td>\n",
       "      <td>5</td>\n",
       "      <td>NaN</td>\n",
       "      <td>NaN</td>\n",
       "    </tr>\n",
       "  </tbody>\n",
       "</table>\n",
       "</div>"
      ],
      "text/plain": [
       "   restaurant_id  user_id  rating                                comentarios\n",
       "0              1        1     5.0  Excelente zerbicio, la comida deliziosa. \n",
       "1              1        2     4.0                                        NaN\n",
       "2              1        3     3.0                 Comida mala y mal servicio\n",
       "3              1        4     NaN                                        NaN\n",
       "4              1        5     NaN                                        NaN"
      ]
     },
     "execution_count": 2,
     "metadata": {},
     "output_type": "execute_result"
    }
   ],
   "source": [
    "# Cargamos y visualizamos  los datos\n",
    "ratings = pd.read_csv('data/Ratings.csv', encoding='latin-1')\n",
    "ratings.head()"
   ]
  },
  {
   "cell_type": "code",
   "execution_count": 3,
   "metadata": {},
   "outputs": [
    {
     "data": {
      "text/html": [
       "<div>\n",
       "<style scoped>\n",
       "    .dataframe tbody tr th:only-of-type {\n",
       "        vertical-align: middle;\n",
       "    }\n",
       "\n",
       "    .dataframe tbody tr th {\n",
       "        vertical-align: top;\n",
       "    }\n",
       "\n",
       "    .dataframe thead th {\n",
       "        text-align: right;\n",
       "    }\n",
       "</style>\n",
       "<table border=\"1\" class=\"dataframe\">\n",
       "  <thead>\n",
       "    <tr style=\"text-align: right;\">\n",
       "      <th>restaurant_id</th>\n",
       "      <th>1</th>\n",
       "      <th>2</th>\n",
       "      <th>3</th>\n",
       "      <th>4</th>\n",
       "      <th>5</th>\n",
       "    </tr>\n",
       "    <tr>\n",
       "      <th>user_id</th>\n",
       "      <th></th>\n",
       "      <th></th>\n",
       "      <th></th>\n",
       "      <th></th>\n",
       "      <th></th>\n",
       "    </tr>\n",
       "  </thead>\n",
       "  <tbody>\n",
       "    <tr>\n",
       "      <th>1</th>\n",
       "      <td>5.0</td>\n",
       "      <td>4.0</td>\n",
       "      <td>5.0</td>\n",
       "      <td>NaN</td>\n",
       "      <td>NaN</td>\n",
       "    </tr>\n",
       "    <tr>\n",
       "      <th>2</th>\n",
       "      <td>4.0</td>\n",
       "      <td>3.0</td>\n",
       "      <td>4.0</td>\n",
       "      <td>NaN</td>\n",
       "      <td>NaN</td>\n",
       "    </tr>\n",
       "    <tr>\n",
       "      <th>3</th>\n",
       "      <td>3.0</td>\n",
       "      <td>2.0</td>\n",
       "      <td>3.0</td>\n",
       "      <td>NaN</td>\n",
       "      <td>NaN</td>\n",
       "    </tr>\n",
       "    <tr>\n",
       "      <th>4</th>\n",
       "      <td>NaN</td>\n",
       "      <td>NaN</td>\n",
       "      <td>NaN</td>\n",
       "      <td>4.0</td>\n",
       "      <td>5.0</td>\n",
       "    </tr>\n",
       "    <tr>\n",
       "      <th>5</th>\n",
       "      <td>NaN</td>\n",
       "      <td>NaN</td>\n",
       "      <td>NaN</td>\n",
       "      <td>4.0</td>\n",
       "      <td>5.0</td>\n",
       "    </tr>\n",
       "  </tbody>\n",
       "</table>\n",
       "</div>"
      ],
      "text/plain": [
       "restaurant_id    1    2    3    4    5\n",
       "user_id                               \n",
       "1              5.0  4.0  5.0  NaN  NaN\n",
       "2              4.0  3.0  4.0  NaN  NaN\n",
       "3              3.0  2.0  3.0  NaN  NaN\n",
       "4              NaN  NaN  NaN  4.0  5.0\n",
       "5              NaN  NaN  NaN  4.0  5.0"
      ]
     },
     "execution_count": 3,
     "metadata": {},
     "output_type": "execute_result"
    }
   ],
   "source": [
    "r_matrix = ratings.pivot_table(values='rating', index='user_id', columns='restaurant_id')\n",
    "r_matrix.head()"
   ]
  },
  {
   "cell_type": "markdown",
   "metadata": {},
   "source": [
    "## Agregando Información Espacial"
   ]
  },
  {
   "cell_type": "markdown",
   "metadata": {},
   "source": [
    "##### Usuarios"
   ]
  },
  {
   "cell_type": "code",
   "execution_count": 4,
   "metadata": {},
   "outputs": [
    {
     "data": {
      "text/html": [
       "<div>\n",
       "<style scoped>\n",
       "    .dataframe tbody tr th:only-of-type {\n",
       "        vertical-align: middle;\n",
       "    }\n",
       "\n",
       "    .dataframe tbody tr th {\n",
       "        vertical-align: top;\n",
       "    }\n",
       "\n",
       "    .dataframe thead th {\n",
       "        text-align: right;\n",
       "    }\n",
       "</style>\n",
       "<table border=\"1\" class=\"dataframe\">\n",
       "  <thead>\n",
       "    <tr style=\"text-align: right;\">\n",
       "      <th></th>\n",
       "      <th>user_id</th>\n",
       "      <th>nombre</th>\n",
       "      <th>latitud</th>\n",
       "      <th>longitud</th>\n",
       "    </tr>\n",
       "  </thead>\n",
       "  <tbody>\n",
       "    <tr>\n",
       "      <th>0</th>\n",
       "      <td>1</td>\n",
       "      <td>Juan</td>\n",
       "      <td>4.652834</td>\n",
       "      <td>-74.054339</td>\n",
       "    </tr>\n",
       "    <tr>\n",
       "      <th>1</th>\n",
       "      <td>2</td>\n",
       "      <td>Maria</td>\n",
       "      <td>4.653065</td>\n",
       "      <td>-74.054058</td>\n",
       "    </tr>\n",
       "    <tr>\n",
       "      <th>2</th>\n",
       "      <td>3</td>\n",
       "      <td>Pablo</td>\n",
       "      <td>4.653195</td>\n",
       "      <td>-74.059075</td>\n",
       "    </tr>\n",
       "    <tr>\n",
       "      <th>3</th>\n",
       "      <td>4</td>\n",
       "      <td>Joaquin</td>\n",
       "      <td>4.653328</td>\n",
       "      <td>-74.055814</td>\n",
       "    </tr>\n",
       "    <tr>\n",
       "      <th>4</th>\n",
       "      <td>5</td>\n",
       "      <td>Martina</td>\n",
       "      <td>4.653515</td>\n",
       "      <td>-74.058822</td>\n",
       "    </tr>\n",
       "  </tbody>\n",
       "</table>\n",
       "</div>"
      ],
      "text/plain": [
       "   user_id   nombre   latitud   longitud\n",
       "0        1     Juan  4.652834 -74.054339\n",
       "1        2    Maria  4.653065 -74.054058\n",
       "2        3    Pablo  4.653195 -74.059075\n",
       "3        4  Joaquin  4.653328 -74.055814\n",
       "4        5  Martina  4.653515 -74.058822"
      ]
     },
     "execution_count": 4,
     "metadata": {},
     "output_type": "execute_result"
    }
   ],
   "source": [
    "# Cargamos y visualizamos  los datos\n",
    "usuarios = pd.read_csv('data/Usuarios.csv')\n",
    "usuarios.head()"
   ]
  },
  {
   "cell_type": "markdown",
   "metadata": {},
   "source": [
    "##### Restaurantes"
   ]
  },
  {
   "cell_type": "code",
   "execution_count": 5,
   "metadata": {},
   "outputs": [
    {
     "data": {
      "text/html": [
       "<div>\n",
       "<style scoped>\n",
       "    .dataframe tbody tr th:only-of-type {\n",
       "        vertical-align: middle;\n",
       "    }\n",
       "\n",
       "    .dataframe tbody tr th {\n",
       "        vertical-align: top;\n",
       "    }\n",
       "\n",
       "    .dataframe thead th {\n",
       "        text-align: right;\n",
       "    }\n",
       "</style>\n",
       "<table border=\"1\" class=\"dataframe\">\n",
       "  <thead>\n",
       "    <tr style=\"text-align: right;\">\n",
       "      <th></th>\n",
       "      <th>restaurant_id</th>\n",
       "      <th>latitud</th>\n",
       "      <th>longitud</th>\n",
       "      <th>nombre</th>\n",
       "    </tr>\n",
       "  </thead>\n",
       "  <tbody>\n",
       "    <tr>\n",
       "      <th>0</th>\n",
       "      <td>1</td>\n",
       "      <td>4.651420</td>\n",
       "      <td>-74.054638</td>\n",
       "      <td>Vegan Island</td>\n",
       "    </tr>\n",
       "    <tr>\n",
       "      <th>1</th>\n",
       "      <td>2</td>\n",
       "      <td>4.651475</td>\n",
       "      <td>-74.054732</td>\n",
       "      <td>La Verdura Inquieta</td>\n",
       "    </tr>\n",
       "    <tr>\n",
       "      <th>2</th>\n",
       "      <td>3</td>\n",
       "      <td>4.651530</td>\n",
       "      <td>-74.054834</td>\n",
       "      <td>El Pirata del sabor vegano</td>\n",
       "    </tr>\n",
       "    <tr>\n",
       "      <th>3</th>\n",
       "      <td>4</td>\n",
       "      <td>4.655471</td>\n",
       "      <td>-74.057151</td>\n",
       "      <td>Muuu said the happy cow</td>\n",
       "    </tr>\n",
       "    <tr>\n",
       "      <th>4</th>\n",
       "      <td>5</td>\n",
       "      <td>4.655363</td>\n",
       "      <td>-74.057581</td>\n",
       "      <td>Paul's Mcarne Feast Palace</td>\n",
       "    </tr>\n",
       "  </tbody>\n",
       "</table>\n",
       "</div>"
      ],
      "text/plain": [
       "   restaurant_id   latitud   longitud                      nombre\n",
       "0              1  4.651420 -74.054638               Vegan Island \n",
       "1              2  4.651475 -74.054732         La Verdura Inquieta\n",
       "2              3  4.651530 -74.054834  El Pirata del sabor vegano\n",
       "3              4  4.655471 -74.057151   Muuu said the happy cow  \n",
       "4              5  4.655363 -74.057581  Paul's Mcarne Feast Palace"
      ]
     },
     "execution_count": 5,
     "metadata": {},
     "output_type": "execute_result"
    }
   ],
   "source": [
    "# Cargamos y visualizamos  los datos\n",
    "restaurants = pd.read_csv('data/Restaurants.csv')\n",
    "restaurants.head()"
   ]
  },
  {
   "cell_type": "markdown",
   "metadata": {},
   "source": [
    "### Transformación a geopandas"
   ]
  },
  {
   "cell_type": "code",
   "execution_count": 6,
   "metadata": {},
   "outputs": [],
   "source": [
    "#Cargamos geopandas que es la librería a utilizar\n",
    "import geopandas as gpd"
   ]
  },
  {
   "cell_type": "code",
   "execution_count": 7,
   "metadata": {},
   "outputs": [
    {
     "data": {
      "text/html": [
       "<div>\n",
       "<style scoped>\n",
       "    .dataframe tbody tr th:only-of-type {\n",
       "        vertical-align: middle;\n",
       "    }\n",
       "\n",
       "    .dataframe tbody tr th {\n",
       "        vertical-align: top;\n",
       "    }\n",
       "\n",
       "    .dataframe thead th {\n",
       "        text-align: right;\n",
       "    }\n",
       "</style>\n",
       "<table border=\"1\" class=\"dataframe\">\n",
       "  <thead>\n",
       "    <tr style=\"text-align: right;\">\n",
       "      <th></th>\n",
       "      <th>restaurant_id</th>\n",
       "      <th>latitud</th>\n",
       "      <th>longitud</th>\n",
       "      <th>nombre</th>\n",
       "      <th>geometry</th>\n",
       "    </tr>\n",
       "  </thead>\n",
       "  <tbody>\n",
       "    <tr>\n",
       "      <th>0</th>\n",
       "      <td>1</td>\n",
       "      <td>4.651420</td>\n",
       "      <td>-74.054638</td>\n",
       "      <td>Vegan Island</td>\n",
       "      <td>POINT (-74.05464 4.65142)</td>\n",
       "    </tr>\n",
       "    <tr>\n",
       "      <th>1</th>\n",
       "      <td>2</td>\n",
       "      <td>4.651475</td>\n",
       "      <td>-74.054732</td>\n",
       "      <td>La Verdura Inquieta</td>\n",
       "      <td>POINT (-74.05473 4.65147)</td>\n",
       "    </tr>\n",
       "    <tr>\n",
       "      <th>2</th>\n",
       "      <td>3</td>\n",
       "      <td>4.651530</td>\n",
       "      <td>-74.054834</td>\n",
       "      <td>El Pirata del sabor vegano</td>\n",
       "      <td>POINT (-74.05483 4.65153)</td>\n",
       "    </tr>\n",
       "    <tr>\n",
       "      <th>3</th>\n",
       "      <td>4</td>\n",
       "      <td>4.655471</td>\n",
       "      <td>-74.057151</td>\n",
       "      <td>Muuu said the happy cow</td>\n",
       "      <td>POINT (-74.05715 4.65547)</td>\n",
       "    </tr>\n",
       "    <tr>\n",
       "      <th>4</th>\n",
       "      <td>5</td>\n",
       "      <td>4.655363</td>\n",
       "      <td>-74.057581</td>\n",
       "      <td>Paul's Mcarne Feast Palace</td>\n",
       "      <td>POINT (-74.05758 4.65536)</td>\n",
       "    </tr>\n",
       "  </tbody>\n",
       "</table>\n",
       "</div>"
      ],
      "text/plain": [
       "   restaurant_id   latitud   longitud                      nombre  \\\n",
       "0              1  4.651420 -74.054638               Vegan Island    \n",
       "1              2  4.651475 -74.054732         La Verdura Inquieta   \n",
       "2              3  4.651530 -74.054834  El Pirata del sabor vegano   \n",
       "3              4  4.655471 -74.057151   Muuu said the happy cow     \n",
       "4              5  4.655363 -74.057581  Paul's Mcarne Feast Palace   \n",
       "\n",
       "                    geometry  \n",
       "0  POINT (-74.05464 4.65142)  \n",
       "1  POINT (-74.05473 4.65147)  \n",
       "2  POINT (-74.05483 4.65153)  \n",
       "3  POINT (-74.05715 4.65547)  \n",
       "4  POINT (-74.05758 4.65536)  "
      ]
     },
     "execution_count": 7,
     "metadata": {},
     "output_type": "execute_result"
    }
   ],
   "source": [
    "restaurants = gpd.GeoDataFrame(restaurants, geometry=gpd.points_from_xy(restaurants.longitud, restaurants.latitud),crs=4326)\n",
    "restaurants"
   ]
  },
  {
   "cell_type": "code",
   "execution_count": 8,
   "metadata": {},
   "outputs": [
    {
     "data": {
      "text/html": [
       "<div>\n",
       "<style scoped>\n",
       "    .dataframe tbody tr th:only-of-type {\n",
       "        vertical-align: middle;\n",
       "    }\n",
       "\n",
       "    .dataframe tbody tr th {\n",
       "        vertical-align: top;\n",
       "    }\n",
       "\n",
       "    .dataframe thead th {\n",
       "        text-align: right;\n",
       "    }\n",
       "</style>\n",
       "<table border=\"1\" class=\"dataframe\">\n",
       "  <thead>\n",
       "    <tr style=\"text-align: right;\">\n",
       "      <th></th>\n",
       "      <th>user_id</th>\n",
       "      <th>nombre</th>\n",
       "      <th>latitud</th>\n",
       "      <th>longitud</th>\n",
       "      <th>geometry</th>\n",
       "    </tr>\n",
       "  </thead>\n",
       "  <tbody>\n",
       "    <tr>\n",
       "      <th>0</th>\n",
       "      <td>1</td>\n",
       "      <td>Juan</td>\n",
       "      <td>4.652834</td>\n",
       "      <td>-74.054339</td>\n",
       "      <td>POINT (-74.05434 4.65283)</td>\n",
       "    </tr>\n",
       "    <tr>\n",
       "      <th>1</th>\n",
       "      <td>2</td>\n",
       "      <td>Maria</td>\n",
       "      <td>4.653065</td>\n",
       "      <td>-74.054058</td>\n",
       "      <td>POINT (-74.05406 4.65306)</td>\n",
       "    </tr>\n",
       "    <tr>\n",
       "      <th>2</th>\n",
       "      <td>3</td>\n",
       "      <td>Pablo</td>\n",
       "      <td>4.653195</td>\n",
       "      <td>-74.059075</td>\n",
       "      <td>POINT (-74.05908 4.65320)</td>\n",
       "    </tr>\n",
       "    <tr>\n",
       "      <th>3</th>\n",
       "      <td>4</td>\n",
       "      <td>Joaquin</td>\n",
       "      <td>4.653328</td>\n",
       "      <td>-74.055814</td>\n",
       "      <td>POINT (-74.05581 4.65333)</td>\n",
       "    </tr>\n",
       "    <tr>\n",
       "      <th>4</th>\n",
       "      <td>5</td>\n",
       "      <td>Martina</td>\n",
       "      <td>4.653515</td>\n",
       "      <td>-74.058822</td>\n",
       "      <td>POINT (-74.05882 4.65351)</td>\n",
       "    </tr>\n",
       "    <tr>\n",
       "      <th>5</th>\n",
       "      <td>6</td>\n",
       "      <td>Rosario</td>\n",
       "      <td>4.653647</td>\n",
       "      <td>-74.058792</td>\n",
       "      <td>POINT (-74.05879 4.65365)</td>\n",
       "    </tr>\n",
       "  </tbody>\n",
       "</table>\n",
       "</div>"
      ],
      "text/plain": [
       "   user_id   nombre   latitud   longitud                   geometry\n",
       "0        1     Juan  4.652834 -74.054339  POINT (-74.05434 4.65283)\n",
       "1        2    Maria  4.653065 -74.054058  POINT (-74.05406 4.65306)\n",
       "2        3    Pablo  4.653195 -74.059075  POINT (-74.05908 4.65320)\n",
       "3        4  Joaquin  4.653328 -74.055814  POINT (-74.05581 4.65333)\n",
       "4        5  Martina  4.653515 -74.058822  POINT (-74.05882 4.65351)\n",
       "5        6  Rosario  4.653647 -74.058792  POINT (-74.05879 4.65365)"
      ]
     },
     "execution_count": 8,
     "metadata": {},
     "output_type": "execute_result"
    }
   ],
   "source": [
    "usuarios = gpd.GeoDataFrame(usuarios, geometry=gpd.points_from_xy(usuarios.longitud, usuarios.latitud),crs=4326)\n",
    "usuarios"
   ]
  },
  {
   "cell_type": "markdown",
   "metadata": {},
   "source": [
    "### Visualización interactiva"
   ]
  },
  {
   "cell_type": "code",
   "execution_count": 9,
   "metadata": {
    "scrolled": true
   },
   "outputs": [
    {
     "data": {
      "text/html": [
       "<div style=\"width:100%;\"><div style=\"position:relative;width:100%;height:0;padding-bottom:60%;\"><span style=\"color:#565656\">Make this Notebook Trusted to load map: File -> Trust Notebook</span><iframe srcdoc=\"&lt;!DOCTYPE html&gt;\n",
       "&lt;html&gt;\n",
       "&lt;head&gt;\n",
       "    \n",
       "    &lt;meta http-equiv=&quot;content-type&quot; content=&quot;text/html; charset=UTF-8&quot; /&gt;\n",
       "    \n",
       "        &lt;script&gt;\n",
       "            L_NO_TOUCH = false;\n",
       "            L_DISABLE_3D = false;\n",
       "        &lt;/script&gt;\n",
       "    \n",
       "    &lt;style&gt;html, body {width: 100%;height: 100%;margin: 0;padding: 0;}&lt;/style&gt;\n",
       "    &lt;style&gt;#map {position:absolute;top:0;bottom:0;right:0;left:0;}&lt;/style&gt;\n",
       "    &lt;script src=&quot;https://cdn.jsdelivr.net/npm/leaflet@1.9.3/dist/leaflet.js&quot;&gt;&lt;/script&gt;\n",
       "    &lt;script src=&quot;https://code.jquery.com/jquery-1.12.4.min.js&quot;&gt;&lt;/script&gt;\n",
       "    &lt;script src=&quot;https://cdn.jsdelivr.net/npm/bootstrap@5.2.2/dist/js/bootstrap.bundle.min.js&quot;&gt;&lt;/script&gt;\n",
       "    &lt;script src=&quot;https://cdnjs.cloudflare.com/ajax/libs/Leaflet.awesome-markers/2.0.2/leaflet.awesome-markers.js&quot;&gt;&lt;/script&gt;\n",
       "    &lt;link rel=&quot;stylesheet&quot; href=&quot;https://cdn.jsdelivr.net/npm/leaflet@1.9.3/dist/leaflet.css&quot;/&gt;\n",
       "    &lt;link rel=&quot;stylesheet&quot; href=&quot;https://cdn.jsdelivr.net/npm/bootstrap@5.2.2/dist/css/bootstrap.min.css&quot;/&gt;\n",
       "    &lt;link rel=&quot;stylesheet&quot; href=&quot;https://netdna.bootstrapcdn.com/bootstrap/3.0.0/css/bootstrap.min.css&quot;/&gt;\n",
       "    &lt;link rel=&quot;stylesheet&quot; href=&quot;https://cdn.jsdelivr.net/npm/@fortawesome/fontawesome-free@6.2.0/css/all.min.css&quot;/&gt;\n",
       "    &lt;link rel=&quot;stylesheet&quot; href=&quot;https://cdnjs.cloudflare.com/ajax/libs/Leaflet.awesome-markers/2.0.2/leaflet.awesome-markers.css&quot;/&gt;\n",
       "    &lt;link rel=&quot;stylesheet&quot; href=&quot;https://cdn.jsdelivr.net/gh/python-visualization/folium/folium/templates/leaflet.awesome.rotate.min.css&quot;/&gt;\n",
       "    \n",
       "            &lt;meta name=&quot;viewport&quot; content=&quot;width=device-width,\n",
       "                initial-scale=1.0, maximum-scale=1.0, user-scalable=no&quot; /&gt;\n",
       "            &lt;style&gt;\n",
       "                #map_cfb0c0754962f6d107126a7f3d7c5111 {\n",
       "                    position: relative;\n",
       "                    width: 100.0%;\n",
       "                    height: 100.0%;\n",
       "                    left: 0.0%;\n",
       "                    top: 0.0%;\n",
       "                }\n",
       "                .leaflet-container { font-size: 1rem; }\n",
       "            &lt;/style&gt;\n",
       "        \n",
       "&lt;/head&gt;\n",
       "&lt;body&gt;\n",
       "    \n",
       "    \n",
       "            &lt;div class=&quot;folium-map&quot; id=&quot;map_cfb0c0754962f6d107126a7f3d7c5111&quot; &gt;&lt;/div&gt;\n",
       "        \n",
       "&lt;/body&gt;\n",
       "&lt;script&gt;\n",
       "    \n",
       "    \n",
       "            var map_cfb0c0754962f6d107126a7f3d7c5111 = L.map(\n",
       "                &quot;map_cfb0c0754962f6d107126a7f3d7c5111&quot;,\n",
       "                {\n",
       "                    center: [4.65283, -74.054339],\n",
       "                    crs: L.CRS.EPSG3857,\n",
       "                    zoom: 16,\n",
       "                    zoomControl: true,\n",
       "                    preferCanvas: false,\n",
       "                }\n",
       "            );\n",
       "\n",
       "            \n",
       "\n",
       "        \n",
       "    \n",
       "            var tile_layer_a15632505f2871ddc04a8131e3c0e47e = L.tileLayer(\n",
       "                &quot;https://{s}.tile.openstreetmap.org/{z}/{x}/{y}.png&quot;,\n",
       "                {&quot;attribution&quot;: &quot;Data by \\u0026copy; \\u003ca target=\\&quot;_blank\\&quot; href=\\&quot;http://openstreetmap.org\\&quot;\\u003eOpenStreetMap\\u003c/a\\u003e, under \\u003ca target=\\&quot;_blank\\&quot; href=\\&quot;http://www.openstreetmap.org/copyright\\&quot;\\u003eODbL\\u003c/a\\u003e.&quot;, &quot;detectRetina&quot;: false, &quot;maxNativeZoom&quot;: 18, &quot;maxZoom&quot;: 18, &quot;minZoom&quot;: 0, &quot;noWrap&quot;: false, &quot;opacity&quot;: 1, &quot;subdomains&quot;: &quot;abc&quot;, &quot;tms&quot;: false}\n",
       "            ).addTo(map_cfb0c0754962f6d107126a7f3d7c5111);\n",
       "        \n",
       "    \n",
       "            var marker_3d97f86165772305c4fe2e22f0c56694 = L.marker(\n",
       "                [4.65142, -74.054638],\n",
       "                {}\n",
       "            ).addTo(map_cfb0c0754962f6d107126a7f3d7c5111);\n",
       "        \n",
       "    \n",
       "        var popup_0cc5b0c1452d19fcb73664144ce9ad8f = L.popup({&quot;maxWidth&quot;: &quot;100%&quot;});\n",
       "\n",
       "        \n",
       "            \n",
       "                var html_67dbe0838d22da57a0b885cab4f36f41 = $(`&lt;div id=&quot;html_67dbe0838d22da57a0b885cab4f36f41&quot; style=&quot;width: 100.0%; height: 100.0%;&quot;&gt;Vegan Island &lt;/div&gt;`)[0];\n",
       "                popup_0cc5b0c1452d19fcb73664144ce9ad8f.setContent(html_67dbe0838d22da57a0b885cab4f36f41);\n",
       "            \n",
       "        \n",
       "\n",
       "        marker_3d97f86165772305c4fe2e22f0c56694.bindPopup(popup_0cc5b0c1452d19fcb73664144ce9ad8f)\n",
       "        ;\n",
       "\n",
       "        \n",
       "    \n",
       "    \n",
       "            var marker_7055f7406f4efce11c3f022a01642f60 = L.marker(\n",
       "                [4.651475, -74.054732],\n",
       "                {}\n",
       "            ).addTo(map_cfb0c0754962f6d107126a7f3d7c5111);\n",
       "        \n",
       "    \n",
       "        var popup_e2afed2dedf12dc2d1a1e49715a85238 = L.popup({&quot;maxWidth&quot;: &quot;100%&quot;});\n",
       "\n",
       "        \n",
       "            \n",
       "                var html_f94fcd2f3de9cd12a8bee218b1871245 = $(`&lt;div id=&quot;html_f94fcd2f3de9cd12a8bee218b1871245&quot; style=&quot;width: 100.0%; height: 100.0%;&quot;&gt;La Verdura Inquieta&lt;/div&gt;`)[0];\n",
       "                popup_e2afed2dedf12dc2d1a1e49715a85238.setContent(html_f94fcd2f3de9cd12a8bee218b1871245);\n",
       "            \n",
       "        \n",
       "\n",
       "        marker_7055f7406f4efce11c3f022a01642f60.bindPopup(popup_e2afed2dedf12dc2d1a1e49715a85238)\n",
       "        ;\n",
       "\n",
       "        \n",
       "    \n",
       "    \n",
       "            var marker_b16dc40a3c0d16f7aa62d109205f65c8 = L.marker(\n",
       "                [4.65153, -74.054834],\n",
       "                {}\n",
       "            ).addTo(map_cfb0c0754962f6d107126a7f3d7c5111);\n",
       "        \n",
       "    \n",
       "        var popup_4abab7afd3d6245ec410f46220b3fa70 = L.popup({&quot;maxWidth&quot;: &quot;100%&quot;});\n",
       "\n",
       "        \n",
       "            \n",
       "                var html_a225af349dfe7b6998e693b0a463c359 = $(`&lt;div id=&quot;html_a225af349dfe7b6998e693b0a463c359&quot; style=&quot;width: 100.0%; height: 100.0%;&quot;&gt;El Pirata del sabor vegano&lt;/div&gt;`)[0];\n",
       "                popup_4abab7afd3d6245ec410f46220b3fa70.setContent(html_a225af349dfe7b6998e693b0a463c359);\n",
       "            \n",
       "        \n",
       "\n",
       "        marker_b16dc40a3c0d16f7aa62d109205f65c8.bindPopup(popup_4abab7afd3d6245ec410f46220b3fa70)\n",
       "        ;\n",
       "\n",
       "        \n",
       "    \n",
       "    \n",
       "            var marker_8c78edefd6f1c042a65b448062226470 = L.marker(\n",
       "                [4.655471, -74.057151],\n",
       "                {}\n",
       "            ).addTo(map_cfb0c0754962f6d107126a7f3d7c5111);\n",
       "        \n",
       "    \n",
       "        var popup_f8d27095d6f65707149daa0684914112 = L.popup({&quot;maxWidth&quot;: &quot;100%&quot;});\n",
       "\n",
       "        \n",
       "            \n",
       "                var html_08231ae98566135d68b74d4a2258f415 = $(`&lt;div id=&quot;html_08231ae98566135d68b74d4a2258f415&quot; style=&quot;width: 100.0%; height: 100.0%;&quot;&gt;Muuu said the happy cow  &lt;/div&gt;`)[0];\n",
       "                popup_f8d27095d6f65707149daa0684914112.setContent(html_08231ae98566135d68b74d4a2258f415);\n",
       "            \n",
       "        \n",
       "\n",
       "        marker_8c78edefd6f1c042a65b448062226470.bindPopup(popup_f8d27095d6f65707149daa0684914112)\n",
       "        ;\n",
       "\n",
       "        \n",
       "    \n",
       "    \n",
       "            var marker_e10e4144e863ed1a06522923a9033b5f = L.marker(\n",
       "                [4.655363, -74.057581],\n",
       "                {}\n",
       "            ).addTo(map_cfb0c0754962f6d107126a7f3d7c5111);\n",
       "        \n",
       "    \n",
       "        var popup_25b1cdf4782a5c07cd67dc751b08f2d5 = L.popup({&quot;maxWidth&quot;: &quot;100%&quot;});\n",
       "\n",
       "        \n",
       "            \n",
       "                var html_cbaa02b40d7d9f2d441faf0af9071029 = $(`&lt;div id=&quot;html_cbaa02b40d7d9f2d441faf0af9071029&quot; style=&quot;width: 100.0%; height: 100.0%;&quot;&gt;Paul&#x27;s Mcarne Feast Palace&lt;/div&gt;`)[0];\n",
       "                popup_25b1cdf4782a5c07cd67dc751b08f2d5.setContent(html_cbaa02b40d7d9f2d441faf0af9071029);\n",
       "            \n",
       "        \n",
       "\n",
       "        marker_e10e4144e863ed1a06522923a9033b5f.bindPopup(popup_25b1cdf4782a5c07cd67dc751b08f2d5)\n",
       "        ;\n",
       "\n",
       "        \n",
       "    \n",
       "    \n",
       "            var marker_b81bd64e79c6e3af9eded51e25369ee4 = L.marker(\n",
       "                [4.652834, -74.054339],\n",
       "                {}\n",
       "            ).addTo(map_cfb0c0754962f6d107126a7f3d7c5111);\n",
       "        \n",
       "    \n",
       "            var icon_f5c788cf94d9b9a36617ad05b0ce0634 = L.AwesomeMarkers.icon(\n",
       "                {&quot;extraClasses&quot;: &quot;fa-rotate-0&quot;, &quot;icon&quot;: &quot;info-sign&quot;, &quot;iconColor&quot;: &quot;white&quot;, &quot;markerColor&quot;: &quot;red&quot;, &quot;prefix&quot;: &quot;glyphicon&quot;}\n",
       "            );\n",
       "            marker_b81bd64e79c6e3af9eded51e25369ee4.setIcon(icon_f5c788cf94d9b9a36617ad05b0ce0634);\n",
       "        \n",
       "    \n",
       "        var popup_c49956c4211304f111b56a29a1f75600 = L.popup({&quot;maxWidth&quot;: &quot;100%&quot;});\n",
       "\n",
       "        \n",
       "            \n",
       "                var html_19b5b0bccf73ebed8a1de00f9c31bb49 = $(`&lt;div id=&quot;html_19b5b0bccf73ebed8a1de00f9c31bb49&quot; style=&quot;width: 100.0%; height: 100.0%;&quot;&gt;Juan&lt;/div&gt;`)[0];\n",
       "                popup_c49956c4211304f111b56a29a1f75600.setContent(html_19b5b0bccf73ebed8a1de00f9c31bb49);\n",
       "            \n",
       "        \n",
       "\n",
       "        marker_b81bd64e79c6e3af9eded51e25369ee4.bindPopup(popup_c49956c4211304f111b56a29a1f75600)\n",
       "        ;\n",
       "\n",
       "        \n",
       "    \n",
       "    \n",
       "            var marker_85dab0329d0c67daff2d05286dc83c97 = L.marker(\n",
       "                [4.653065, -74.054058],\n",
       "                {}\n",
       "            ).addTo(map_cfb0c0754962f6d107126a7f3d7c5111);\n",
       "        \n",
       "    \n",
       "            var icon_69f257d3d6207587dff02e0718066523 = L.AwesomeMarkers.icon(\n",
       "                {&quot;extraClasses&quot;: &quot;fa-rotate-0&quot;, &quot;icon&quot;: &quot;info-sign&quot;, &quot;iconColor&quot;: &quot;white&quot;, &quot;markerColor&quot;: &quot;red&quot;, &quot;prefix&quot;: &quot;glyphicon&quot;}\n",
       "            );\n",
       "            marker_85dab0329d0c67daff2d05286dc83c97.setIcon(icon_69f257d3d6207587dff02e0718066523);\n",
       "        \n",
       "    \n",
       "        var popup_e938726f3660e5d36d4c543c966093fc = L.popup({&quot;maxWidth&quot;: &quot;100%&quot;});\n",
       "\n",
       "        \n",
       "            \n",
       "                var html_18d23e9dc67b6435cc59b40a4c2420ec = $(`&lt;div id=&quot;html_18d23e9dc67b6435cc59b40a4c2420ec&quot; style=&quot;width: 100.0%; height: 100.0%;&quot;&gt;Maria&lt;/div&gt;`)[0];\n",
       "                popup_e938726f3660e5d36d4c543c966093fc.setContent(html_18d23e9dc67b6435cc59b40a4c2420ec);\n",
       "            \n",
       "        \n",
       "\n",
       "        marker_85dab0329d0c67daff2d05286dc83c97.bindPopup(popup_e938726f3660e5d36d4c543c966093fc)\n",
       "        ;\n",
       "\n",
       "        \n",
       "    \n",
       "    \n",
       "            var marker_b98d4427d5c9a690a6692b255cba070e = L.marker(\n",
       "                [4.653195, -74.059075],\n",
       "                {}\n",
       "            ).addTo(map_cfb0c0754962f6d107126a7f3d7c5111);\n",
       "        \n",
       "    \n",
       "            var icon_37e9be6d316d718d6cf1fe2fc6467e13 = L.AwesomeMarkers.icon(\n",
       "                {&quot;extraClasses&quot;: &quot;fa-rotate-0&quot;, &quot;icon&quot;: &quot;info-sign&quot;, &quot;iconColor&quot;: &quot;white&quot;, &quot;markerColor&quot;: &quot;red&quot;, &quot;prefix&quot;: &quot;glyphicon&quot;}\n",
       "            );\n",
       "            marker_b98d4427d5c9a690a6692b255cba070e.setIcon(icon_37e9be6d316d718d6cf1fe2fc6467e13);\n",
       "        \n",
       "    \n",
       "        var popup_13d84d92a8dc5f74a7bb923742d15573 = L.popup({&quot;maxWidth&quot;: &quot;100%&quot;});\n",
       "\n",
       "        \n",
       "            \n",
       "                var html_7260d70b116dba52eed266ee6542b4e3 = $(`&lt;div id=&quot;html_7260d70b116dba52eed266ee6542b4e3&quot; style=&quot;width: 100.0%; height: 100.0%;&quot;&gt;Pablo&lt;/div&gt;`)[0];\n",
       "                popup_13d84d92a8dc5f74a7bb923742d15573.setContent(html_7260d70b116dba52eed266ee6542b4e3);\n",
       "            \n",
       "        \n",
       "\n",
       "        marker_b98d4427d5c9a690a6692b255cba070e.bindPopup(popup_13d84d92a8dc5f74a7bb923742d15573)\n",
       "        ;\n",
       "\n",
       "        \n",
       "    \n",
       "    \n",
       "            var marker_663f4b791ebb50796b4aab0488a3a40e = L.marker(\n",
       "                [4.653328, -74.055814],\n",
       "                {}\n",
       "            ).addTo(map_cfb0c0754962f6d107126a7f3d7c5111);\n",
       "        \n",
       "    \n",
       "            var icon_7722b012f1cd8a2be6d52af75d532fdd = L.AwesomeMarkers.icon(\n",
       "                {&quot;extraClasses&quot;: &quot;fa-rotate-0&quot;, &quot;icon&quot;: &quot;info-sign&quot;, &quot;iconColor&quot;: &quot;white&quot;, &quot;markerColor&quot;: &quot;red&quot;, &quot;prefix&quot;: &quot;glyphicon&quot;}\n",
       "            );\n",
       "            marker_663f4b791ebb50796b4aab0488a3a40e.setIcon(icon_7722b012f1cd8a2be6d52af75d532fdd);\n",
       "        \n",
       "    \n",
       "        var popup_27527fc9e1a276b50b0d00cf7410e9fe = L.popup({&quot;maxWidth&quot;: &quot;100%&quot;});\n",
       "\n",
       "        \n",
       "            \n",
       "                var html_bce83a738b6611a46caa47be7fb1a870 = $(`&lt;div id=&quot;html_bce83a738b6611a46caa47be7fb1a870&quot; style=&quot;width: 100.0%; height: 100.0%;&quot;&gt;Joaquin&lt;/div&gt;`)[0];\n",
       "                popup_27527fc9e1a276b50b0d00cf7410e9fe.setContent(html_bce83a738b6611a46caa47be7fb1a870);\n",
       "            \n",
       "        \n",
       "\n",
       "        marker_663f4b791ebb50796b4aab0488a3a40e.bindPopup(popup_27527fc9e1a276b50b0d00cf7410e9fe)\n",
       "        ;\n",
       "\n",
       "        \n",
       "    \n",
       "    \n",
       "            var marker_02b444b36866af6c788a66dcd5d09c5d = L.marker(\n",
       "                [4.653515, -74.058822],\n",
       "                {}\n",
       "            ).addTo(map_cfb0c0754962f6d107126a7f3d7c5111);\n",
       "        \n",
       "    \n",
       "            var icon_9a82058001d486aee24a4b05826dd387 = L.AwesomeMarkers.icon(\n",
       "                {&quot;extraClasses&quot;: &quot;fa-rotate-0&quot;, &quot;icon&quot;: &quot;info-sign&quot;, &quot;iconColor&quot;: &quot;white&quot;, &quot;markerColor&quot;: &quot;red&quot;, &quot;prefix&quot;: &quot;glyphicon&quot;}\n",
       "            );\n",
       "            marker_02b444b36866af6c788a66dcd5d09c5d.setIcon(icon_9a82058001d486aee24a4b05826dd387);\n",
       "        \n",
       "    \n",
       "        var popup_52b6499bbfd1893bcb9bc920401591c1 = L.popup({&quot;maxWidth&quot;: &quot;100%&quot;});\n",
       "\n",
       "        \n",
       "            \n",
       "                var html_9d4ea88cf8f9305fee289fcdeeb38128 = $(`&lt;div id=&quot;html_9d4ea88cf8f9305fee289fcdeeb38128&quot; style=&quot;width: 100.0%; height: 100.0%;&quot;&gt;Martina&lt;/div&gt;`)[0];\n",
       "                popup_52b6499bbfd1893bcb9bc920401591c1.setContent(html_9d4ea88cf8f9305fee289fcdeeb38128);\n",
       "            \n",
       "        \n",
       "\n",
       "        marker_02b444b36866af6c788a66dcd5d09c5d.bindPopup(popup_52b6499bbfd1893bcb9bc920401591c1)\n",
       "        ;\n",
       "\n",
       "        \n",
       "    \n",
       "    \n",
       "            var marker_2a640b58b63a00bf8be6b8af9d4e3ca6 = L.marker(\n",
       "                [4.653647, -74.058792],\n",
       "                {}\n",
       "            ).addTo(map_cfb0c0754962f6d107126a7f3d7c5111);\n",
       "        \n",
       "    \n",
       "            var icon_7dff60b3e8e6680db715d15b495e1903 = L.AwesomeMarkers.icon(\n",
       "                {&quot;extraClasses&quot;: &quot;fa-rotate-0&quot;, &quot;icon&quot;: &quot;info-sign&quot;, &quot;iconColor&quot;: &quot;white&quot;, &quot;markerColor&quot;: &quot;red&quot;, &quot;prefix&quot;: &quot;glyphicon&quot;}\n",
       "            );\n",
       "            marker_2a640b58b63a00bf8be6b8af9d4e3ca6.setIcon(icon_7dff60b3e8e6680db715d15b495e1903);\n",
       "        \n",
       "    \n",
       "        var popup_7129f8a1fa46870087de6743d056ab7e = L.popup({&quot;maxWidth&quot;: &quot;100%&quot;});\n",
       "\n",
       "        \n",
       "            \n",
       "                var html_17de814d7647c6194ff50fa94e6ae3d1 = $(`&lt;div id=&quot;html_17de814d7647c6194ff50fa94e6ae3d1&quot; style=&quot;width: 100.0%; height: 100.0%;&quot;&gt;Rosario&lt;/div&gt;`)[0];\n",
       "                popup_7129f8a1fa46870087de6743d056ab7e.setContent(html_17de814d7647c6194ff50fa94e6ae3d1);\n",
       "            \n",
       "        \n",
       "\n",
       "        marker_2a640b58b63a00bf8be6b8af9d4e3ca6.bindPopup(popup_7129f8a1fa46870087de6743d056ab7e)\n",
       "        ;\n",
       "\n",
       "        \n",
       "    \n",
       "&lt;/script&gt;\n",
       "&lt;/html&gt;\" style=\"position:absolute;width:100%;height:100%;left:0;top:0;border:none !important;\" allowfullscreen webkitallowfullscreen mozallowfullscreen></iframe></div></div>"
      ],
      "text/plain": [
       "<folium.folium.Map at 0x79eaf7fbb310>"
      ]
     },
     "execution_count": 9,
     "metadata": {},
     "output_type": "execute_result"
    }
   ],
   "source": [
    "import folium\n",
    "\n",
    "map = folium.Map(location = [4.65283,-74.054339], tiles = \"OpenStreetMap\", zoom_start = 16)\n",
    "# Otras opciones de tiles\n",
    "#Stamen Terrain, Toner, and Watercolor\n",
    "\n",
    "\n",
    "for i in range(0,len(restaurants)):\n",
    "   folium.Marker(\n",
    "      location=[restaurants.iloc[i]['latitud'], restaurants.iloc[i]['longitud']],\n",
    "       popup=restaurants.iloc[i]['nombre'],\n",
    "   ).add_to(map)\n",
    "\n",
    "for i in range(0,len(usuarios)):\n",
    "   folium.Marker(\n",
    "      location=[usuarios.iloc[i]['latitud'], usuarios.iloc[i]['longitud']],\n",
    "       popup=usuarios.iloc[i]['nombre'], icon=folium.Icon(color='red')\n",
    "   ).add_to(map)\n",
    "    \n",
    "\n",
    "#Display el mapa\n",
    "map\n",
    "\n"
   ]
  },
  {
   "cell_type": "markdown",
   "metadata": {},
   "source": [
    "### Midiendo Distancias"
   ]
  },
  {
   "cell_type": "code",
   "execution_count": 10,
   "metadata": {},
   "outputs": [
    {
     "data": {
      "text/html": [
       "<div>\n",
       "<style scoped>\n",
       "    .dataframe tbody tr th:only-of-type {\n",
       "        vertical-align: middle;\n",
       "    }\n",
       "\n",
       "    .dataframe tbody tr th {\n",
       "        vertical-align: top;\n",
       "    }\n",
       "\n",
       "    .dataframe thead th {\n",
       "        text-align: right;\n",
       "    }\n",
       "</style>\n",
       "<table border=\"1\" class=\"dataframe\">\n",
       "  <thead>\n",
       "    <tr style=\"text-align: right;\">\n",
       "      <th></th>\n",
       "      <th>0</th>\n",
       "      <th>1</th>\n",
       "      <th>2</th>\n",
       "      <th>3</th>\n",
       "      <th>4</th>\n",
       "    </tr>\n",
       "  </thead>\n",
       "  <tbody>\n",
       "    <tr>\n",
       "      <th>0</th>\n",
       "      <td>0.001445</td>\n",
       "      <td>0.001415</td>\n",
       "      <td>0.001395</td>\n",
       "      <td>0.003855</td>\n",
       "      <td>0.004112</td>\n",
       "    </tr>\n",
       "    <tr>\n",
       "      <th>1</th>\n",
       "      <td>0.001744</td>\n",
       "      <td>0.001727</td>\n",
       "      <td>0.001720</td>\n",
       "      <td>0.003919</td>\n",
       "      <td>0.004206</td>\n",
       "    </tr>\n",
       "    <tr>\n",
       "      <th>2</th>\n",
       "      <td>0.004779</td>\n",
       "      <td>0.004671</td>\n",
       "      <td>0.004556</td>\n",
       "      <td>0.002980</td>\n",
       "      <td>0.002633</td>\n",
       "    </tr>\n",
       "    <tr>\n",
       "      <th>3</th>\n",
       "      <td>0.002241</td>\n",
       "      <td>0.002146</td>\n",
       "      <td>0.002048</td>\n",
       "      <td>0.002526</td>\n",
       "      <td>0.002695</td>\n",
       "    </tr>\n",
       "    <tr>\n",
       "      <th>4</th>\n",
       "      <td>0.004679</td>\n",
       "      <td>0.004571</td>\n",
       "      <td>0.004455</td>\n",
       "      <td>0.002573</td>\n",
       "      <td>0.002226</td>\n",
       "    </tr>\n",
       "    <tr>\n",
       "      <th>5</th>\n",
       "      <td>0.004713</td>\n",
       "      <td>0.004604</td>\n",
       "      <td>0.004489</td>\n",
       "      <td>0.002454</td>\n",
       "      <td>0.002100</td>\n",
       "    </tr>\n",
       "  </tbody>\n",
       "</table>\n",
       "</div>"
      ],
      "text/plain": [
       "          0         1         2         3         4\n",
       "0  0.001445  0.001415  0.001395  0.003855  0.004112\n",
       "1  0.001744  0.001727  0.001720  0.003919  0.004206\n",
       "2  0.004779  0.004671  0.004556  0.002980  0.002633\n",
       "3  0.002241  0.002146  0.002048  0.002526  0.002695\n",
       "4  0.004679  0.004571  0.004455  0.002573  0.002226\n",
       "5  0.004713  0.004604  0.004489  0.002454  0.002100"
      ]
     },
     "execution_count": 10,
     "metadata": {},
     "output_type": "execute_result"
    }
   ],
   "source": [
    "usuarios.geometry.apply(lambda g: restaurants.distance(g))\n"
   ]
  },
  {
   "cell_type": "markdown",
   "metadata": {},
   "source": [
    "#### Proyecciones: La tierra no es plana!"
   ]
  },
  {
   "cell_type": "markdown",
   "metadata": {},
   "source": [
    "<div style=\"max-width:700px\">\n",
    "<img src = \"figs/proj.png\" />\n",
    "</div> "
   ]
  },
  {
   "cell_type": "code",
   "execution_count": 12,
   "metadata": {},
   "outputs": [
    {
     "data": {
      "text/html": [
       "\n",
       "        <iframe\n",
       "            width=\"700\"\n",
       "            height=\"350\"\n",
       "            src=\"https://gifs.com/gif/mercator-projection-y4xP7j\"\n",
       "            frameborder=\"0\"\n",
       "            allowfullscreen\n",
       "        ></iframe>\n",
       "        "
      ],
      "text/plain": [
       "<IPython.lib.display.IFrame at 0x79eaf6f5fa90>"
      ]
     },
     "execution_count": 12,
     "metadata": {},
     "output_type": "execute_result"
    }
   ],
   "source": [
    "from IPython.display import IFrame\n",
    "IFrame('https://gifs.com/gif/mercator-projection-y4xP7j', width=700, height=350)"
   ]
  },
  {
   "cell_type": "markdown",
   "metadata": {},
   "source": [
    "#### Calculamos la distancia\n",
    "\n",
    "[MAGNA-SIRGAS](https://epsg.io/3116): Marco Geocéntrico Nacional de Referencia,densificación del Sistema de Referencia Geocéntrico para las Américas."
   ]
  },
  {
   "cell_type": "code",
   "execution_count": null,
   "metadata": {},
   "outputs": [],
   "source": [
    "usuarios= usuarios.to_crs(3116)\n",
    "restaurants= restaurants.to_crs(3116)\n",
    "usuarios.geometry.apply(lambda g: restaurants.distance(g))"
   ]
  },
  {
   "cell_type": "markdown",
   "metadata": {},
   "source": [
    " <div style=\"max-width:500px\">\n",
    "<img src = \"figs/dist1.png\" />\n",
    "</div> "
   ]
  },
  {
   "cell_type": "markdown",
   "metadata": {},
   "source": [
    "# Filtrado Colaborativo Basado en Contenido. Análisis de textos\n",
    "\n",
    "\n",
    "- Los sistemas basados en contenido, a diferencia de los filtros colaborativos, no requieren datos relacionados a otros individuos u actividades pasadas. \n",
    "\n",
    "\n",
    "- Por el contrario, estos brindan recomendaciones basadas en el perfil del usuario y los metadatos que se tiene sobre elementos particulares.\n",
    "\n",
    "\n",
    "- Parte importante viene de la descripción de los items y esta descripción esta por lo general expresada en texto.\n",
    "\n",
    "\n",
    "- Visitaremos entonces brevemente como aprovechar esta información para mejorar las recomendaciones.\n",
    "\n",
    "\n",
    "- Para ello tenemos que encontrar el significado de las expresiones\n",
    "\n",
    "    - El principio de composicionalidad, que tiene su origen en la filosofía del lenguaje, dice que el significado de una expresión es una función de los significados de sus subexpresiones. \n",
    "    - El significado de una oración es una función de los significados de sus frases, el significado de una frase es una función de los significados de sus palabras, y el significado de una palabra es una función de los significados de sus lexemas. \n",
    "\n",
    "\n",
    "- Habiendo determinado la estructura de un fragmento de texto, encontrar su significado puede verse como un proceso de abajo hacia arriba, desde los lexemas en la parte inferior pasando por los morfemas, las oraciones, los temas, y más allá."
   ]
  },
  {
   "cell_type": "code",
   "execution_count": 13,
   "metadata": {},
   "outputs": [],
   "source": [
    "#cargamos librerias\n",
    "import pandas as pd\n",
    "import numpy as np"
   ]
  },
  {
   "cell_type": "code",
   "execution_count": 14,
   "metadata": {
    "scrolled": true
   },
   "outputs": [
    {
     "data": {
      "text/html": [
       "<div>\n",
       "<style scoped>\n",
       "    .dataframe tbody tr th:only-of-type {\n",
       "        vertical-align: middle;\n",
       "    }\n",
       "\n",
       "    .dataframe tbody tr th {\n",
       "        vertical-align: top;\n",
       "    }\n",
       "\n",
       "    .dataframe thead th {\n",
       "        text-align: right;\n",
       "    }\n",
       "</style>\n",
       "<table border=\"1\" class=\"dataframe\">\n",
       "  <thead>\n",
       "    <tr style=\"text-align: right;\">\n",
       "      <th></th>\n",
       "      <th>restaurant_id</th>\n",
       "      <th>user_id</th>\n",
       "      <th>rating</th>\n",
       "      <th>comentarios</th>\n",
       "    </tr>\n",
       "  </thead>\n",
       "  <tbody>\n",
       "    <tr>\n",
       "      <th>0</th>\n",
       "      <td>1</td>\n",
       "      <td>1</td>\n",
       "      <td>5.0</td>\n",
       "      <td>Excelente zerbicio, la comida deliziosa.</td>\n",
       "    </tr>\n",
       "    <tr>\n",
       "      <th>1</th>\n",
       "      <td>1</td>\n",
       "      <td>2</td>\n",
       "      <td>4.0</td>\n",
       "      <td>NaN</td>\n",
       "    </tr>\n",
       "    <tr>\n",
       "      <th>2</th>\n",
       "      <td>1</td>\n",
       "      <td>3</td>\n",
       "      <td>3.0</td>\n",
       "      <td>Comida mala y mal servicio</td>\n",
       "    </tr>\n",
       "    <tr>\n",
       "      <th>3</th>\n",
       "      <td>1</td>\n",
       "      <td>4</td>\n",
       "      <td>NaN</td>\n",
       "      <td>NaN</td>\n",
       "    </tr>\n",
       "    <tr>\n",
       "      <th>4</th>\n",
       "      <td>1</td>\n",
       "      <td>5</td>\n",
       "      <td>NaN</td>\n",
       "      <td>NaN</td>\n",
       "    </tr>\n",
       "    <tr>\n",
       "      <th>5</th>\n",
       "      <td>2</td>\n",
       "      <td>1</td>\n",
       "      <td>4.0</td>\n",
       "      <td>NaN</td>\n",
       "    </tr>\n",
       "    <tr>\n",
       "      <th>6</th>\n",
       "      <td>2</td>\n",
       "      <td>2</td>\n",
       "      <td>3.0</td>\n",
       "      <td>NaN</td>\n",
       "    </tr>\n",
       "    <tr>\n",
       "      <th>7</th>\n",
       "      <td>2</td>\n",
       "      <td>3</td>\n",
       "      <td>2.0</td>\n",
       "      <td>Pésima comida y pésimo servicio</td>\n",
       "    </tr>\n",
       "    <tr>\n",
       "      <th>8</th>\n",
       "      <td>2</td>\n",
       "      <td>4</td>\n",
       "      <td>NaN</td>\n",
       "      <td>NaN</td>\n",
       "    </tr>\n",
       "    <tr>\n",
       "      <th>9</th>\n",
       "      <td>2</td>\n",
       "      <td>5</td>\n",
       "      <td>NaN</td>\n",
       "      <td>NaN</td>\n",
       "    </tr>\n",
       "    <tr>\n",
       "      <th>10</th>\n",
       "      <td>3</td>\n",
       "      <td>1</td>\n",
       "      <td>5.0</td>\n",
       "      <td>Comida deliciosa, el servicio excelente!</td>\n",
       "    </tr>\n",
       "    <tr>\n",
       "      <th>11</th>\n",
       "      <td>3</td>\n",
       "      <td>2</td>\n",
       "      <td>4.0</td>\n",
       "      <td>Excelente servicio, buena comida</td>\n",
       "    </tr>\n",
       "    <tr>\n",
       "      <th>12</th>\n",
       "      <td>3</td>\n",
       "      <td>3</td>\n",
       "      <td>3.0</td>\n",
       "      <td>La comida llegó fría, el serbizio fue muy malo!</td>\n",
       "    </tr>\n",
       "    <tr>\n",
       "      <th>13</th>\n",
       "      <td>3</td>\n",
       "      <td>4</td>\n",
       "      <td>NaN</td>\n",
       "      <td>NaN</td>\n",
       "    </tr>\n",
       "    <tr>\n",
       "      <th>14</th>\n",
       "      <td>3</td>\n",
       "      <td>5</td>\n",
       "      <td>NaN</td>\n",
       "      <td>NaN</td>\n",
       "    </tr>\n",
       "    <tr>\n",
       "      <th>15</th>\n",
       "      <td>4</td>\n",
       "      <td>1</td>\n",
       "      <td>NaN</td>\n",
       "      <td>NaN</td>\n",
       "    </tr>\n",
       "    <tr>\n",
       "      <th>16</th>\n",
       "      <td>4</td>\n",
       "      <td>2</td>\n",
       "      <td>NaN</td>\n",
       "      <td>NaN</td>\n",
       "    </tr>\n",
       "    <tr>\n",
       "      <th>17</th>\n",
       "      <td>4</td>\n",
       "      <td>3</td>\n",
       "      <td>NaN</td>\n",
       "      <td>NaN</td>\n",
       "    </tr>\n",
       "    <tr>\n",
       "      <th>18</th>\n",
       "      <td>4</td>\n",
       "      <td>4</td>\n",
       "      <td>4.0</td>\n",
       "      <td>Buena comida, buen servicio</td>\n",
       "    </tr>\n",
       "    <tr>\n",
       "      <th>19</th>\n",
       "      <td>4</td>\n",
       "      <td>5</td>\n",
       "      <td>4.0</td>\n",
       "      <td>Buen menu, servicio excelente</td>\n",
       "    </tr>\n",
       "    <tr>\n",
       "      <th>20</th>\n",
       "      <td>5</td>\n",
       "      <td>1</td>\n",
       "      <td>NaN</td>\n",
       "      <td>NaN</td>\n",
       "    </tr>\n",
       "    <tr>\n",
       "      <th>21</th>\n",
       "      <td>5</td>\n",
       "      <td>2</td>\n",
       "      <td>NaN</td>\n",
       "      <td>NaN</td>\n",
       "    </tr>\n",
       "    <tr>\n",
       "      <th>22</th>\n",
       "      <td>5</td>\n",
       "      <td>3</td>\n",
       "      <td>NaN</td>\n",
       "      <td>NaN</td>\n",
       "    </tr>\n",
       "    <tr>\n",
       "      <th>23</th>\n",
       "      <td>5</td>\n",
       "      <td>4</td>\n",
       "      <td>5.0</td>\n",
       "      <td>Excelente comida y servicio</td>\n",
       "    </tr>\n",
       "    <tr>\n",
       "      <th>24</th>\n",
       "      <td>5</td>\n",
       "      <td>5</td>\n",
       "      <td>5.0</td>\n",
       "      <td>NaN</td>\n",
       "    </tr>\n",
       "  </tbody>\n",
       "</table>\n",
       "</div>"
      ],
      "text/plain": [
       "    restaurant_id  user_id  rating  \\\n",
       "0               1        1     5.0   \n",
       "1               1        2     4.0   \n",
       "2               1        3     3.0   \n",
       "3               1        4     NaN   \n",
       "4               1        5     NaN   \n",
       "5               2        1     4.0   \n",
       "6               2        2     3.0   \n",
       "7               2        3     2.0   \n",
       "8               2        4     NaN   \n",
       "9               2        5     NaN   \n",
       "10              3        1     5.0   \n",
       "11              3        2     4.0   \n",
       "12              3        3     3.0   \n",
       "13              3        4     NaN   \n",
       "14              3        5     NaN   \n",
       "15              4        1     NaN   \n",
       "16              4        2     NaN   \n",
       "17              4        3     NaN   \n",
       "18              4        4     4.0   \n",
       "19              4        5     4.0   \n",
       "20              5        1     NaN   \n",
       "21              5        2     NaN   \n",
       "22              5        3     NaN   \n",
       "23              5        4     5.0   \n",
       "24              5        5     5.0   \n",
       "\n",
       "                                        comentarios  \n",
       "0         Excelente zerbicio, la comida deliziosa.   \n",
       "1                                               NaN  \n",
       "2                        Comida mala y mal servicio  \n",
       "3                                               NaN  \n",
       "4                                               NaN  \n",
       "5                                               NaN  \n",
       "6                                               NaN  \n",
       "7                   Pésima comida y pésimo servicio  \n",
       "8                                               NaN  \n",
       "9                                               NaN  \n",
       "10         Comida deliciosa, el servicio excelente!  \n",
       "11                 Excelente servicio, buena comida  \n",
       "12  La comida llegó fría, el serbizio fue muy malo!  \n",
       "13                                              NaN  \n",
       "14                                              NaN  \n",
       "15                                              NaN  \n",
       "16                                              NaN  \n",
       "17                                              NaN  \n",
       "18                     Buena comida, buen servicio   \n",
       "19                    Buen menu, servicio excelente  \n",
       "20                                              NaN  \n",
       "21                                              NaN  \n",
       "22                                              NaN  \n",
       "23                      Excelente comida y servicio  \n",
       "24                                              NaN  "
      ]
     },
     "execution_count": 14,
     "metadata": {},
     "output_type": "execute_result"
    }
   ],
   "source": [
    "# Cargamos y visualizamos  los datos\n",
    "ratings = pd.read_csv('data/Ratings.csv', encoding='latin-1')\n",
    "ratings"
   ]
  },
  {
   "cell_type": "code",
   "execution_count": 15,
   "metadata": {},
   "outputs": [
    {
     "data": {
      "text/html": [
       "<div>\n",
       "<style scoped>\n",
       "    .dataframe tbody tr th:only-of-type {\n",
       "        vertical-align: middle;\n",
       "    }\n",
       "\n",
       "    .dataframe tbody tr th {\n",
       "        vertical-align: top;\n",
       "    }\n",
       "\n",
       "    .dataframe thead th {\n",
       "        text-align: right;\n",
       "    }\n",
       "</style>\n",
       "<table border=\"1\" class=\"dataframe\">\n",
       "  <thead>\n",
       "    <tr style=\"text-align: right;\">\n",
       "      <th></th>\n",
       "      <th>restaurant_id</th>\n",
       "      <th>user_id</th>\n",
       "      <th>rating</th>\n",
       "      <th>comentarios</th>\n",
       "    </tr>\n",
       "  </thead>\n",
       "  <tbody>\n",
       "    <tr>\n",
       "      <th>0</th>\n",
       "      <td>1</td>\n",
       "      <td>1</td>\n",
       "      <td>5.0</td>\n",
       "      <td>Excelente zerbicio, la comida deliziosa.</td>\n",
       "    </tr>\n",
       "    <tr>\n",
       "      <th>2</th>\n",
       "      <td>1</td>\n",
       "      <td>3</td>\n",
       "      <td>3.0</td>\n",
       "      <td>Comida mala y mal servicio</td>\n",
       "    </tr>\n",
       "    <tr>\n",
       "      <th>7</th>\n",
       "      <td>2</td>\n",
       "      <td>3</td>\n",
       "      <td>2.0</td>\n",
       "      <td>Pésima comida y pésimo servicio</td>\n",
       "    </tr>\n",
       "    <tr>\n",
       "      <th>10</th>\n",
       "      <td>3</td>\n",
       "      <td>1</td>\n",
       "      <td>5.0</td>\n",
       "      <td>Comida deliciosa, el servicio excelente!</td>\n",
       "    </tr>\n",
       "    <tr>\n",
       "      <th>11</th>\n",
       "      <td>3</td>\n",
       "      <td>2</td>\n",
       "      <td>4.0</td>\n",
       "      <td>Excelente servicio, buena comida</td>\n",
       "    </tr>\n",
       "    <tr>\n",
       "      <th>12</th>\n",
       "      <td>3</td>\n",
       "      <td>3</td>\n",
       "      <td>3.0</td>\n",
       "      <td>La comida llegó fría, el serbizio fue muy malo!</td>\n",
       "    </tr>\n",
       "    <tr>\n",
       "      <th>18</th>\n",
       "      <td>4</td>\n",
       "      <td>4</td>\n",
       "      <td>4.0</td>\n",
       "      <td>Buena comida, buen servicio</td>\n",
       "    </tr>\n",
       "    <tr>\n",
       "      <th>19</th>\n",
       "      <td>4</td>\n",
       "      <td>5</td>\n",
       "      <td>4.0</td>\n",
       "      <td>Buen menu, servicio excelente</td>\n",
       "    </tr>\n",
       "    <tr>\n",
       "      <th>23</th>\n",
       "      <td>5</td>\n",
       "      <td>4</td>\n",
       "      <td>5.0</td>\n",
       "      <td>Excelente comida y servicio</td>\n",
       "    </tr>\n",
       "  </tbody>\n",
       "</table>\n",
       "</div>"
      ],
      "text/plain": [
       "    restaurant_id  user_id  rating  \\\n",
       "0               1        1     5.0   \n",
       "2               1        3     3.0   \n",
       "7               2        3     2.0   \n",
       "10              3        1     5.0   \n",
       "11              3        2     4.0   \n",
       "12              3        3     3.0   \n",
       "18              4        4     4.0   \n",
       "19              4        5     4.0   \n",
       "23              5        4     5.0   \n",
       "\n",
       "                                        comentarios  \n",
       "0         Excelente zerbicio, la comida deliziosa.   \n",
       "2                        Comida mala y mal servicio  \n",
       "7                   Pésima comida y pésimo servicio  \n",
       "10         Comida deliciosa, el servicio excelente!  \n",
       "11                 Excelente servicio, buena comida  \n",
       "12  La comida llegó fría, el serbizio fue muy malo!  \n",
       "18                     Buena comida, buen servicio   \n",
       "19                    Buen menu, servicio excelente  \n",
       "23                      Excelente comida y servicio  "
      ]
     },
     "execution_count": 15,
     "metadata": {},
     "output_type": "execute_result"
    }
   ],
   "source": [
    "ratings=ratings.dropna()\n",
    "ratings"
   ]
  },
  {
   "cell_type": "markdown",
   "metadata": {},
   "source": [
    "- Necesitamos procesar el texto para que sea útil y poder capturar significado de las palabras a través de los morfemas.\n",
    "\n",
    "- Vamos a realizar unos pasos previos\n",
    "\n",
    "    - Remover elementos como stopwords, tildes, signos de puntuación, números, y cualquier otro símbolo que pueden llegar a entorpecer el análisis. En este paso las expresiones regulares son especialmente útiles. \n",
    "    \n",
    "  - Separar el texto en palabras o *tokens*\n",
    "  \n",
    "  - Encontrar los morfemas o lexemas via *lematización* o *stemming*"
   ]
  },
  {
   "cell_type": "markdown",
   "metadata": {},
   "source": [
    "##### Comencemos con la limpieza de los comentarios\n",
    "\n",
    "- Voy a mostrarles como hacerlo con la librería de procesamiento y análisis de texto, ConTexto, desarrollada por el DNP de Colombia.\n",
    "\n",
    "\n",
    "- Ver https://ucd-dnp.github.io/ConTexto/versiones/master/index.html"
   ]
  },
  {
   "cell_type": "code",
   "execution_count": 16,
   "metadata": {},
   "outputs": [
    {
     "name": "stdout",
     "output_type": "stream",
     "text": [
      "La comida llegó fría, el serbizio fue muy malo!\n"
     ]
    }
   ],
   "source": [
    "print(ratings['comentarios'][12]) "
   ]
  },
  {
   "cell_type": "code",
   "execution_count": 17,
   "metadata": {},
   "outputs": [
    {
     "name": "stdout",
     "output_type": "stream",
     "text": [
      "La comida llegó fría, el servicio fue muy malo!\n"
     ]
    }
   ],
   "source": [
    "# Cargamos las librerías a utilizar ()\n",
    "from contexto.limpieza import *\n",
    "\n",
    "from contexto.correccion import Corrector, corregir_texto\n",
    "\n",
    "\n",
    "texto_corregido = corregir_texto(ratings['comentarios'][12])\n",
    "print(texto_corregido)"
   ]
  },
  {
   "cell_type": "code",
   "execution_count": 18,
   "metadata": {},
   "outputs": [
    {
     "data": {
      "text/plain": [
       "'La comida llego fria, el servicio fue muy malo!'"
      ]
     },
     "execution_count": 18,
     "metadata": {},
     "output_type": "execute_result"
    }
   ],
   "source": [
    "# Para quitar acentos (diéresis, tildes y virgulillas)\n",
    "texto_corregido=remover_acentos(texto_corregido)\n",
    "texto_corregido"
   ]
  },
  {
   "cell_type": "code",
   "execution_count": 19,
   "metadata": {},
   "outputs": [],
   "source": [
    "import spacy\n",
    "nlp = spacy.load(\"es_core_news_sm\")\n",
    "\n",
    "# Cargamos las stopwords extra\n",
    "extra_stopwords = pd.read_csv('data/extra_stopwords.csv', sep=',',header=None)\n",
    "extra_stopwords.columns = ['stopwords']\n",
    "extra_stopwords=set(extra_stopwords['stopwords'].to_list())\n",
    "\n",
    "# Agregamos a nuestro modelo de SpaCy\n",
    "nlp.Defaults.stop_words |= extra_stopwords\n",
    "\n",
    "#print(nlp.Defaults.stop_words) # Mostrar la nueva lista de stopwords"
   ]
  },
  {
   "cell_type": "code",
   "execution_count": 20,
   "metadata": {},
   "outputs": [
    {
     "data": {
      "text/plain": [
       "'comida llego fria servicio malo'"
      ]
     },
     "execution_count": 20,
     "metadata": {},
     "output_type": "execute_result"
    }
   ],
   "source": [
    "# corremos limpieza de texto\n",
    "texto_corregido=limpieza_texto(texto_corregido,lista_palabras=extra_stopwords)\n",
    "texto_corregido"
   ]
  },
  {
   "cell_type": "markdown",
   "metadata": {},
   "source": [
    "##### Lematización\n",
    " \n",
    "- Operación que consiste en transformar las palabras de su forma flexionada (plural, femenino, conjugaciones, etc.) a su lema correspondiente, el cual es el representante de todas las formas flexionadas de una misma palabra. \n",
    " \n",
    " \n",
    " - Por ejemplo, las palabras niños, niña y niñito tienen todas el mismo lema: niño. \n",
    " \n",
    " \n",
    " - Realizar lematización sobre textos puede simplificarlos, al unificar palabras que comparten el mismo lema, y evitando así tener un vocabulario más grande de lo necesario."
   ]
  },
  {
   "cell_type": "code",
   "execution_count": 21,
   "metadata": {},
   "outputs": [
    {
     "name": "stdout",
     "output_type": "stream",
     "text": [
      "[INFO] Descargando modelo. Este proceso puede tardar varios minutos.\n",
      "\n",
      "\n",
      "[INFO] El modelo ha sido descargado.\n",
      "[INFO] Por favor correr de nuevo el script, o iniciar una nueva sesión de Python para cargarlo.\n",
      "[INFO] Hasta entonces, se utilizará un modelo en blanco.\n",
      "\n"
     ]
    },
    {
     "data": {
      "text/plain": [
       "'    '"
      ]
     },
     "execution_count": 21,
     "metadata": {},
     "output_type": "execute_result"
    }
   ],
   "source": [
    "#La primera vez que se utilice una combinación particular de lenguaje + tamaño, la librería descargará el modelo correspondiente en el computador del usuario. \n",
    "#Para usarlo, se debe reiniciar la sesión y correr la función de nuevo.\n",
    "from contexto.lematizacion import LematizadorSpacy\n",
    "from contexto.lematizacion import lematizar_texto\n",
    "\n",
    "\n",
    "texto_corregido = lematizar_texto(texto_corregido)\n",
    "\n",
    "texto_corregido"
   ]
  },
  {
   "cell_type": "code",
   "execution_count": 22,
   "metadata": {},
   "outputs": [
    {
     "name": "stdout",
     "output_type": "stream",
     "text": [
      "\n"
     ]
    }
   ],
   "source": [
    "# Agregar lemas desde un diccionario\n",
    "\n",
    "segundo_dict = {\n",
    "    \"llego\" : \"llegar\",\n",
    "    \"deliciós\": \"delicioso\",\n",
    "    \"comido\": \"comida\",\n",
    "    \"malo\":\"mal\"\n",
    "    \n",
    "}\n",
    "texto_lematizado = lematizar_texto(texto_corregido, dict_lemmas=segundo_dict)\n",
    "print(texto_lematizado)\n"
   ]
  },
  {
   "cell_type": "markdown",
   "metadata": {},
   "source": [
    "##### Stemming \n",
    "\n",
    "- El stemming es un método para reducir todas las formas flexionadas de palabras a su «raíz» o «tallo» (stem, en inglés), cuando estas comparten una misma raíz.\n",
    "\n",
    "\n",
    "- Por ejemplo, las palabras niños, niña y niñez tienen todas la misma raíz: «niñ». A diferencia de la lematización, en donde cada lema es una palabra que existe en el vocabulario del lenguaje correspondiente, las palabras raíz que se obtienen al aplicar stemming no necesariamente existen por sí solas como palabra.\n",
    "\n",
    "\n",
    "- Aplicar stemming a textos puede simplificarlos, al unificar palabras que comparten la misma raíz, y evitando así tener un vocabulario más grande de lo necesario."
   ]
  },
  {
   "cell_type": "code",
   "execution_count": 23,
   "metadata": {},
   "outputs": [
    {
     "name": "stdout",
     "output_type": "stream",
     "text": [
      "\n"
     ]
    }
   ],
   "source": [
    "from contexto.stemming import Stemmer, stem_texto\n",
    "\n",
    "# Determinar automáticamente el lenguaje del texto\n",
    "texto_stem = stem_texto(texto_lematizado, 'auto')\n",
    "print(texto_stem)"
   ]
  },
  {
   "cell_type": "markdown",
   "metadata": {},
   "source": [
    "- Podemos definir todas juntas"
   ]
  },
  {
   "cell_type": "code",
   "execution_count": 24,
   "metadata": {},
   "outputs": [
    {
     "data": {
      "text/plain": [
       "0           Excelente zerbicio, la comida deliziosa. \n",
       "2                          Comida mala y mal servicio\n",
       "7                     Pésima comida y pésimo servicio\n",
       "10           Comida deliciosa, el servicio excelente!\n",
       "11                   Excelente servicio, buena comida\n",
       "12    La comida llegó fría, el serbizio fue muy malo!\n",
       "18                       Buena comida, buen servicio \n",
       "19                      Buen menu, servicio excelente\n",
       "23                        Excelente comida y servicio\n",
       "Name: comentarios, dtype: object"
      ]
     },
     "execution_count": 24,
     "metadata": {},
     "output_type": "execute_result"
    }
   ],
   "source": [
    "ratings['comentarios']"
   ]
  },
  {
   "cell_type": "code",
   "execution_count": 25,
   "metadata": {},
   "outputs": [
    {
     "data": {
      "text/plain": [
       "0     excelente servicio comida delicioso\n",
       "2                 comida mal mal servicio\n",
       "7           pesimo comida pesimo servicio\n",
       "10    comida delicioso servicio excelente\n",
       "11         excelente servicio buen comida\n",
       "12        comida llegar frio servicio mal\n",
       "18              buen comida buen servicio\n",
       "19           buen menu servicio excelente\n",
       "23              excelente comida servicio\n",
       "Name: comentarios, dtype: object"
      ]
     },
     "execution_count": 25,
     "metadata": {},
     "output_type": "execute_result"
    }
   ],
   "source": [
    "# Funcion que limpia el texto y separa en tokens\n",
    "def text_cleaning(txt):\n",
    "\n",
    "    out = corregir_texto(txt)\n",
    "    out= remover_acentos(out)\n",
    "    out= limpieza_texto(out,lista_palabras=extra_stopwords)\n",
    "    out=lematizar_texto(out)\n",
    "    out=lematizar_texto(out, dict_lemmas=segundo_dict)\n",
    "#    out=stem_texto(out, 'auto')\n",
    "    return out\n",
    "\n",
    "\n",
    "clean = ratings['comentarios'].apply(text_cleaning)\n",
    "clean"
   ]
  },
  {
   "cell_type": "markdown",
   "metadata": {},
   "source": [
    "### Similaridad entre las comentarios"
   ]
  },
  {
   "cell_type": "code",
   "execution_count": 26,
   "metadata": {},
   "outputs": [],
   "source": [
    "from contexto.comparacion import Similitud, Distancia, DiferenciaStrings\n",
    "from contexto.vectorizacion import *\n",
    "\n",
    "# Bolsa de palabras\n",
    "v_bow = VectorizadorFrecuencias()\n",
    "v_bow.ajustar(clean)\n"
   ]
  },
  {
   "cell_type": "code",
   "execution_count": 27,
   "metadata": {},
   "outputs": [
    {
     "data": {
      "text/html": [
       "<div>\n",
       "<style scoped>\n",
       "    .dataframe tbody tr th:only-of-type {\n",
       "        vertical-align: middle;\n",
       "    }\n",
       "\n",
       "    .dataframe tbody tr th {\n",
       "        vertical-align: top;\n",
       "    }\n",
       "\n",
       "    .dataframe thead th {\n",
       "        text-align: right;\n",
       "    }\n",
       "</style>\n",
       "<table border=\"1\" class=\"dataframe\">\n",
       "  <thead>\n",
       "    <tr style=\"text-align: right;\">\n",
       "      <th></th>\n",
       "      <th>posición</th>\n",
       "      <th>palabra</th>\n",
       "    </tr>\n",
       "  </thead>\n",
       "  <tbody>\n",
       "    <tr>\n",
       "      <th>0</th>\n",
       "      <td>0</td>\n",
       "      <td>buen</td>\n",
       "    </tr>\n",
       "    <tr>\n",
       "      <th>1</th>\n",
       "      <td>1</td>\n",
       "      <td>comida</td>\n",
       "    </tr>\n",
       "    <tr>\n",
       "      <th>2</th>\n",
       "      <td>2</td>\n",
       "      <td>delicioso</td>\n",
       "    </tr>\n",
       "    <tr>\n",
       "      <th>3</th>\n",
       "      <td>3</td>\n",
       "      <td>excelente</td>\n",
       "    </tr>\n",
       "    <tr>\n",
       "      <th>4</th>\n",
       "      <td>4</td>\n",
       "      <td>frio</td>\n",
       "    </tr>\n",
       "    <tr>\n",
       "      <th>5</th>\n",
       "      <td>5</td>\n",
       "      <td>llegar</td>\n",
       "    </tr>\n",
       "    <tr>\n",
       "      <th>6</th>\n",
       "      <td>6</td>\n",
       "      <td>mal</td>\n",
       "    </tr>\n",
       "    <tr>\n",
       "      <th>7</th>\n",
       "      <td>7</td>\n",
       "      <td>menu</td>\n",
       "    </tr>\n",
       "    <tr>\n",
       "      <th>8</th>\n",
       "      <td>8</td>\n",
       "      <td>pesimo</td>\n",
       "    </tr>\n",
       "    <tr>\n",
       "      <th>9</th>\n",
       "      <td>9</td>\n",
       "      <td>servicio</td>\n",
       "    </tr>\n",
       "  </tbody>\n",
       "</table>\n",
       "</div>"
      ],
      "text/plain": [
       "   posición    palabra\n",
       "0         0       buen\n",
       "1         1     comida\n",
       "2         2  delicioso\n",
       "3         3  excelente\n",
       "4         4       frio\n",
       "5         5     llegar\n",
       "6         6        mal\n",
       "7         7       menu\n",
       "8         8     pesimo\n",
       "9         9   servicio"
      ]
     },
     "metadata": {},
     "output_type": "display_data"
    }
   ],
   "source": [
    "from IPython.display import display\n",
    "\n",
    "display(v_bow.vocabulario().head(10))"
   ]
  },
  {
   "cell_type": "code",
   "execution_count": 28,
   "metadata": {},
   "outputs": [
    {
     "data": {
      "text/plain": [
       "array([[1.        , 0.40824829, 0.40824829, 1.        , 0.75      ,\n",
       "        0.4472136 , 0.40824829, 0.5       , 0.8660254 ],\n",
       "       [0.40824829, 1.        , 0.33333333, 0.40824829, 0.40824829,\n",
       "        0.73029674, 0.33333333, 0.20412415, 0.47140452],\n",
       "       [0.40824829, 0.33333333, 1.        , 0.40824829, 0.40824829,\n",
       "        0.36514837, 0.33333333, 0.20412415, 0.47140452],\n",
       "       [1.        , 0.40824829, 0.40824829, 1.        , 0.75      ,\n",
       "        0.4472136 , 0.40824829, 0.5       , 0.8660254 ],\n",
       "       [0.75      , 0.40824829, 0.40824829, 0.75      , 1.        ,\n",
       "        0.4472136 , 0.81649658, 0.75      , 0.8660254 ],\n",
       "       [0.4472136 , 0.73029674, 0.36514837, 0.4472136 , 0.4472136 ,\n",
       "        1.        , 0.36514837, 0.2236068 , 0.51639778],\n",
       "       [0.40824829, 0.33333333, 0.33333333, 0.40824829, 0.81649658,\n",
       "        0.36514837, 1.        , 0.61237244, 0.47140452],\n",
       "       [0.5       , 0.20412415, 0.20412415, 0.5       , 0.75      ,\n",
       "        0.2236068 , 0.61237244, 1.        , 0.57735027],\n",
       "       [0.8660254 , 0.47140452, 0.47140452, 0.8660254 , 0.8660254 ,\n",
       "        0.51639778, 0.47140452, 0.57735027, 1.        ]])"
      ]
     },
     "execution_count": 28,
     "metadata": {},
     "output_type": "execute_result"
    }
   ],
   "source": [
    "# Similitud de coseno\n",
    "s_bow = Similitud(v_bow)\n",
    "coseno_bow = s_bow.coseno(clean)\n",
    "coseno_bow"
   ]
  },
  {
   "cell_type": "markdown",
   "metadata": {},
   "source": [
    "### Modelado de tópicos\n",
    "\n",
    "- Contar palabras puede ser una forma bastante buena de cuantificar de qué se trata un documento, pero no es perfecta.\n",
    "\n",
    "\n",
    "- Supongamos que estamos tratando de categorizar documentos en diferentes géneros. \n",
    "\n",
    "\n",
    "- Si un documento contiene la palabra \"láser\" o \"robot\" u otras palabras similares, esa es una buena señal de que es una palabra de ingeniería  o una historia de ciencia ficción. \n",
    "\n",
    "\n",
    "- Supongamos además que muchas de estas palabras relacionadas con la tecnología simplemente ocurren una vez, digamos, \"fotón\" aparece solo en un artículo de ingeniería y \"Warp\" aparece solo en un historia de ciencia ficción. \n",
    "\n",
    "\n",
    "- Esa no sería una muy buena evidencia de que los documentos que mencionan \"fotón\" son ingeniería y los documentos que mencionan \"Warp\" son ciencia ficción. \n",
    "\n",
    "\n",
    "- Sería más razónable que un modelo aprenda que todas estas son palabras relacionadas con la tecnología, y que las palabras relacionadas con la tecnología  son indicativas tanto de ingeniería como de ciencia ficción.\n",
    "\n",
    "\n",
    "- Es decir, estas palabras pertenecen al tema de la tecnología, y tanto la ingeniería como la ciencia ficción usan estas palabras.\n",
    "\n",
    "\n",
    "- ¿Cómo podríamos aprender esos temas automáticamente? La respuesta más utilizada es LDA\n",
    "\n",
    "\n",
    "- La idea detrás LDA, es responder ¿qué pasa si usamos vectores donde cada componente del vector es un tema diferente? \n",
    "\n",
    "\n",
    "\n",
    "- En estos casos estamos buscando encontrar de forma no supervizada cual es el factor (tópico o tema) subyacente del texto."
   ]
  },
  {
   "cell_type": "markdown",
   "metadata": {},
   "source": [
    "#### Aside: Ejemplo paso a paso\n",
    "\n",
    "En este ejemplo vamos a asumir que hay 3 documentos (D), que contienen 3 temas (K) y 7 (V) palabras\n",
    "\n",
    "- Paso 1: Definir el vocabulario"
   ]
  },
  {
   "cell_type": "code",
   "execution_count": 29,
   "metadata": {},
   "outputs": [
    {
     "name": "stdout",
     "output_type": "stream",
     "text": [
      "7\n"
     ]
    }
   ],
   "source": [
    "vocabulario = [\"gato\", \"perro\", \"vacuna\", \"hospital\", \"dinero\", \"banco\", \"impuestos\"]\n",
    "V = len(vocabulario)\n",
    "print(V)"
   ]
  },
  {
   "cell_type": "markdown",
   "metadata": {},
   "source": [
    "* ¿Por qué definir el vocabulario?*\n",
    "El vocabulario es el conjunto de palabras que pueden aparecer en nuestros documentos. Definirlo es fundamental porque todas las distribuciones de tópicos y palabras se basan en este conjunto. En LDA, cada palabra generada pertenece al vocabulario, y las probabilidades de cada tópico se asignan sobre estas palabras."
   ]
  },
  {
   "cell_type": "markdown",
   "metadata": {},
   "source": [
    "- Paso 2: Definir las distribuciones de palabras por tópico (φ)\n",
    "\n",
    "Estas salen de una Dirichlet, mas sobre esto abajo"
   ]
  },
  {
   "cell_type": "code",
   "execution_count": 30,
   "metadata": {},
   "outputs": [
    {
     "name": "stdout",
     "output_type": "stream",
     "text": [
      "[[0.4, 0.4, 0.05, 0.05, 0.03, 0.03, 0.04], [0.05, 0.05, 0.4, 0.4, 0.03, 0.03, 0.04], [0.05, 0.05, 0.05, 0.05, 0.35, 0.35, 0.1]]\n"
     ]
    }
   ],
   "source": [
    "phi_1 = [0.4, 0.4, 0.05, 0.05, 0.03, 0.03, 0.04]  # Animales\n",
    "phi_2 = [0.05, 0.05, 0.4, 0.4, 0.03, 0.03, 0.04]  # Salud\n",
    "phi_3 = [0.05, 0.05, 0.05, 0.05, 0.35, 0.35, 0.10]  # Economía\n",
    "phi = [phi_1, phi_2, phi_3]\n",
    "print(phi)"
   ]
  },
  {
   "cell_type": "markdown",
   "metadata": {},
   "source": [
    "- Paso 3: Definir mezcla de tópicos del documento (θ)\n",
    "\n",
    "Ahora si veamos como funciona la Dirichlet. Esta distribución es una de las pocas distribuciones que modela directamente vectores de probabilidades. Es decir, vectores cuyas componentes:\n",
    "\n",
    "- son no negativas,\n",
    "\n",
    "- y suman exactamente 1."
   ]
  },
  {
   "cell_type": "code",
   "execution_count": 31,
   "metadata": {},
   "outputs": [
    {
     "name": "stdout",
     "output_type": "stream",
     "text": [
      "    Topico1   Topico2   Topico3\n",
      "0  0.053042  0.014996  0.931962\n",
      "1  0.030199  0.216902  0.752899\n",
      "2  0.024299  0.018446  0.957255\n"
     ]
    }
   ],
   "source": [
    "import matplotlib.pyplot as plt\n",
    "from scipy.stats import dirichlet\n",
    "\n",
    "# Paso 3: Definir mezcla de tópicos del documento (θ)\n",
    "np.random.seed(123)\n",
    "D = 3  # número de documentos\n",
    "alpha = [1, 1, 20]  # K=3\n",
    "\n",
    "# Generar muestras de la Dirichlet\n",
    "samples = dirichlet.rvs(alpha, size=D)\n",
    "df = pd.DataFrame(samples, columns=[\"Topico1\", \"Topico2\", \"Topico3\"])\n",
    "print(df)\n"
   ]
  },
  {
   "cell_type": "code",
   "execution_count": 32,
   "metadata": {},
   "outputs": [
    {
     "name": "stdout",
     "output_type": "stream",
     "text": [
      "[0.05304217 0.01499556 0.93196227]\n"
     ]
    }
   ],
   "source": [
    "theta_d = df.iloc[0].values  # de arriba\n",
    "print(theta_d)"
   ]
  },
  {
   "cell_type": "code",
   "execution_count": 33,
   "metadata": {},
   "outputs": [
    {
     "data": {
      "image/png": "[encoded data removed]",
      "text/plain": [
       "<Figure size 432x288 with 1 Axes>"
      ]
     },
     "metadata": {
      "needs_background": "light"
     },
     "output_type": "display_data"
    }
   ],
   "source": [
    "\n",
    "# Graficar puntos de masa \n",
    "fig = plt.figure()\n",
    "ax = fig.add_subplot(111, projection='3d')\n",
    "ax.scatter(df[\"Topico1\"], df[\"Topico2\"], df[\"Topico3\"], color=\"blue\", alpha=0.5, s=50)\n",
    "ax.set_xlabel(\"Tópico 1\")\n",
    "ax.set_ylabel(\"Tópico 2\")\n",
    "ax.set_zlabel(\"Tópico 3\")\n",
    "plt.title(\"Muestras de una Dirichlet\")\n",
    "plt.show()"
   ]
  },
  {
   "cell_type": "markdown",
   "metadata": {},
   "source": [
    "- Paso 4: Número de palabras en el documento"
   ]
  },
  {
   "cell_type": "code",
   "execution_count": 34,
   "metadata": {},
   "outputs": [],
   "source": [
    "N = 10\n"
   ]
  },
  {
   "cell_type": "markdown",
   "metadata": {},
   "source": [
    "- Paso 5: Generar los tópicos z_1, ..., z_N"
   ]
  },
  {
   "cell_type": "code",
   "execution_count": 35,
   "metadata": {},
   "outputs": [
    {
     "name": "stdout",
     "output_type": "stream",
     "text": [
      "[2 3 3 3 3 3 3 3 3 3]\n"
     ]
    }
   ],
   "source": [
    "z = np.random.choice([1, 2, 3], size=N, replace=True, p=theta_d)\n",
    "print(z)"
   ]
  },
  {
   "cell_type": "markdown",
   "metadata": {},
   "source": [
    "- Paso 6: Generar palabras según los tópicos"
   ]
  },
  {
   "cell_type": "code",
   "execution_count": 36,
   "metadata": {},
   "outputs": [
    {
     "data": {
      "text/html": [
       "<div>\n",
       "<style scoped>\n",
       "    .dataframe tbody tr th:only-of-type {\n",
       "        vertical-align: middle;\n",
       "    }\n",
       "\n",
       "    .dataframe tbody tr th {\n",
       "        vertical-align: top;\n",
       "    }\n",
       "\n",
       "    .dataframe thead th {\n",
       "        text-align: right;\n",
       "    }\n",
       "</style>\n",
       "<table border=\"1\" class=\"dataframe\">\n",
       "  <thead>\n",
       "    <tr style=\"text-align: right;\">\n",
       "      <th></th>\n",
       "      <th>Posición</th>\n",
       "      <th>Palabra</th>\n",
       "      <th>Tópico</th>\n",
       "    </tr>\n",
       "  </thead>\n",
       "  <tbody>\n",
       "    <tr>\n",
       "      <th>0</th>\n",
       "      <td>1</td>\n",
       "      <td>hospital</td>\n",
       "      <td>2</td>\n",
       "    </tr>\n",
       "    <tr>\n",
       "      <th>1</th>\n",
       "      <td>2</td>\n",
       "      <td>banco</td>\n",
       "      <td>3</td>\n",
       "    </tr>\n",
       "    <tr>\n",
       "      <th>2</th>\n",
       "      <td>3</td>\n",
       "      <td>dinero</td>\n",
       "      <td>3</td>\n",
       "    </tr>\n",
       "    <tr>\n",
       "      <th>3</th>\n",
       "      <td>4</td>\n",
       "      <td>dinero</td>\n",
       "      <td>3</td>\n",
       "    </tr>\n",
       "    <tr>\n",
       "      <th>4</th>\n",
       "      <td>5</td>\n",
       "      <td>dinero</td>\n",
       "      <td>3</td>\n",
       "    </tr>\n",
       "    <tr>\n",
       "      <th>5</th>\n",
       "      <td>6</td>\n",
       "      <td>dinero</td>\n",
       "      <td>3</td>\n",
       "    </tr>\n",
       "    <tr>\n",
       "      <th>6</th>\n",
       "      <td>7</td>\n",
       "      <td>banco</td>\n",
       "      <td>3</td>\n",
       "    </tr>\n",
       "    <tr>\n",
       "      <th>7</th>\n",
       "      <td>8</td>\n",
       "      <td>perro</td>\n",
       "      <td>3</td>\n",
       "    </tr>\n",
       "    <tr>\n",
       "      <th>8</th>\n",
       "      <td>9</td>\n",
       "      <td>dinero</td>\n",
       "      <td>3</td>\n",
       "    </tr>\n",
       "    <tr>\n",
       "      <th>9</th>\n",
       "      <td>10</td>\n",
       "      <td>dinero</td>\n",
       "      <td>3</td>\n",
       "    </tr>\n",
       "  </tbody>\n",
       "</table>\n",
       "</div>"
      ],
      "text/plain": [
       "   Posición   Palabra  Tópico\n",
       "0         1  hospital       2\n",
       "1         2     banco       3\n",
       "2         3    dinero       3\n",
       "3         4    dinero       3\n",
       "4         5    dinero       3\n",
       "5         6    dinero       3\n",
       "6         7     banco       3\n",
       "7         8     perro       3\n",
       "8         9    dinero       3\n",
       "9        10    dinero       3"
      ]
     },
     "execution_count": 36,
     "metadata": {},
     "output_type": "execute_result"
    }
   ],
   "source": [
    "w = []\n",
    "for n in range(N):\n",
    "  topic_idx = z[n] - 1  # z es 1-indexado, Python usa 0-indexado\n",
    "  word = np.random.choice(vocabulario, size=1, p=phi[topic_idx])[0]\n",
    "  w.append(word)\n",
    "\n",
    "# Resultado: palabras generadas\n",
    "pd.DataFrame({\"Posición\": range(1, N+1), \"Palabra\": w, \"Tópico\": z})"
   ]
  },
  {
   "cell_type": "markdown",
   "metadata": {},
   "source": [
    "- Paso 7: Bag of Words (conteo por palabra)"
   ]
  },
  {
   "cell_type": "code",
   "execution_count": 37,
   "metadata": {},
   "outputs": [
    {
     "name": "stdout",
     "output_type": "stream",
     "text": [
      "{'gato': 0, 'perro': 1, 'vacuna': 0, 'hospital': 1, 'dinero': 6, 'banco': 2, 'impuestos': 0}\n"
     ]
    }
   ],
   "source": [
    "from collections import Counter\n",
    "\n",
    "bow = Counter(w)\n",
    "bow_ordered = {word: bow.get(word, 0) for word in vocabulario}\n",
    "print(bow_ordered)\n"
   ]
  },
  {
   "cell_type": "code",
   "execution_count": 38,
   "metadata": {},
   "outputs": [
    {
     "data": {
      "image/png": "[encoded data removed]",
      "text/plain": [
       "<Figure size 432x288 with 1 Axes>"
      ]
     },
     "metadata": {
      "needs_background": "light"
     },
     "output_type": "display_data"
    }
   ],
   "source": [
    "import seaborn as sns\n",
    "import matplotlib.pyplot as plt\n",
    "\n",
    "sns.barplot(x=list(bow_ordered.keys()), y=list(bow_ordered.values()))\n",
    "plt.title(\"Frecuencia de palabras (Bag of Words)\")\n",
    "plt.ylabel(\"Frecuencia\")\n",
    "plt.xlabel(\"Palabra\")\n",
    "plt.show()"
   ]
  },
  {
   "cell_type": "markdown",
   "metadata": {},
   "source": [
    "#### Ingenieria reversa\n",
    "\n",
    "Hasta ahora, simulamos documentos **generando** palabras. Pero en la realidad en la pratica\n",
    "\n",
    "* Un corpus de documentos reales → textos observados.\n",
    "* Una representación en BoW o DTM.\n",
    "\n",
    "\n",
    "Lo que buscamos es inferir los **parámetros** del modelo:\n",
    "\n",
    "  * Las mezclas de tópicos por documento $\\theta_d$,\n",
    "  * Las distribuciones de palabras por tópico $\\phi_k$,\n",
    "  * Las asignaciones de tópicos $z_{d,n}$ para cada palabra.\n",
    "\n",
    "Es la ingenieria reversa de MLE: queremos encontrar los parámetros que hacen más **verosímil** (más probable) haber observado nuestros documentos.\n",
    "\n",
    "\n",
    "$$\n",
    "\\max_{\\theta, \\phi} \\ p(\\text{documentos} \\mid \\theta, \\phi)\n",
    "$$\n",
    "\n",
    "Pero en LDA no observamos los $z_{d,n}$, ni $\\theta$, ni $\\phi$. \n",
    "\n",
    "**Solo observamos las palabras.**\n",
    "\n",
    "El problema a resolver es la siguiente verosimilitud:\n",
    "\n",
    "$$\n",
    "p(\\mathbf{w} \\mid \\alpha, \\beta) = \\int \\sum_{\\mathbf{z}} p(\\mathbf{w}, \\mathbf{z}, \\theta, \\phi \\mid \\alpha, \\beta) \\ d\\theta \\ d\\phi\n",
    "$$\n",
    "\n",
    "Este término **no se puede calcular exactamente**: la suma sobre todas las posibles asignaciones de tópicos $\\mathbf{z}$ es **exponencial**.\n",
    "\n",
    "¿Por qué es \"exponencial\"?\n",
    "\n",
    "Porque si: hay $N$ palabras en total en el corpus,  y cada palabra puede tener **uno de $K$ tópicos**, entonces hay: $K^N$ posibles combinaciones de asignaciones de tópicos. Ejemplo: supongamos\n",
    "\n",
    "* 2 documentos, cada uno con 10 palabras → $N = 20$,\n",
    "* 3 posibles tópicos → $K = 3$\n",
    "\n",
    "Entonces hay:\n",
    "\n",
    "$$\n",
    "3^{20} = 3,486,784,401\n",
    "$$\n",
    "\n",
    "combinaciones posibles de $\\mathbf{z}$. \n",
    "\n",
    "Entonces\n",
    "\n",
    "* No podemos **sumar sobre todas** esas posibilidades explícitamente.\n",
    "* Por eso necesitamos métodos que **aproximen esa suma**:\n",
    "\n",
    "\n",
    "En la practica hay varios métodos de **inferencia aproximada**, que estiman los parámetros.\n",
    "\n",
    "Los dos más comunes:\n",
    "\n",
    "1. **Gibbs Sampling** (una forma de MCMC)\n",
    "2. **Variational Inference** (una versión determinista, más rápida)\n"
   ]
  },
  {
   "cell_type": "markdown",
   "metadata": {},
   "source": [
    "#### Regresamos a nuestro ejemplo de los comentarios"
   ]
  },
  {
   "cell_type": "code",
   "execution_count": 39,
   "metadata": {},
   "outputs": [
    {
     "data": {
      "text/plain": [
       "0     [excelente, servicio, comida, delicioso]\n",
       "2                 [comida, mal, mal, servicio]\n",
       "7           [pesimo, comida, pesimo, servicio]\n",
       "10    [comida, delicioso, servicio, excelente]\n",
       "11         [excelente, servicio, buen, comida]\n",
       "12       [comida, llegar, frio, servicio, mal]\n",
       "18              [buen, comida, buen, servicio]\n",
       "19           [buen, menu, servicio, excelente]\n",
       "23               [excelente, comida, servicio]\n",
       "Name: comentarios, dtype: object"
      ]
     },
     "execution_count": 39,
     "metadata": {},
     "output_type": "execute_result"
    }
   ],
   "source": [
    "# Cargamos la función \n",
    "from gensim.corpora import Dictionary\n",
    "\n",
    "#helper function\n",
    "def splitter(txt):\n",
    "    out = txt.split(\" \")\n",
    "    return out\n",
    "\n",
    "clean = clean.apply(splitter)\n",
    "clean"
   ]
  },
  {
   "cell_type": "code",
   "execution_count": 40,
   "metadata": {},
   "outputs": [
    {
     "data": {
      "text/plain": [
       "<gensim.corpora.dictionary.Dictionary at 0x79e9ca6d49d0>"
      ]
     },
     "execution_count": 40,
     "metadata": {},
     "output_type": "execute_result"
    }
   ],
   "source": [
    "# Creamos la representación de diccionario del documento\n",
    "dictionary = Dictionary(clean)\n",
    "dictionary\n"
   ]
  },
  {
   "cell_type": "code",
   "execution_count": 41,
   "metadata": {},
   "outputs": [
    {
     "data": {
      "text/plain": [
       "[[(0, 1), (1, 1), (2, 1), (3, 1)],\n",
       " [(0, 1), (3, 1), (4, 2)],\n",
       " [(0, 1), (3, 1), (5, 2)],\n",
       " [(0, 1), (1, 1), (2, 1), (3, 1)],\n",
       " [(0, 1), (2, 1), (3, 1), (6, 1)],\n",
       " [(0, 1), (3, 1), (4, 1), (7, 1), (8, 1)],\n",
       " [(0, 1), (3, 1), (6, 2)],\n",
       " [(2, 1), (3, 1), (6, 1), (9, 1)],\n",
       " [(0, 1), (2, 1), (3, 1)]]"
      ]
     },
     "execution_count": 41,
     "metadata": {},
     "output_type": "execute_result"
    }
   ],
   "source": [
    "corpus = [dictionary.doc2bow(doc) for doc in clean]\n",
    "corpus"
   ]
  },
  {
   "cell_type": "code",
   "execution_count": 42,
   "metadata": {},
   "outputs": [],
   "source": [
    "from gensim.models import LdaModel\n",
    "\n",
    "Estimacion = LdaModel(\n",
    "    corpus=corpus,\n",
    "    id2word=dictionary,\n",
    "    num_topics=4,\n",
    "    chunksize=1000,\n",
    "    passes=20,\n",
    "    iterations=400,\n",
    "    alpha='auto',\n",
    "    eta='auto',\n",
    "    random_state=123,\n",
    "    eval_every=None\n",
    ")"
   ]
  },
  {
   "cell_type": "code",
   "execution_count": 43,
   "metadata": {},
   "outputs": [
    {
     "name": "stdout",
     "output_type": "stream",
     "text": [
      "[(0,\n",
      "  '0.193*\"menu\" + 0.192*\"buen\" + 0.192*\"excelente\" + 0.192*\"servicio\" + '\n",
      "  '0.039*\"comida\" + 0.039*\"delicioso\" + 0.039*\"pesimo\" + 0.039*\"mal\" + '\n",
      "  '0.039*\"frio\" + 0.039*\"llegar\"'),\n",
      " (1,\n",
      "  '0.245*\"servicio\" + 0.244*\"comida\" + 0.198*\"excelente\" + 0.151*\"buen\" + '\n",
      "  '0.104*\"delicioso\" + 0.012*\"mal\" + 0.012*\"llegar\" + 0.012*\"frio\" + '\n",
      "  '0.012*\"menu\" + 0.012*\"pesimo\"'),\n",
      " (2,\n",
      "  '0.283*\"mal\" + 0.195*\"servicio\" + 0.195*\"comida\" + 0.109*\"frio\" + '\n",
      "  '0.109*\"llegar\" + 0.022*\"excelente\" + 0.022*\"buen\" + 0.022*\"pesimo\" + '\n",
      "  '0.022*\"delicioso\" + 0.022*\"menu\"'),\n",
      " (3,\n",
      "  '0.347*\"pesimo\" + 0.192*\"comida\" + 0.192*\"servicio\" + 0.039*\"excelente\" + '\n",
      "  '0.039*\"delicioso\" + 0.039*\"buen\" + 0.039*\"mal\" + 0.039*\"menu\" + '\n",
      "  '0.039*\"llegar\" + 0.039*\"frio\"')]\n"
     ]
    }
   ],
   "source": [
    "from pprint import pprint\n",
    "\n",
    "pprint(Estimacion.print_topics())"
   ]
  },
  {
   "cell_type": "code",
   "execution_count": 45,
   "metadata": {},
   "outputs": [],
   "source": [
    "?LdaModel.get_document_topics\n"
   ]
  },
  {
   "cell_type": "code",
   "execution_count": 46,
   "metadata": {},
   "outputs": [
    {
     "data": {
      "text/plain": [
       "[[(0, 0.012655084), (1, 0.95526034), (2, 0.019107873), (3, 0.012976743)],\n",
       " [(0, 0.012655079), (1, 0.046342954), (2, 0.9280252), (3, 0.0129767405)],\n",
       " [(0, 0.012655081), (1, 0.04660532), (2, 0.01910816), (3, 0.92163146)],\n",
       " [(0, 0.012655084), (1, 0.95526034), (2, 0.019107873), (3, 0.012976743)],\n",
       " [(0, 0.012655082), (1, 0.95526034), (2, 0.019107867), (3, 0.0129767405)],\n",
       " [(0, 0.010309739), (1, 0.037556592), (2, 0.94156194), (3, 0.010571787)],\n",
       " [(0, 0.012655083), (1, 0.95526034), (2, 0.019107869), (3, 0.012976742)],\n",
       " [(0, 0.92106533), (1, 0.046850067), (2, 0.019107834), (3, 0.012976742)],\n",
       " [(0, 0.016381735), (1, 0.94208527), (2, 0.024734909), (3, 0.016798118)]]"
      ]
     },
     "execution_count": 46,
     "metadata": {},
     "output_type": "execute_result"
    }
   ],
   "source": [
    "l=[Estimacion.get_document_topics(item) for item in corpus]\n",
    "l"
   ]
  },
  {
   "cell_type": "markdown",
   "metadata": {},
   "source": [
    "## Consideraciones sobre LDA\n",
    "\n",
    "\n",
    "- Cuando se analiza el modelado de tópicos, es importante reforzar continuamente el hecho de que los grupos de palabras que representan los tópicos no están relacionados conceptualmente; están relacionados solo por proximidad. \n",
    "\n",
    "\n",
    "- La proximidad frecuente de ciertas palabras en los documentos es suficiente para definir tópicos debido a que estamos asumiendo que todas las palabras en el mismo documento están relacionadas.\n",
    "\n",
    "\n",
    "- Sin embargo, esta suposición puede no ser cierta o las palabras pueden ser demasiado genéricas para formar tópicos coherentes. \n",
    "\n",
    "\n",
    "- La interpretación de tópicos abstractos implica equilibrar las características innatas de los datos de texto con las agrupaciones de palabras generadas. \n",
    "\n",
    "\n",
    "- Es importante tener en cuenta también que la naturaleza ruidosa de los datos de texto puede hacer que los modelos de temas asignen palabras no relacionadas con uno de los tópicos a ese tema en particular. \n",
    "\n",
    "\n",
    "- Recuerden \"GIGO\" (garbage in, garbage out) si entra basura, sale basura. "
   ]
  },
  {
   "cell_type": "markdown",
   "metadata": {},
   "source": [
    "# Información de Sesión"
   ]
  },
  {
   "cell_type": "code",
   "execution_count": null,
   "metadata": {},
   "outputs": [],
   "source": [
    "import session_info\n",
    "\n",
    "session_info.show(html=False)"
   ]
  },
  {
   "cell_type": "code",
   "execution_count": null,
   "metadata": {},
   "outputs": [],
   "source": []
  }
 ],
 "metadata": {
  "kernelspec": {
   "display_name": "Python 3",
   "language": "python",
   "name": "python3"
  },
  "language_info": {
   "codemirror_mode": {
    "name": "ipython",
    "version": 3
   },
   "file_extension": ".py",
   "mimetype": "text/x-python",
   "name": "python",
   "nbconvert_exporter": "python",
   "pygments_lexer": "ipython3",
   "version": "3.7.6"
  },
  "toc": {
   "base_numbering": 1,
   "nav_menu": {},
   "number_sections": true,
   "sideBar": true,
   "skip_h1_title": false,
   "title_cell": "Table of Contents",
   "title_sidebar": "Contents",
   "toc_cell": false,
   "toc_position": {
    "height": "calc(100% - 180px)",
    "left": "10px",
    "top": "150px",
    "width": "150.4px"
   },
   "toc_section_display": true,
   "toc_window_display": false
  }
 },
 "nbformat": 4,
 "nbformat_minor": 5
}
